{
  "nbformat": 4,
  "nbformat_minor": 0,
  "metadata": {
    "kernelspec": {
      "display_name": "Python 3",
      "language": "python",
      "name": "python3"
    },
    "language_info": {
      "codemirror_mode": {
        "name": "ipython",
        "version": 3
      },
      "file_extension": ".py",
      "mimetype": "text/x-python",
      "name": "python",
      "nbconvert_exporter": "python",
      "pygments_lexer": "ipython3",
      "version": "3.8.5"
    },
    "colab": {
      "name": "ARIMA.ipynb",
      "provenance": [],
      "include_colab_link": true
    }
  },
  "cells": [
    {
      "cell_type": "markdown",
      "metadata": {
        "id": "view-in-github",
        "colab_type": "text"
      },
      "source": [
        "<a href=\"https://colab.research.google.com/github/Sinudeshmukh/Data-Science/blob/main/ARIMA.ipynb\" target=\"_parent\"><img src=\"https://colab.research.google.com/assets/colab-badge.svg\" alt=\"Open In Colab\"/></a>"
      ]
    },
    {
      "cell_type": "markdown",
      "metadata": {
        "id": "JNVXZSZPVcGq"
      },
      "source": [
        "# Autoregressive Integrated Moving Averages\n",
        "\n",
        "Recall that an <strong>AR(1)</strong> model follows the formula\n",
        "\n",
        "&nbsp;&nbsp;&nbsp;&nbsp;$y_{t} = c + \\phi_{1}y_{t-1} + \\varepsilon_{t}$\n",
        "\n",
        "while an <strong>MA(1)</strong> model follows the formula\n",
        "\n",
        "&nbsp;&nbsp;&nbsp;&nbsp;$y_{t} = \\mu + \\theta_{1}\\varepsilon_{t-1} + \\varepsilon_{t}$\n",
        "\n",
        "where $c$ is a constant, $\\mu$ is the expectation of $y_{t}$ (often assumed to be zero), $\\phi_1$ is the AR lag coefficient, $\\theta_1$ (theta-sub-one) is the MA lag coefficient, and $\\varepsilon$ (epsilon) is white noise.\n",
        "\n",
        "An <strong>ARMA(1,1)</strong> model therefore follows\n",
        "\n",
        "&nbsp;&nbsp;&nbsp;&nbsp;$y_{t} = c + \\phi_{1}y_{t-1} + \\theta_{1}\\varepsilon_{t-1} + \\varepsilon_{t}$"
      ]
    },
    {
      "cell_type": "code",
      "metadata": {
        "id": "8vKKcId2VcG5"
      },
      "source": [
        "import warnings\n",
        "warnings.filterwarnings(\"ignore\")"
      ],
      "execution_count": null,
      "outputs": []
    },
    {
      "cell_type": "code",
      "metadata": {
        "id": "c8kVCUxnVcG7"
      },
      "source": [
        "import pandas as pd\n",
        "import numpy as np\n",
        "import matplotlib.pyplot as plt"
      ],
      "execution_count": null,
      "outputs": []
    },
    {
      "cell_type": "markdown",
      "metadata": {
        "id": "7LgkGE-mVcG8"
      },
      "source": [
        "## Augmented Dickey Fuller Test"
      ]
    },
    {
      "cell_type": "code",
      "metadata": {
        "id": "bAmz9dP0VcG8"
      },
      "source": [
        "from statsmodels.tsa.stattools import adfuller\n",
        "def adf_test(series):    \n",
        "    result = adfuller(series.dropna())  \n",
        "    labels = ['ADF test statistic','p-value','# lags used','# observations']\n",
        "    out = pd.Series(result[0:4],index=labels)\n",
        "    #for key,val in result[4].items():\n",
        "        #out[f'critical value ({key})']=val\n",
        "    if result[1] <= 0.05:\n",
        "        print(\"Reject the null hypothesis\")\n",
        "        print(\"Data is stationary\")\n",
        "    else:\n",
        "        print(\"Fail to reject the null hypothesis\")\n",
        "        print(\"Data is non-stationary\")"
      ],
      "execution_count": null,
      "outputs": []
    },
    {
      "cell_type": "code",
      "metadata": {
        "id": "JO8JftJlVcG9",
        "outputId": "f5e9b376-f6af-4929-d091-d5737a085896"
      },
      "source": [
        "# Load datasets\n",
        "df1 = pd.read_csv('../DailyTotalFemaleBirths.csv',index_col='Date',parse_dates=True)\n",
        "df1.index.freq = 'D'\n",
        "df1 = df1[:120]  # we only want the first four months\n",
        "df1"
      ],
      "execution_count": null,
      "outputs": [
        {
          "output_type": "execute_result",
          "data": {
            "text/html": [
              "<div>\n",
              "<style scoped>\n",
              "    .dataframe tbody tr th:only-of-type {\n",
              "        vertical-align: middle;\n",
              "    }\n",
              "\n",
              "    .dataframe tbody tr th {\n",
              "        vertical-align: top;\n",
              "    }\n",
              "\n",
              "    .dataframe thead th {\n",
              "        text-align: right;\n",
              "    }\n",
              "</style>\n",
              "<table border=\"1\" class=\"dataframe\">\n",
              "  <thead>\n",
              "    <tr style=\"text-align: right;\">\n",
              "      <th></th>\n",
              "      <th>Births</th>\n",
              "    </tr>\n",
              "    <tr>\n",
              "      <th>Date</th>\n",
              "      <th></th>\n",
              "    </tr>\n",
              "  </thead>\n",
              "  <tbody>\n",
              "    <tr>\n",
              "      <th>1959-01-01</th>\n",
              "      <td>35</td>\n",
              "    </tr>\n",
              "    <tr>\n",
              "      <th>1959-01-02</th>\n",
              "      <td>32</td>\n",
              "    </tr>\n",
              "    <tr>\n",
              "      <th>1959-01-03</th>\n",
              "      <td>30</td>\n",
              "    </tr>\n",
              "    <tr>\n",
              "      <th>1959-01-04</th>\n",
              "      <td>31</td>\n",
              "    </tr>\n",
              "    <tr>\n",
              "      <th>1959-01-05</th>\n",
              "      <td>44</td>\n",
              "    </tr>\n",
              "    <tr>\n",
              "      <th>...</th>\n",
              "      <td>...</td>\n",
              "    </tr>\n",
              "    <tr>\n",
              "      <th>1959-04-26</th>\n",
              "      <td>35</td>\n",
              "    </tr>\n",
              "    <tr>\n",
              "      <th>1959-04-27</th>\n",
              "      <td>40</td>\n",
              "    </tr>\n",
              "    <tr>\n",
              "      <th>1959-04-28</th>\n",
              "      <td>42</td>\n",
              "    </tr>\n",
              "    <tr>\n",
              "      <th>1959-04-29</th>\n",
              "      <td>58</td>\n",
              "    </tr>\n",
              "    <tr>\n",
              "      <th>1959-04-30</th>\n",
              "      <td>51</td>\n",
              "    </tr>\n",
              "  </tbody>\n",
              "</table>\n",
              "<p>120 rows × 1 columns</p>\n",
              "</div>"
            ],
            "text/plain": [
              "            Births\n",
              "Date              \n",
              "1959-01-01      35\n",
              "1959-01-02      32\n",
              "1959-01-03      30\n",
              "1959-01-04      31\n",
              "1959-01-05      44\n",
              "...            ...\n",
              "1959-04-26      35\n",
              "1959-04-27      40\n",
              "1959-04-28      42\n",
              "1959-04-29      58\n",
              "1959-04-30      51\n",
              "\n",
              "[120 rows x 1 columns]"
            ]
          },
          "metadata": {
            "tags": []
          },
          "execution_count": 6
        }
      ]
    },
    {
      "cell_type": "code",
      "metadata": {
        "id": "wmxNfr47VcG-",
        "outputId": "b675101a-5f63-4bc1-a3f8-f2ff078c5251"
      },
      "source": [
        "df2 = pd.read_csv('../TradeInventories.csv',index_col='Date',parse_dates=True)\n",
        "df2.index.freq='MS'\n",
        "df2"
      ],
      "execution_count": null,
      "outputs": [
        {
          "output_type": "execute_result",
          "data": {
            "text/html": [
              "<div>\n",
              "<style scoped>\n",
              "    .dataframe tbody tr th:only-of-type {\n",
              "        vertical-align: middle;\n",
              "    }\n",
              "\n",
              "    .dataframe tbody tr th {\n",
              "        vertical-align: top;\n",
              "    }\n",
              "\n",
              "    .dataframe thead th {\n",
              "        text-align: right;\n",
              "    }\n",
              "</style>\n",
              "<table border=\"1\" class=\"dataframe\">\n",
              "  <thead>\n",
              "    <tr style=\"text-align: right;\">\n",
              "      <th></th>\n",
              "      <th>Inventories</th>\n",
              "    </tr>\n",
              "    <tr>\n",
              "      <th>Date</th>\n",
              "      <th></th>\n",
              "    </tr>\n",
              "  </thead>\n",
              "  <tbody>\n",
              "    <tr>\n",
              "      <th>1997-01-01</th>\n",
              "      <td>1301161</td>\n",
              "    </tr>\n",
              "    <tr>\n",
              "      <th>1997-02-01</th>\n",
              "      <td>1307080</td>\n",
              "    </tr>\n",
              "    <tr>\n",
              "      <th>1997-03-01</th>\n",
              "      <td>1303978</td>\n",
              "    </tr>\n",
              "    <tr>\n",
              "      <th>1997-04-01</th>\n",
              "      <td>1319740</td>\n",
              "    </tr>\n",
              "    <tr>\n",
              "      <th>1997-05-01</th>\n",
              "      <td>1327294</td>\n",
              "    </tr>\n",
              "    <tr>\n",
              "      <th>...</th>\n",
              "      <td>...</td>\n",
              "    </tr>\n",
              "    <tr>\n",
              "      <th>2018-08-01</th>\n",
              "      <td>2127170</td>\n",
              "    </tr>\n",
              "    <tr>\n",
              "      <th>2018-09-01</th>\n",
              "      <td>2134172</td>\n",
              "    </tr>\n",
              "    <tr>\n",
              "      <th>2018-10-01</th>\n",
              "      <td>2144639</td>\n",
              "    </tr>\n",
              "    <tr>\n",
              "      <th>2018-11-01</th>\n",
              "      <td>2143001</td>\n",
              "    </tr>\n",
              "    <tr>\n",
              "      <th>2018-12-01</th>\n",
              "      <td>2158115</td>\n",
              "    </tr>\n",
              "  </tbody>\n",
              "</table>\n",
              "<p>264 rows × 1 columns</p>\n",
              "</div>"
            ],
            "text/plain": [
              "            Inventories\n",
              "Date                   \n",
              "1997-01-01      1301161\n",
              "1997-02-01      1307080\n",
              "1997-03-01      1303978\n",
              "1997-04-01      1319740\n",
              "1997-05-01      1327294\n",
              "...                 ...\n",
              "2018-08-01      2127170\n",
              "2018-09-01      2134172\n",
              "2018-10-01      2144639\n",
              "2018-11-01      2143001\n",
              "2018-12-01      2158115\n",
              "\n",
              "[264 rows x 1 columns]"
            ]
          },
          "metadata": {
            "tags": []
          },
          "execution_count": 8
        }
      ]
    },
    {
      "cell_type": "markdown",
      "metadata": {
        "id": "sFudAV8vVcG_"
      },
      "source": [
        "---\n",
        "# EDA \n",
        "---"
      ]
    },
    {
      "cell_type": "code",
      "metadata": {
        "id": "aVsk2ZFHVcHA",
        "outputId": "fa98f8fc-d6c2-4b03-e2f9-42d09cbfb3e7"
      },
      "source": [
        "df2['Inventories'].plot()\n",
        "plt.show()"
      ],
      "execution_count": null,
      "outputs": [
        {
          "output_type": "display_data",
          "data": {
            "image/png": "[encoded data removed]",
            "text/plain": [
              "<Figure size 432x288 with 1 Axes>"
            ]
          },
          "metadata": {
            "tags": [],
            "needs_background": "light"
          }
        }
      ]
    },
    {
      "cell_type": "markdown",
      "metadata": {
        "id": "qXW7W8rxVcHB"
      },
      "source": [
        "### Run an ETS Decomposition (optional)"
      ]
    },
    {
      "cell_type": "code",
      "metadata": {
        "scrolled": true,
        "id": "btEl2VpgVcHC",
        "outputId": "1734ee61-a908-4fe8-b272-e076fd83b42d"
      },
      "source": [
        "from statsmodels.tsa.seasonal import seasonal_decompose\n",
        "\n",
        "result = seasonal_decompose(df2['Inventories'], model='additive')  # model='add' also works\n",
        "result.plot();"
      ],
      "execution_count": null,
      "outputs": [
        {
          "output_type": "display_data",
          "data": {
            "image/png": "[encoded data removed]",
            "text/plain": [
              "<Figure size 432x288 with 4 Axes>"
            ]
          },
          "metadata": {
            "tags": [],
            "needs_background": "light"
          }
        }
      ]
    },
    {
      "cell_type": "markdown",
      "metadata": {
        "id": "5sAKWF5WVcHD"
      },
      "source": [
        "### Check stationarity using Dickey-Fuller Test"
      ]
    },
    {
      "cell_type": "code",
      "metadata": {
        "id": "nnPR59q4VcHD",
        "outputId": "ce8f550d-7e14-48e0-d3c1-7be91758d65c"
      },
      "source": [
        "adf_test(df2['Inventories'])"
      ],
      "execution_count": null,
      "outputs": [
        {
          "output_type": "stream",
          "text": [
            "Fail to reject the null hypothesis\n",
            "Data is non-stationary\n"
          ],
          "name": "stdout"
        }
      ]
    },
    {
      "cell_type": "markdown",
      "metadata": {
        "id": "T_UejnV0VcHE"
      },
      "source": [
        "### Do first order differencing - (optional)"
      ]
    },
    {
      "cell_type": "code",
      "metadata": {
        "id": "EuGf70STVcHF",
        "outputId": "cff7e01d-8435-42e6-a803-106628c460d4"
      },
      "source": [
        "from statsmodels.tsa.statespace.tools import diff\n",
        "df2['d1'] = diff(df2['Inventories'],k_diff=1)\n",
        "adf_test(df2['d1'])"
      ],
      "execution_count": null,
      "outputs": [
        {
          "output_type": "stream",
          "text": [
            "Reject the null hypothesis\n",
            "Data is stationary\n"
          ],
          "name": "stdout"
        }
      ]
    },
    {
      "cell_type": "markdown",
      "metadata": {
        "id": "n_WOJR-PVcHG"
      },
      "source": [
        "---\n",
        "# Build the model\n",
        "---"
      ]
    },
    {
      "cell_type": "code",
      "metadata": {
        "id": "acuknvmXVcHG"
      },
      "source": [
        "### Use pmdarima to get the p,d,q"
      ],
      "execution_count": null,
      "outputs": []
    },
    {
      "cell_type": "markdown",
      "metadata": {
        "id": "d9bvQn0EVcHH"
      },
      "source": [
        "### Use <tt>pmdarima.auto_arima</tt> to determine ARIMA Orders"
      ]
    },
    {
      "cell_type": "code",
      "metadata": {
        "id": "X_FLHi5nVcHH"
      },
      "source": [
        "from pmdarima import auto_arima # for determining ARIMA orders"
      ],
      "execution_count": null,
      "outputs": []
    },
    {
      "cell_type": "code",
      "metadata": {
        "id": "ZIXrlmbkVcHI"
      },
      "source": [
        "#stepwise_fit = auto_arima(df2['Inventories'], start_p=0, start_q=0,\n",
        "#                          max_p=2, max_q=2, m=12,\n",
        "#                          seasonal=False,\n",
        "#                          d=None, trace=True,\n",
        "#                          error_action='ignore',   # we don't want to know if an order does not work\n",
        "#                          suppress_warnings=True,  # we don't want convergence warnings\n",
        "#                          stepwise=True)           # set to stepwise\n",
        "#\n",
        "#stepwise_fit.summary()"
      ],
      "execution_count": null,
      "outputs": []
    },
    {
      "cell_type": "code",
      "metadata": {
        "id": "ZGpsWH2nVcHJ",
        "outputId": "f5588343-afe7-4ca4-89ba-5926ccb1b605"
      },
      "source": [
        "stepwise_fit = auto_arima(df2['Inventories'], start_p=0, start_q=0,\n",
        "                          max_p=2, max_q=2, m=12,\n",
        "                          seasonal=False,\n",
        "                          d=None, trace=True,\n",
        "                          error_action='ignore',   # we don't want to know if an order does not work\n",
        "                          suppress_warnings=True,  # we don't want convergence warnings\n",
        "                          stepwise=True)           # set to stepwise\n",
        "\n",
        "stepwise_fit.summary()"
      ],
      "execution_count": null,
      "outputs": [
        {
          "output_type": "stream",
          "text": [
            "Performing stepwise search to minimize aic\n",
            "Fit ARIMA: (0, 1, 0)x(0, 0, 0, 0) (constant=True); AIC=5348.037, BIC=5355.181, Time=0.019 seconds\n",
            "Fit ARIMA: (1, 1, 0)x(0, 0, 0, 0) (constant=True); AIC=5399.843, BIC=5410.560, Time=0.052 seconds\n",
            "Fit ARIMA: (0, 1, 1)x(0, 0, 0, 0) (constant=True); AIC=5350.241, BIC=5360.957, Time=0.059 seconds\n",
            "Fit ARIMA: (0, 1, 0)x(0, 0, 0, 0) (constant=False); AIC=5409.217, BIC=5412.789, Time=0.022 seconds\n",
            "Fit ARIMA: (1, 1, 1)x(0, 0, 0, 0) (constant=True); AIC=5378.835, BIC=5393.124, Time=0.279 seconds\n",
            "Total fit time: 0.439 seconds\n"
          ],
          "name": "stdout"
        },
        {
          "output_type": "execute_result",
          "data": {
            "text/html": [
              "<table class=\"simpletable\">\n",
              "<caption>SARIMAX Results</caption>\n",
              "<tr>\n",
              "  <th>Dep. Variable:</th>           <td>y</td>        <th>  No. Observations:  </th>    <td>264</td>   \n",
              "</tr>\n",
              "<tr>\n",
              "  <th>Model:</th>           <td>SARIMAX(0, 1, 0)</td> <th>  Log Likelihood     </th> <td>-2672.018</td>\n",
              "</tr>\n",
              "<tr>\n",
              "  <th>Date:</th>            <td>Thu, 27 Feb 2020</td> <th>  AIC                </th> <td>5348.037</td> \n",
              "</tr>\n",
              "<tr>\n",
              "  <th>Time:</th>                <td>18:49:38</td>     <th>  BIC                </th> <td>5355.181</td> \n",
              "</tr>\n",
              "<tr>\n",
              "  <th>Sample:</th>                  <td>0</td>        <th>  HQIC               </th> <td>5350.908</td> \n",
              "</tr>\n",
              "<tr>\n",
              "  <th></th>                      <td> - 264</td>      <th>                     </th>     <td> </td>    \n",
              "</tr>\n",
              "<tr>\n",
              "  <th>Covariance Type:</th>        <td>opg</td>       <th>                     </th>     <td> </td>    \n",
              "</tr>\n",
              "</table>\n",
              "<table class=\"simpletable\">\n",
              "<tr>\n",
              "      <td></td>         <th>coef</th>     <th>std err</th>      <th>z</th>      <th>P>|z|</th>  <th>[0.025</th>    <th>0.975]</th>  \n",
              "</tr>\n",
              "<tr>\n",
              "  <th>intercept</th> <td> 3258.3802</td> <td>  470.991</td> <td>    6.918</td> <td> 0.000</td> <td> 2335.255</td> <td> 4181.506</td>\n",
              "</tr>\n",
              "<tr>\n",
              "  <th>sigma2</th>    <td>  3.91e+07</td> <td> 2.95e+06</td> <td>   13.250</td> <td> 0.000</td> <td> 3.33e+07</td> <td> 4.49e+07</td>\n",
              "</tr>\n",
              "</table>\n",
              "<table class=\"simpletable\">\n",
              "<tr>\n",
              "  <th>Ljung-Box (Q):</th>          <td>455.75</td> <th>  Jarque-Bera (JB):  </th> <td>100.74</td>\n",
              "</tr>\n",
              "<tr>\n",
              "  <th>Prob(Q):</th>                 <td>0.00</td>  <th>  Prob(JB):          </th>  <td>0.00</td> \n",
              "</tr>\n",
              "<tr>\n",
              "  <th>Heteroskedasticity (H):</th>  <td>0.86</td>  <th>  Skew:              </th>  <td>-1.15</td>\n",
              "</tr>\n",
              "<tr>\n",
              "  <th>Prob(H) (two-sided):</th>     <td>0.48</td>  <th>  Kurtosis:          </th>  <td>4.98</td> \n",
              "</tr>\n",
              "</table><br/><br/>Warnings:<br/>[1] Covariance matrix calculated using the outer product of gradients (complex-step)."
            ],
            "text/plain": [
              "<class 'statsmodels.iolib.summary.Summary'>\n",
              "\"\"\"\n",
              "                               SARIMAX Results                                \n",
              "==============================================================================\n",
              "Dep. Variable:                      y   No. Observations:                  264\n",
              "Model:               SARIMAX(0, 1, 0)   Log Likelihood               -2672.018\n",
              "Date:                Thu, 27 Feb 2020   AIC                           5348.037\n",
              "Time:                        18:49:38   BIC                           5355.181\n",
              "Sample:                             0   HQIC                          5350.908\n",
              "                                - 264                                         \n",
              "Covariance Type:                  opg                                         \n",
              "==============================================================================\n",
              "                 coef    std err          z      P>|z|      [0.025      0.975]\n",
              "------------------------------------------------------------------------------\n",
              "intercept   3258.3802    470.991      6.918      0.000    2335.255    4181.506\n",
              "sigma2       3.91e+07   2.95e+06     13.250      0.000    3.33e+07    4.49e+07\n",
              "===================================================================================\n",
              "Ljung-Box (Q):                      455.75   Jarque-Bera (JB):               100.74\n",
              "Prob(Q):                              0.00   Prob(JB):                         0.00\n",
              "Heteroskedasticity (H):               0.86   Skew:                            -1.15\n",
              "Prob(H) (two-sided):                  0.48   Kurtosis:                         4.98\n",
              "===================================================================================\n",
              "\n",
              "Warnings:\n",
              "[1] Covariance matrix calculated using the outer product of gradients (complex-step).\n",
              "\"\"\""
            ]
          },
          "metadata": {
            "tags": []
          },
          "execution_count": 43
        }
      ]
    },
    {
      "cell_type": "markdown",
      "metadata": {
        "id": "nt-UGgZNVcHK"
      },
      "source": [
        "### Split the data into train/test sets"
      ]
    },
    {
      "cell_type": "code",
      "metadata": {
        "id": "1y8L7AyqVcHL",
        "outputId": "40efbf4e-76c6-4bb3-9474-8755e81a18c6"
      },
      "source": [
        "len(df2)"
      ],
      "execution_count": null,
      "outputs": [
        {
          "output_type": "execute_result",
          "data": {
            "text/plain": [
              "264"
            ]
          },
          "metadata": {
            "tags": []
          },
          "execution_count": 12
        }
      ]
    },
    {
      "cell_type": "code",
      "metadata": {
        "id": "rJhs1d07VcHL"
      },
      "source": [
        "# Set one year for testing\n",
        "train = df2.iloc[:252]\n",
        "test = df2.iloc[252:]"
      ],
      "execution_count": null,
      "outputs": []
    },
    {
      "cell_type": "markdown",
      "metadata": {
        "id": "6_2KUDayVcHM"
      },
      "source": [
        "### Fit an ARIMA(1,1,1) Model"
      ]
    },
    {
      "cell_type": "code",
      "metadata": {
        "id": "Qk3npC5zVcHN"
      },
      "source": [
        "from statsmodels.tsa.arima_model import ARIMA"
      ],
      "execution_count": null,
      "outputs": []
    },
    {
      "cell_type": "code",
      "metadata": {
        "id": "fCfqk0p5VcHN",
        "outputId": "9383f737-503b-4c12-8655-19f9958d3dee"
      },
      "source": [
        "model = ARIMA(train['Inventories'],order=(1,1,1))\n",
        "results = model.fit()\n",
        "results.summary()"
      ],
      "execution_count": null,
      "outputs": [
        {
          "output_type": "execute_result",
          "data": {
            "text/html": [
              "<table class=\"simpletable\">\n",
              "<caption>ARIMA Model Results</caption>\n",
              "<tr>\n",
              "  <th>Dep. Variable:</th>   <td>D.Inventories</td>  <th>  No. Observations:  </th>    <td>251</td>   \n",
              "</tr>\n",
              "<tr>\n",
              "  <th>Model:</th>          <td>ARIMA(1, 1, 1)</td>  <th>  Log Likelihood     </th> <td>-2486.395</td>\n",
              "</tr>\n",
              "<tr>\n",
              "  <th>Method:</th>             <td>css-mle</td>     <th>  S.D. of innovations</th> <td>4845.028</td> \n",
              "</tr>\n",
              "<tr>\n",
              "  <th>Date:</th>          <td>Thu, 27 Feb 2020</td> <th>  AIC                </th> <td>4980.790</td> \n",
              "</tr>\n",
              "<tr>\n",
              "  <th>Time:</th>              <td>18:38:13</td>     <th>  BIC                </th> <td>4994.892</td> \n",
              "</tr>\n",
              "<tr>\n",
              "  <th>Sample:</th>           <td>02-01-1997</td>    <th>  HQIC               </th> <td>4986.465</td> \n",
              "</tr>\n",
              "<tr>\n",
              "  <th></th>                 <td>- 12-01-2017</td>   <th>                     </th>     <td> </td>    \n",
              "</tr>\n",
              "</table>\n",
              "<table class=\"simpletable\">\n",
              "<tr>\n",
              "           <td></td>              <th>coef</th>     <th>std err</th>      <th>z</th>      <th>P>|z|</th>  <th>[0.025</th>    <th>0.975]</th>  \n",
              "</tr>\n",
              "<tr>\n",
              "  <th>const</th>               <td> 3197.6171</td> <td> 1344.919</td> <td>    2.378</td> <td> 0.017</td> <td>  561.625</td> <td> 5833.610</td>\n",
              "</tr>\n",
              "<tr>\n",
              "  <th>ar.L1.D.Inventories</th> <td>    0.9026</td> <td>    0.039</td> <td>   23.013</td> <td> 0.000</td> <td>    0.826</td> <td>    0.979</td>\n",
              "</tr>\n",
              "<tr>\n",
              "  <th>ma.L1.D.Inventories</th> <td>   -0.5581</td> <td>    0.079</td> <td>   -7.049</td> <td> 0.000</td> <td>   -0.713</td> <td>   -0.403</td>\n",
              "</tr>\n",
              "</table>\n",
              "<table class=\"simpletable\">\n",
              "<caption>Roots</caption>\n",
              "<tr>\n",
              "    <td></td>   <th>            Real</th>  <th>         Imaginary</th> <th>         Modulus</th>  <th>        Frequency</th>\n",
              "</tr>\n",
              "<tr>\n",
              "  <th>AR.1</th> <td>           1.1080</td> <td>          +0.0000j</td> <td>           1.1080</td> <td>           0.0000</td>\n",
              "</tr>\n",
              "<tr>\n",
              "  <th>MA.1</th> <td>           1.7918</td> <td>          +0.0000j</td> <td>           1.7918</td> <td>           0.0000</td>\n",
              "</tr>\n",
              "</table>"
            ],
            "text/plain": [
              "<class 'statsmodels.iolib.summary.Summary'>\n",
              "\"\"\"\n",
              "                             ARIMA Model Results                              \n",
              "==============================================================================\n",
              "Dep. Variable:          D.Inventories   No. Observations:                  251\n",
              "Model:                 ARIMA(1, 1, 1)   Log Likelihood               -2486.395\n",
              "Method:                       css-mle   S.D. of innovations           4845.028\n",
              "Date:                Thu, 27 Feb 2020   AIC                           4980.790\n",
              "Time:                        18:38:13   BIC                           4994.892\n",
              "Sample:                    02-01-1997   HQIC                          4986.465\n",
              "                         - 12-01-2017                                         \n",
              "=======================================================================================\n",
              "                          coef    std err          z      P>|z|      [0.025      0.975]\n",
              "---------------------------------------------------------------------------------------\n",
              "const                3197.6171   1344.919      2.378      0.017     561.625    5833.610\n",
              "ar.L1.D.Inventories     0.9026      0.039     23.013      0.000       0.826       0.979\n",
              "ma.L1.D.Inventories    -0.5581      0.079     -7.049      0.000      -0.713      -0.403\n",
              "                                    Roots                                    \n",
              "=============================================================================\n",
              "                  Real          Imaginary           Modulus         Frequency\n",
              "-----------------------------------------------------------------------------\n",
              "AR.1            1.1080           +0.0000j            1.1080            0.0000\n",
              "MA.1            1.7918           +0.0000j            1.7918            0.0000\n",
              "-----------------------------------------------------------------------------\n",
              "\"\"\""
            ]
          },
          "metadata": {
            "tags": []
          },
          "execution_count": 17
        }
      ]
    },
    {
      "cell_type": "markdown",
      "metadata": {
        "id": "uRNdPXD-VcHO"
      },
      "source": [
        "### Use model to predict"
      ]
    },
    {
      "cell_type": "code",
      "metadata": {
        "id": "dIgD_84zVcHO"
      },
      "source": [
        "# Obtain predicted values\n",
        "start=len(train)\n",
        "end=len(df2)-1\n",
        "predictions = results.predict(start=start, end=end, dynamic=False, typ='levels')\n",
        "predictions = predictions.rename('ARIMA(1,1,1) Predictions')"
      ],
      "execution_count": null,
      "outputs": []
    },
    {
      "cell_type": "code",
      "metadata": {
        "id": "Z0cJP5WLVcHP",
        "outputId": "2e6e355b-f6d0-4793-85b9-41bd51377a07"
      },
      "source": [
        "# Compare predictions to expected values\n",
        "for i in range(len(predictions)):\n",
        "    print(f\"predicted={predictions[i]:<11.10}, expected={test['Inventories'][i]}\")"
      ],
      "execution_count": null,
      "outputs": [
        {
          "output_type": "stream",
          "text": [
            "predicted=2107148.323, expected=2110158\n",
            "predicted=2110526.189, expected=2118199\n",
            "predicted=2113886.492, expected=2112427\n",
            "predicted=2117230.944, expected=2112276\n",
            "predicted=2120561.09 , expected=2111835\n",
            "predicted=2123878.322, expected=2109298\n",
            "predicted=2127183.901, expected=2119618\n",
            "predicted=2130478.96 , expected=2127170\n",
            "predicted=2133764.525, expected=2134172\n",
            "predicted=2137041.521, expected=2144639\n",
            "predicted=2140310.783, expected=2143001\n",
            "predicted=2143573.064, expected=2158115\n"
          ],
          "name": "stdout"
        }
      ]
    },
    {
      "cell_type": "code",
      "metadata": {
        "id": "ttscSxeAVcHQ",
        "outputId": "09d80f77-92aa-42bd-d6c9-bde2428e96be"
      },
      "source": [
        "# Plot predictions against known values\n",
        "title = 'Real Manufacturing and Trade Inventories'\n",
        "ylabel='Inventories'\n",
        "xlabel='' \n",
        "\n",
        "test['Inventories'].plot(legend=True,figsize=(12,6),title=title)\n",
        "predictions.plot(legend=True)\n",
        "plt.show()"
      ],
      "execution_count": null,
      "outputs": [
        {
          "output_type": "display_data",
          "data": {
            "image/png": "[encoded data removed]",
            "text/plain": [
              "<Figure size 864x432 with 1 Axes>"
            ]
          },
          "metadata": {
            "tags": [],
            "needs_background": "light"
          }
        }
      ]
    },
    {
      "cell_type": "markdown",
      "metadata": {
        "id": "yrAVMP79VcHR"
      },
      "source": [
        "### Evaluate the Model"
      ]
    },
    {
      "cell_type": "markdown",
      "metadata": {
        "id": "wcrl3Bj3VcHR"
      },
      "source": [
        "#df['returns'] = df.market_value.pct_change(1)*100"
      ]
    },
    {
      "cell_type": "code",
      "metadata": {
        "id": "-u-bDMH7VcHS",
        "outputId": "1dcdf79e-ec01-46a6-955c-16471fa26300"
      },
      "source": [
        "from sklearn.metrics import mean_squared_error\n",
        "\n",
        "error = mean_squared_error(test['Inventories'], predictions)\n",
        "error.round(2)"
      ],
      "execution_count": null,
      "outputs": [
        {
          "output_type": "execute_result",
          "data": {
            "text/plain": [
              "60677264.28"
            ]
          },
          "metadata": {
            "tags": []
          },
          "execution_count": 33
        }
      ]
    },
    {
      "cell_type": "code",
      "metadata": {
        "id": "YYG2-MQVVcHS",
        "outputId": "bb5a31b3-1735-4a3b-d85e-f27e8ef2dd0c"
      },
      "source": [
        "from statsmodels.tools.eval_measures import rmse\n",
        "\n",
        "error = rmse(test['Inventories'], predictions)\n",
        "error.round(2)"
      ],
      "execution_count": null,
      "outputs": [
        {
          "output_type": "execute_result",
          "data": {
            "text/plain": [
              "7789.56"
            ]
          },
          "metadata": {
            "tags": []
          },
          "execution_count": 34
        }
      ]
    },
    {
      "cell_type": "code",
      "metadata": {
        "id": "iqgD_3FvVcHT",
        "outputId": "0ca11407-eee2-40eb-bd0b-a22eff47f343"
      },
      "source": [
        "test['Inventories'].mean()"
      ],
      "execution_count": null,
      "outputs": [
        {
          "output_type": "execute_result",
          "data": {
            "text/plain": [
              "2125075.6666666665"
            ]
          },
          "metadata": {
            "tags": []
          },
          "execution_count": 35
        }
      ]
    },
    {
      "cell_type": "markdown",
      "metadata": {
        "id": "CeyVn-SPVcHU"
      },
      "source": [
        "### Retrain the model on the full data, and forecast the future"
      ]
    },
    {
      "cell_type": "code",
      "metadata": {
        "id": "sDTEOMXNVcHU"
      },
      "source": [
        "model = ARIMA(df2['Inventories'],order=(1,1,1))\n",
        "results = model.fit()\n",
        "fcast = results.predict(len(df2),len(df2)+11,typ='levels').rename('ARIMA(1,1,1) Forecast')"
      ],
      "execution_count": null,
      "outputs": []
    },
    {
      "cell_type": "code",
      "metadata": {
        "id": "UULdBLRuVcHV",
        "outputId": "272d1d98-6b92-41dd-e3cd-9cdd9b483b0f"
      },
      "source": [
        "# Plot predictions against known values\n",
        "title = 'Real Manufacturing and Trade Inventories'\n",
        "ylabel='Inventories'\n",
        "xlabel='Period' \n",
        "\n",
        "df2['Inventories'].plot(legend=True,figsize=(12,6),title=title)\n",
        "fcast.plot(legend=True)\n",
        "predictions.plot(legend=True)\n",
        "plt.show()"
      ],
      "execution_count": null,
      "outputs": [
        {
          "output_type": "display_data",
          "data": {
            "image/png": "[encoded data removed]",
            "text/plain": [
              "<Figure size 864x432 with 1 Axes>"
            ]
          },
          "metadata": {
            "tags": [],
            "needs_background": "light"
          }
        }
      ]
    },
    {
      "cell_type": "code",
      "metadata": {
        "id": "0-ElS-NkVcHX"
      },
      "source": [
        ""
      ],
      "execution_count": null,
      "outputs": []
    }
  ]
}
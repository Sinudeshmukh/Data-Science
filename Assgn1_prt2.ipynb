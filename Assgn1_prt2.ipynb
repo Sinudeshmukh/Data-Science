{
  "nbformat": 4,
  "nbformat_minor": 0,
  "metadata": {
    "colab": {
      "name": "Assgn1_prt2.ipynb",
      "provenance": [],
      "authorship_tag": "ABX9TyNZ0qT34bWkKSneCA9gdxnP",
      "include_colab_link": true
    },
    "kernelspec": {
      "name": "python3",
      "display_name": "Python 3"
    }
  },
  "cells": [
    {
      "cell_type": "markdown",
      "metadata": {
        "id": "view-in-github",
        "colab_type": "text"
      },
      "source": [
        "<a href=\"https://colab.research.google.com/github/Sinudeshmukh/PYTHON-CODES/blob/main/Assgn1_prt2.ipynb\" target=\"_parent\"><img src=\"https://colab.research.google.com/assets/colab-badge.svg\" alt=\"Open In Colab\"/></a>"
      ]
    },
    {
      "cell_type": "code",
      "metadata": {
        "id": "C5fTTUz7ljRr"
      },
      "source": [
        " from scipy import stats\r\n",
        " import numpy as np\r\n",
        " import pandas as pd"
      ],
      "execution_count": null,
      "outputs": []
    },
    {
      "cell_type": "code",
      "metadata": {
        "id": "HwLBTddOKhaM"
      },
      "source": [
        "df=pd.read_csv(\"Cars.csv\")"
      ],
      "execution_count": null,
      "outputs": []
    },
    {
      "cell_type": "code",
      "metadata": {
        "colab": {
          "base_uri": "https://localhost:8080/",
          "height": 419
        },
        "id": "UxsWKgbILGTC",
        "outputId": "71a73ab9-26f6-4b64-ea68-b19a7447158b"
      },
      "source": [
        "df"
      ],
      "execution_count": null,
      "outputs": [
        {
          "output_type": "execute_result",
          "data": {
            "text/html": [
              "<div>\n",
              "<style scoped>\n",
              "    .dataframe tbody tr th:only-of-type {\n",
              "        vertical-align: middle;\n",
              "    }\n",
              "\n",
              "    .dataframe tbody tr th {\n",
              "        vertical-align: top;\n",
              "    }\n",
              "\n",
              "    .dataframe thead th {\n",
              "        text-align: right;\n",
              "    }\n",
              "</style>\n",
              "<table border=\"1\" class=\"dataframe\">\n",
              "  <thead>\n",
              "    <tr style=\"text-align: right;\">\n",
              "      <th></th>\n",
              "      <th>HP</th>\n",
              "      <th>MPG</th>\n",
              "      <th>VOL</th>\n",
              "      <th>SP</th>\n",
              "      <th>WT</th>\n",
              "    </tr>\n",
              "  </thead>\n",
              "  <tbody>\n",
              "    <tr>\n",
              "      <th>0</th>\n",
              "      <td>49</td>\n",
              "      <td>53.700681</td>\n",
              "      <td>89</td>\n",
              "      <td>104.185353</td>\n",
              "      <td>28.762059</td>\n",
              "    </tr>\n",
              "    <tr>\n",
              "      <th>1</th>\n",
              "      <td>55</td>\n",
              "      <td>50.013401</td>\n",
              "      <td>92</td>\n",
              "      <td>105.461264</td>\n",
              "      <td>30.466833</td>\n",
              "    </tr>\n",
              "    <tr>\n",
              "      <th>2</th>\n",
              "      <td>55</td>\n",
              "      <td>50.013401</td>\n",
              "      <td>92</td>\n",
              "      <td>105.461264</td>\n",
              "      <td>30.193597</td>\n",
              "    </tr>\n",
              "    <tr>\n",
              "      <th>3</th>\n",
              "      <td>70</td>\n",
              "      <td>45.696322</td>\n",
              "      <td>92</td>\n",
              "      <td>113.461264</td>\n",
              "      <td>30.632114</td>\n",
              "    </tr>\n",
              "    <tr>\n",
              "      <th>4</th>\n",
              "      <td>53</td>\n",
              "      <td>50.504232</td>\n",
              "      <td>92</td>\n",
              "      <td>104.461264</td>\n",
              "      <td>29.889149</td>\n",
              "    </tr>\n",
              "    <tr>\n",
              "      <th>...</th>\n",
              "      <td>...</td>\n",
              "      <td>...</td>\n",
              "      <td>...</td>\n",
              "      <td>...</td>\n",
              "      <td>...</td>\n",
              "    </tr>\n",
              "    <tr>\n",
              "      <th>76</th>\n",
              "      <td>322</td>\n",
              "      <td>36.900000</td>\n",
              "      <td>50</td>\n",
              "      <td>169.598513</td>\n",
              "      <td>16.132947</td>\n",
              "    </tr>\n",
              "    <tr>\n",
              "      <th>77</th>\n",
              "      <td>238</td>\n",
              "      <td>19.197888</td>\n",
              "      <td>115</td>\n",
              "      <td>150.576579</td>\n",
              "      <td>37.923113</td>\n",
              "    </tr>\n",
              "    <tr>\n",
              "      <th>78</th>\n",
              "      <td>263</td>\n",
              "      <td>34.000000</td>\n",
              "      <td>50</td>\n",
              "      <td>151.598513</td>\n",
              "      <td>15.769625</td>\n",
              "    </tr>\n",
              "    <tr>\n",
              "      <th>79</th>\n",
              "      <td>295</td>\n",
              "      <td>19.833733</td>\n",
              "      <td>119</td>\n",
              "      <td>167.944460</td>\n",
              "      <td>39.423099</td>\n",
              "    </tr>\n",
              "    <tr>\n",
              "      <th>80</th>\n",
              "      <td>236</td>\n",
              "      <td>12.101263</td>\n",
              "      <td>107</td>\n",
              "      <td>139.840817</td>\n",
              "      <td>34.948615</td>\n",
              "    </tr>\n",
              "  </tbody>\n",
              "</table>\n",
              "<p>81 rows × 5 columns</p>\n",
              "</div>"
            ],
            "text/plain": [
              "     HP        MPG  VOL          SP         WT\n",
              "0    49  53.700681   89  104.185353  28.762059\n",
              "1    55  50.013401   92  105.461264  30.466833\n",
              "2    55  50.013401   92  105.461264  30.193597\n",
              "3    70  45.696322   92  113.461264  30.632114\n",
              "4    53  50.504232   92  104.461264  29.889149\n",
              "..  ...        ...  ...         ...        ...\n",
              "76  322  36.900000   50  169.598513  16.132947\n",
              "77  238  19.197888  115  150.576579  37.923113\n",
              "78  263  34.000000   50  151.598513  15.769625\n",
              "79  295  19.833733  119  167.944460  39.423099\n",
              "80  236  12.101263  107  139.840817  34.948615\n",
              "\n",
              "[81 rows x 5 columns]"
            ]
          },
          "metadata": {
            "tags": []
          },
          "execution_count": 3
        }
      ]
    },
    {
      "cell_type": "code",
      "metadata": {
        "colab": {
          "base_uri": "https://localhost:8080/"
        },
        "id": "m9UdVXnFtch3",
        "outputId": "34f1b571-736c-4a97-a109-4374d52140a2"
      },
      "source": [
        "stats.t.ppf(0.975,17)"
      ],
      "execution_count": null,
      "outputs": [
        {
          "output_type": "execute_result",
          "data": {
            "text/plain": [
              "2.1098155778331806"
            ]
          },
          "metadata": {
            "tags": []
          },
          "execution_count": 3
        }
      ]
    },
    {
      "cell_type": "code",
      "metadata": {
        "colab": {
          "base_uri": "https://localhost:8080/"
        },
        "id": "KBjiOvoGtuO_",
        "outputId": "1217f5ce-788d-49d0-fb25-bc5c88a842ee"
      },
      "source": [
        "stats.t.cdf(0.975,17)"
      ],
      "execution_count": null,
      "outputs": [
        {
          "output_type": "execute_result",
          "data": {
            "text/plain": [
              "0.8283844782018448"
            ]
          },
          "metadata": {
            "tags": []
          },
          "execution_count": 8
        }
      ]
    },
    {
      "cell_type": "code",
      "metadata": {
        "id": "G6HRS980x3Z2"
      },
      "source": [
        "t_value = (260 - 270)/(90/np.sqrt(18))"
      ],
      "execution_count": null,
      "outputs": []
    },
    {
      "cell_type": "code",
      "metadata": {
        "id": "i7Bg-Y3Px_P6",
        "colab": {
          "base_uri": "https://localhost:8080/"
        },
        "outputId": "4a71d265-9322-4090-fcb8-469ba13497bb"
      },
      "source": [
        "t_value"
      ],
      "execution_count": null,
      "outputs": [
        {
          "output_type": "execute_result",
          "data": {
            "text/plain": [
              "-0.4714045207910317"
            ]
          },
          "metadata": {
            "tags": []
          },
          "execution_count": 12
        }
      ]
    },
    {
      "cell_type": "code",
      "metadata": {
        "colab": {
          "base_uri": "https://localhost:8080/",
          "height": 111
        },
        "id": "-x8MxroXK5Dx",
        "outputId": "8c6c663a-6bfc-4919-8158-d2e4f65913ee"
      },
      "source": [
        "df[['SP','WT']].agg(['skew','kurt'])"
      ],
      "execution_count": null,
      "outputs": [
        {
          "output_type": "execute_result",
          "data": {
            "text/html": [
              "<div>\n",
              "<style scoped>\n",
              "    .dataframe tbody tr th:only-of-type {\n",
              "        vertical-align: middle;\n",
              "    }\n",
              "\n",
              "    .dataframe tbody tr th {\n",
              "        vertical-align: top;\n",
              "    }\n",
              "\n",
              "    .dataframe thead th {\n",
              "        text-align: right;\n",
              "    }\n",
              "</style>\n",
              "<table border=\"1\" class=\"dataframe\">\n",
              "  <thead>\n",
              "    <tr style=\"text-align: right;\">\n",
              "      <th></th>\n",
              "      <th>SP</th>\n",
              "      <th>WT</th>\n",
              "    </tr>\n",
              "  </thead>\n",
              "  <tbody>\n",
              "    <tr>\n",
              "      <th>skew</th>\n",
              "      <td>1.611450</td>\n",
              "      <td>-0.614753</td>\n",
              "    </tr>\n",
              "    <tr>\n",
              "      <th>kurt</th>\n",
              "      <td>2.977329</td>\n",
              "      <td>0.950291</td>\n",
              "    </tr>\n",
              "  </tbody>\n",
              "</table>\n",
              "</div>"
            ],
            "text/plain": [
              "            SP        WT\n",
              "skew  1.611450 -0.614753\n",
              "kurt  2.977329  0.950291"
            ]
          },
          "metadata": {
            "tags": []
          },
          "execution_count": 5
        }
      ]
    },
    {
      "cell_type": "code",
      "metadata": {
        "colab": {
          "base_uri": "https://localhost:8080/"
        },
        "id": "LifVjjDOMiwG",
        "outputId": "dfa4ebaa-68f9-4200-9ffd-4d2d31fa876a"
      },
      "source": [
        "stats.norm.interval(.97,loc=200,scale=30)"
      ],
      "execution_count": null,
      "outputs": [
        {
          "output_type": "execute_result",
          "data": {
            "text/plain": [
              "(134.8972886724632, 265.1027113275368)"
            ]
          },
          "metadata": {
            "tags": []
          },
          "execution_count": 6
        }
      ]
    },
    {
      "cell_type": "code",
      "metadata": {
        "colab": {
          "base_uri": "https://localhost:8080/"
        },
        "id": "1r_AtiuOM0LX",
        "outputId": "e3b56a63-4908-42eb-9a1e-496e0a4f284f"
      },
      "source": [
        "stats.norm.interval(.98,loc=200,scale=30)"
      ],
      "execution_count": null,
      "outputs": [
        {
          "output_type": "execute_result",
          "data": {
            "text/plain": [
              "(130.2095637787748, 269.7904362212252)"
            ]
          },
          "metadata": {
            "tags": []
          },
          "execution_count": 7
        }
      ]
    },
    {
      "cell_type": "code",
      "metadata": {
        "colab": {
          "base_uri": "https://localhost:8080/"
        },
        "id": "F38ZjUcYM4ff",
        "outputId": "0e1c4a95-304d-48f1-f5b8-2b991de42df6"
      },
      "source": [
        "stats.norm.interval(.99,loc=200,scale=30)"
      ],
      "execution_count": null,
      "outputs": [
        {
          "output_type": "execute_result",
          "data": {
            "text/plain": [
              "(122.72512089353299, 277.274879106467)"
            ]
          },
          "metadata": {
            "tags": []
          },
          "execution_count": 8
        }
      ]
    },
    {
      "cell_type": "code",
      "metadata": {
        "id": "_QHHqrfqPXMk"
      },
      "source": [
        "df1=pd.read_csv('WC_AT.csv')"
      ],
      "execution_count": null,
      "outputs": []
    },
    {
      "cell_type": "code",
      "metadata": {
        "colab": {
          "base_uri": "https://localhost:8080/",
          "height": 419
        },
        "id": "DK86DC2wQLKo",
        "outputId": "e7e2072e-1996-40c6-8bb8-954c2db035bd"
      },
      "source": [
        "df1"
      ],
      "execution_count": null,
      "outputs": [
        {
          "output_type": "execute_result",
          "data": {
            "text/html": [
              "<div>\n",
              "<style scoped>\n",
              "    .dataframe tbody tr th:only-of-type {\n",
              "        vertical-align: middle;\n",
              "    }\n",
              "\n",
              "    .dataframe tbody tr th {\n",
              "        vertical-align: top;\n",
              "    }\n",
              "\n",
              "    .dataframe thead th {\n",
              "        text-align: right;\n",
              "    }\n",
              "</style>\n",
              "<table border=\"1\" class=\"dataframe\">\n",
              "  <thead>\n",
              "    <tr style=\"text-align: right;\">\n",
              "      <th></th>\n",
              "      <th>Waist</th>\n",
              "      <th>AT</th>\n",
              "    </tr>\n",
              "  </thead>\n",
              "  <tbody>\n",
              "    <tr>\n",
              "      <th>0</th>\n",
              "      <td>74.75</td>\n",
              "      <td>25.72</td>\n",
              "    </tr>\n",
              "    <tr>\n",
              "      <th>1</th>\n",
              "      <td>72.60</td>\n",
              "      <td>25.89</td>\n",
              "    </tr>\n",
              "    <tr>\n",
              "      <th>2</th>\n",
              "      <td>81.80</td>\n",
              "      <td>42.60</td>\n",
              "    </tr>\n",
              "    <tr>\n",
              "      <th>3</th>\n",
              "      <td>83.95</td>\n",
              "      <td>42.80</td>\n",
              "    </tr>\n",
              "    <tr>\n",
              "      <th>4</th>\n",
              "      <td>74.65</td>\n",
              "      <td>29.84</td>\n",
              "    </tr>\n",
              "    <tr>\n",
              "      <th>...</th>\n",
              "      <td>...</td>\n",
              "      <td>...</td>\n",
              "    </tr>\n",
              "    <tr>\n",
              "      <th>104</th>\n",
              "      <td>100.10</td>\n",
              "      <td>124.00</td>\n",
              "    </tr>\n",
              "    <tr>\n",
              "      <th>105</th>\n",
              "      <td>93.30</td>\n",
              "      <td>62.20</td>\n",
              "    </tr>\n",
              "    <tr>\n",
              "      <th>106</th>\n",
              "      <td>101.80</td>\n",
              "      <td>133.00</td>\n",
              "    </tr>\n",
              "    <tr>\n",
              "      <th>107</th>\n",
              "      <td>107.90</td>\n",
              "      <td>208.00</td>\n",
              "    </tr>\n",
              "    <tr>\n",
              "      <th>108</th>\n",
              "      <td>108.50</td>\n",
              "      <td>208.00</td>\n",
              "    </tr>\n",
              "  </tbody>\n",
              "</table>\n",
              "<p>109 rows × 2 columns</p>\n",
              "</div>"
            ],
            "text/plain": [
              "      Waist      AT\n",
              "0     74.75   25.72\n",
              "1     72.60   25.89\n",
              "2     81.80   42.60\n",
              "3     83.95   42.80\n",
              "4     74.65   29.84\n",
              "..      ...     ...\n",
              "104  100.10  124.00\n",
              "105   93.30   62.20\n",
              "106  101.80  133.00\n",
              "107  107.90  208.00\n",
              "108  108.50  208.00\n",
              "\n",
              "[109 rows x 2 columns]"
            ]
          },
          "metadata": {
            "tags": []
          },
          "execution_count": 10
        }
      ]
    },
    {
      "cell_type": "code",
      "metadata": {
        "colab": {
          "base_uri": "https://localhost:8080/",
          "height": 279
        },
        "id": "aiYpT8QVQMsn",
        "outputId": "b7456c34-b175-4f61-f648-d86a288e653a"
      },
      "source": [
        "import statsmodels.api as smf\r\n",
        "import pylab as py\r\n",
        "smf.qqplot(df1['Waist'],fit=True,line=\"45\")\r\n",
        "py.show()"
      ],
      "execution_count": null,
      "outputs": [
        {
          "output_type": "display_data",
          "data": {
            "image/png": "[encoded data removed]",
            "text/plain": [
              "<Figure size 432x288 with 1 Axes>"
            ]
          },
          "metadata": {
            "tags": [],
            "needs_background": "light"
          }
        }
      ]
    },
    {
      "cell_type": "code",
      "metadata": {
        "colab": {
          "base_uri": "https://localhost:8080/",
          "height": 279
        },
        "id": "s6XEORa0TjkQ",
        "outputId": "d2bc5ca5-1009-44a6-e075-47a7450c72db"
      },
      "source": [
        "import statsmodels.api as smf\r\n",
        "import pylab as py\r\n",
        "smf.qqplot(df1['AT'],fit=True,line=\"45\")\r\n",
        "py.show()"
      ],
      "execution_count": null,
      "outputs": [
        {
          "output_type": "display_data",
          "data": {
            "image/png": "[encoded data removed]",
            "text/plain": [
              "<Figure size 432x288 with 1 Axes>"
            ]
          },
          "metadata": {
            "tags": [],
            "needs_background": "light"
          }
        }
      ]
    },
    {
      "cell_type": "code",
      "metadata": {
        "colab": {
          "base_uri": "https://localhost:8080/",
          "height": 279
        },
        "id": "rN3ap_BaUi8D",
        "outputId": "5fdf90c8-30a1-45c7-fc36-7ad97ea017af"
      },
      "source": [
        "smf.qqplot(df['MPG'],fit=True,line=\"45\")\r\n",
        "py.show()"
      ],
      "execution_count": null,
      "outputs": [
        {
          "output_type": "display_data",
          "data": {
            "image/png": "[encoded data removed]",
            "text/plain": [
              "<Figure size 432x288 with 1 Axes>"
            ]
          },
          "metadata": {
            "tags": [],
            "needs_background": "light"
          }
        }
      ]
    },
    {
      "cell_type": "markdown",
      "metadata": {
        "id": "hK4BJWxwVvaN"
      },
      "source": [
        ""
      ]
    },
    {
      "cell_type": "code",
      "metadata": {
        "colab": {
          "base_uri": "https://localhost:8080/"
        },
        "id": "d5Xn6GRvVQ0K",
        "outputId": "ae9ad104-b09c-42bd-d2ac-0f05e1b01066"
      },
      "source": [
        "stats.norm.ppf(0.80)"
      ],
      "execution_count": null,
      "outputs": [
        {
          "output_type": "execute_result",
          "data": {
            "text/plain": [
              "0.8416212335729143"
            ]
          },
          "metadata": {
            "tags": []
          },
          "execution_count": 27
        }
      ]
    },
    {
      "cell_type": "code",
      "metadata": {
        "colab": {
          "base_uri": "https://localhost:8080/"
        },
        "id": "alUQv7jjVZLD",
        "outputId": "7bffbb57-05c7-4b91-e2ae-f2e1d6e79542"
      },
      "source": [
        "stats.norm.ppf(0.95)"
      ],
      "execution_count": null,
      "outputs": [
        {
          "output_type": "execute_result",
          "data": {
            "text/plain": [
              "1.6448536269514722"
            ]
          },
          "metadata": {
            "tags": []
          },
          "execution_count": 28
        }
      ]
    },
    {
      "cell_type": "code",
      "metadata": {
        "colab": {
          "base_uri": "https://localhost:8080/"
        },
        "id": "NntJPhjCVxos",
        "outputId": "4aca1d54-7305-4606-b7d5-f63228cc4e19"
      },
      "source": [
        "stats.norm.ppf(0.97)"
      ],
      "execution_count": null,
      "outputs": [
        {
          "output_type": "execute_result",
          "data": {
            "text/plain": [
              "1.8807936081512509"
            ]
          },
          "metadata": {
            "tags": []
          },
          "execution_count": 29
        }
      ]
    },
    {
      "cell_type": "code",
      "metadata": {
        "colab": {
          "base_uri": "https://localhost:8080/"
        },
        "id": "Ehb6ZMQTWIqE",
        "outputId": "13be81d1-d023-4240-aa48-42804e25e75b"
      },
      "source": [
        "stats.t.ppf(0.975,df=24)"
      ],
      "execution_count": null,
      "outputs": [
        {
          "output_type": "execute_result",
          "data": {
            "text/plain": [
              "2.0638985616280205"
            ]
          },
          "metadata": {
            "tags": []
          },
          "execution_count": 30
        }
      ]
    },
    {
      "cell_type": "code",
      "metadata": {
        "colab": {
          "base_uri": "https://localhost:8080/"
        },
        "id": "p5Idu3SdWRM9",
        "outputId": "d2637a9d-ac0d-46ad-8efd-8cf1caf0819b"
      },
      "source": [
        "stats.t.ppf(0.98,df=24)"
      ],
      "execution_count": null,
      "outputs": [
        {
          "output_type": "execute_result",
          "data": {
            "text/plain": [
              "2.1715446760080677"
            ]
          },
          "metadata": {
            "tags": []
          },
          "execution_count": 31
        }
      ]
    },
    {
      "cell_type": "code",
      "metadata": {
        "colab": {
          "base_uri": "https://localhost:8080/"
        },
        "id": "W_xVOQdkWTMd",
        "outputId": "7dd91e55-75b6-48f6-9534-a50c40a1f6cf"
      },
      "source": [
        "stats.t.ppf(0.995,df=24)"
      ],
      "execution_count": null,
      "outputs": [
        {
          "output_type": "execute_result",
          "data": {
            "text/plain": [
              "2.796939504772804"
            ]
          },
          "metadata": {
            "tags": []
          },
          "execution_count": 32
        }
      ]
    },
    {
      "cell_type": "code",
      "metadata": {
        "colab": {
          "base_uri": "https://localhost:8080/"
        },
        "id": "Cku6nHixWcVU",
        "outputId": "d58a8df5-7093-49c4-90ad-bbbc9c2a95af"
      },
      "source": [
        "stats.t.cdf(.975,df=17)"
      ],
      "execution_count": null,
      "outputs": [
        {
          "output_type": "execute_result",
          "data": {
            "text/plain": [
              "2.1098155778331806"
            ]
          },
          "metadata": {
            "tags": []
          },
          "execution_count": 33
        }
      ]
    },
    {
      "cell_type": "code",
      "metadata": {
        "id": "D9gN7svnXaeo"
      },
      "source": [
        "t_value = (260 - 270)/(90/np.sqrt(18))"
      ],
      "execution_count": null,
      "outputs": []
    },
    {
      "cell_type": "code",
      "metadata": {
        "colab": {
          "base_uri": "https://localhost:8080/"
        },
        "id": "DIaUY6gsXfzG",
        "outputId": "df78ab86-45bc-402c-8d23-b7702fdaea96"
      },
      "source": [
        "t_value"
      ],
      "execution_count": null,
      "outputs": [
        {
          "output_type": "execute_result",
          "data": {
            "text/plain": [
              "-0.4714045207910317"
            ]
          },
          "metadata": {
            "tags": []
          },
          "execution_count": 35
        }
      ]
    },
    {
      "cell_type": "code",
      "metadata": {
        "colab": {
          "base_uri": "https://localhost:8080/"
        },
        "id": "TKq_Vz_bXhzQ",
        "outputId": "832c23da-11d9-4156-b456-7f9ce846ab75"
      },
      "source": [
        "stats.t.cdf(t_value,df=17)"
      ],
      "execution_count": null,
      "outputs": [
        {
          "output_type": "execute_result",
          "data": {
            "text/plain": [
              "0.32167253567098364"
            ]
          },
          "metadata": {
            "tags": []
          },
          "execution_count": 36
        }
      ]
    },
    {
      "cell_type": "code",
      "metadata": {
        "colab": {
          "base_uri": "https://localhost:8080/",
          "height": 111
        },
        "id": "hPfYQGqMYPk8",
        "outputId": "e5a4a32d-6449-460d-e053-e250a4408e05"
      },
      "source": [
        "df[['MPG']].agg(['mean','std'])"
      ],
      "execution_count": null,
      "outputs": [
        {
          "output_type": "execute_result",
          "data": {
            "text/html": [
              "<div>\n",
              "<style scoped>\n",
              "    .dataframe tbody tr th:only-of-type {\n",
              "        vertical-align: middle;\n",
              "    }\n",
              "\n",
              "    .dataframe tbody tr th {\n",
              "        vertical-align: top;\n",
              "    }\n",
              "\n",
              "    .dataframe thead th {\n",
              "        text-align: right;\n",
              "    }\n",
              "</style>\n",
              "<table border=\"1\" class=\"dataframe\">\n",
              "  <thead>\n",
              "    <tr style=\"text-align: right;\">\n",
              "      <th></th>\n",
              "      <th>MPG</th>\n",
              "    </tr>\n",
              "  </thead>\n",
              "  <tbody>\n",
              "    <tr>\n",
              "      <th>mean</th>\n",
              "      <td>34.422076</td>\n",
              "    </tr>\n",
              "    <tr>\n",
              "      <th>std</th>\n",
              "      <td>9.131445</td>\n",
              "    </tr>\n",
              "  </tbody>\n",
              "</table>\n",
              "</div>"
            ],
            "text/plain": [
              "            MPG\n",
              "mean  34.422076\n",
              "std    9.131445"
            ]
          },
          "metadata": {
            "tags": []
          },
          "execution_count": 38
        }
      ]
    },
    {
      "cell_type": "code",
      "metadata": {
        "colab": {
          "base_uri": "https://localhost:8080/"
        },
        "id": "TB04RNusYWL5",
        "outputId": "e35542f6-06d4-4a50-d96b-5b4acfe81229"
      },
      "source": [
        "1-stats.norm.cdf(38,loc=34.42,scale=9.13)"
      ],
      "execution_count": null,
      "outputs": [
        {
          "output_type": "execute_result",
          "data": {
            "text/plain": [
              "0.34748702501304063"
            ]
          },
          "metadata": {
            "tags": []
          },
          "execution_count": 39
        }
      ]
    },
    {
      "cell_type": "code",
      "metadata": {
        "colab": {
          "base_uri": "https://localhost:8080/"
        },
        "id": "JS06nTVWYzeU",
        "outputId": "afedb390-776b-4b57-8cac-41df1ce8f8da"
      },
      "source": [
        "stats.norm.cdf(40,loc=34.42,scale=9.13)"
      ],
      "execution_count": null,
      "outputs": [
        {
          "output_type": "execute_result",
          "data": {
            "text/plain": [
              "0.7294571279557076"
            ]
          },
          "metadata": {
            "tags": []
          },
          "execution_count": 40
        }
      ]
    },
    {
      "cell_type": "code",
      "metadata": {
        "id": "0aGRyF2lY3jp"
      },
      "source": [
        "a=stats.norm.cdf(20,loc=34.42,scale=9.13)"
      ],
      "execution_count": null,
      "outputs": []
    },
    {
      "cell_type": "code",
      "metadata": {
        "id": "tIcpui31ZDCT"
      },
      "source": [
        "b=stats.norm.cdf(50,loc=34.42,scale=9.13)"
      ],
      "execution_count": null,
      "outputs": []
    },
    {
      "cell_type": "code",
      "metadata": {
        "id": "TbRSk4kbZIJf",
        "colab": {
          "base_uri": "https://localhost:8080/"
        },
        "outputId": "296888c9-890c-4eb1-8b59-097e2c506f53"
      },
      "source": [
        "b-a"
      ],
      "execution_count": null,
      "outputs": [
        {
          "output_type": "execute_result",
          "data": {
            "text/plain": [
              "0.8989177824549222"
            ]
          },
          "metadata": {
            "tags": []
          },
          "execution_count": 44
        }
      ]
    }
  ]
}
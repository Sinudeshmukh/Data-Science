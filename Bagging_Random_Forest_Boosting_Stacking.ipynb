{
  "nbformat": 4,
  "nbformat_minor": 0,
  "metadata": {
    "kernelspec": {
      "display_name": "Python 3",
      "language": "python",
      "name": "python3"
    },
    "language_info": {
      "codemirror_mode": {
        "name": "ipython",
        "version": 3
      },
      "file_extension": ".py",
      "mimetype": "text/x-python",
      "name": "python",
      "nbconvert_exporter": "python",
      "pygments_lexer": "ipython3",
      "version": "3.7.4"
    },
    "colab": {
      "name": "Bagging_Random Forest_Boosting_Stacking.ipynb",
      "provenance": [],
      "include_colab_link": true
    }
  },
  "cells": [
    {
      "cell_type": "markdown",
      "metadata": {
        "id": "view-in-github",
        "colab_type": "text"
      },
      "source": [
        "<a href=\"https://colab.research.google.com/github/Sinudeshmukh/Data-Science/blob/main/Bagging_Random_Forest_Boosting_Stacking.ipynb\" target=\"_parent\"><img src=\"https://colab.research.google.com/assets/colab-badge.svg\" alt=\"Open In Colab\"/></a>"
      ]
    },
    {
      "cell_type": "code",
      "metadata": {
        "id": "Tpc_uijYb3EW"
      },
      "source": [
        "# Bagged Decision Trees for Classification\r\n",
        "from pandas import read_csv\r\n",
        "from sklearn.model_selection import KFold\r\n",
        "from sklearn.model_selection import cross_val_score\r\n",
        "from sklearn.ensemble import BaggingClassifier\r\n",
        "from sklearn.tree import DecisionTreeClassifier"
      ],
      "execution_count": 1,
      "outputs": []
    },
    {
      "cell_type": "code",
      "metadata": {
        "id": "ftvFBeK_xMQO"
      },
      "source": [
        "filename = 'pima-indians-diabetes.data.csv'\r\n",
        "names = ['preg', 'plas', 'pres', 'skin', 'test', 'mass', 'pedi', 'age', 'class']\r\n",
        "dataframe = read_csv(filename, names=names)\r\n",
        "array = dataframe.values\r\n",
        "X = array[:,0:8]\r\n",
        "Y = array[:,8]"
      ],
      "execution_count": 2,
      "outputs": []
    },
    {
      "cell_type": "code",
      "metadata": {
        "id": "Tr2y_nVJcgXu"
      },
      "source": [
        "n_folds = 10\r\n",
        "kfold = KFold(n_splits=n_folds)\r\n",
        "cart = DecisionTreeClassifier()\r\n",
        "num_trees= 100\r\n"
      ],
      "execution_count": 4,
      "outputs": []
    },
    {
      "cell_type": "code",
      "metadata": {
        "colab": {
          "base_uri": "https://localhost:8080/"
        },
        "id": "rtJTHAl0cn99",
        "outputId": "66ae0be0-a86a-4d21-ec92-ba2a895146f8"
      },
      "source": [
        "model = BaggingClassifier(base_estimator=cart,n_estimators=num_trees,random_state=42)\r\n",
        "results = cross_val_score(model,X,Y,cv=kfold)\r\n",
        "print(results.mean())"
      ],
      "execution_count": 5,
      "outputs": [
        {
          "output_type": "stream",
          "text": [
            "0.7720608339029391\n"
          ],
          "name": "stdout"
        }
      ]
    },
    {
      "cell_type": "code",
      "metadata": {
        "id": "SEuT-g1efRtx"
      },
      "source": [
        "# Random Forest Classification\r\n",
        "from sklearn.ensemble import RandomForestClassifier\r\n",
        "from sklearn.model_selection import KFold\r\n",
        "from sklearn.model_selection import cross_val_score"
      ],
      "execution_count": 6,
      "outputs": []
    },
    {
      "cell_type": "code",
      "metadata": {
        "id": "KVqCLECPfnwc"
      },
      "source": [
        "num_trees=100\r\n",
        "max_features=4"
      ],
      "execution_count": 13,
      "outputs": []
    },
    {
      "cell_type": "code",
      "metadata": {
        "colab": {
          "base_uri": "https://localhost:8080/"
        },
        "id": "FrUyJ_XMfxQx",
        "outputId": "fedd8e46-fec3-4f0c-d54c-f480ec7e1f8c"
      },
      "source": [
        "kfold = KFold(n_splits=10)\r\n",
        "model = RandomForestClassifier(n_estimators=num_trees,max_features=max_features)\r\n",
        "results = cross_val_score(model,X,Y,cv=kfold)\r\n",
        "print(results.mean())"
      ],
      "execution_count": 14,
      "outputs": [
        {
          "output_type": "stream",
          "text": [
            "0.759090909090909\n"
          ],
          "name": "stdout"
        }
      ]
    },
    {
      "cell_type": "code",
      "metadata": {
        "colab": {
          "base_uri": "https://localhost:8080/"
        },
        "id": "-8FiVgHltUsw",
        "outputId": "f2039a6f-eb90-41ab-e39c-a10dd901d1ab"
      },
      "source": [
        "\n",
        "from sklearn.ensemble import AdaBoostClassifier\n",
        "\n",
        "filename = 'pima-indians-diabetes.data.csv'\n",
        "names = ['preg', 'plas', 'pres', 'skin', 'test', 'mass', 'pedi', 'age', 'class']\n",
        "dataframe = read_csv(filename, names=names)\n",
        "array = dataframe.values\n",
        "\n",
        "X = array[:,0:8]\n",
        "Y = array[:,8]\n",
        "\n",
        "num_trees = 1000\n",
        "seed=7\n",
        "kfold = KFold(n_splits=10, random_state=seed)\n",
        "model = AdaBoostClassifier(n_estimators=num_trees, random_state=seed)\n",
        "results = cross_val_score(model, X, Y, cv=kfold)\n",
        "print(results.mean())\n"
      ],
      "execution_count": null,
      "outputs": [
        {
          "output_type": "stream",
          "text": [
            "/usr/local/lib/python3.7/dist-packages/sklearn/model_selection/_split.py:296: FutureWarning: Setting a random_state has no effect since shuffle is False. This will raise an error in 0.24. You should leave random_state to its default (None), or set shuffle=True.\n",
            "  FutureWarning\n"
          ],
          "name": "stderr"
        },
        {
          "output_type": "stream",
          "text": [
            "0.7500341763499658\n"
          ],
          "name": "stdout"
        }
      ]
    },
    {
      "cell_type": "code",
      "metadata": {
        "id": "uNJfbK5_gsvZ"
      },
      "source": [
        "# AdaBoost Classification\r\n",
        "from pandas import read_csv\r\n",
        "from sklearn.model_selection import KFold\r\n",
        "from sklearn.model_selection import cross_val_score\r\n",
        "from sklearn.ensemble import AdaBoostClassifier"
      ],
      "execution_count": 15,
      "outputs": []
    },
    {
      "cell_type": "code",
      "metadata": {
        "id": "NBSfWivRg7lg"
      },
      "source": [
        "num_trees=1000\r\n",
        "seed=7"
      ],
      "execution_count": 16,
      "outputs": []
    },
    {
      "cell_type": "code",
      "metadata": {
        "colab": {
          "base_uri": "https://localhost:8080/"
        },
        "id": "ys85909Lg7gb",
        "outputId": "c1a02752-39ba-4f19-c8c5-dab148600622"
      },
      "source": [
        "kfold = KFold(n_splits=10)\r\n",
        "model = AdaBoostClassifier(n_estimators=num_trees,random_state=seed)\r\n",
        "results = cross_val_score(model, X, Y, cv=kfold)\r\n",
        "print(results.mean())"
      ],
      "execution_count": 19,
      "outputs": [
        {
          "output_type": "stream",
          "text": [
            "0.7500341763499658\n"
          ],
          "name": "stdout"
        }
      ]
    },
    {
      "cell_type": "code",
      "metadata": {
        "id": "2N7u3vOutUsy"
      },
      "source": [
        "# Stacking Ensemble for Classification\r\n",
        "from pandas import read_csv\r\n",
        "from sklearn.model_selection import KFold\r\n",
        "from sklearn.model_selection import cross_val_score\r\n",
        "from sklearn.linear_model import LogisticRegression\r\n",
        "from sklearn.tree import DecisionTreeClassifier\r\n",
        "from sklearn.svm import SVC\r\n",
        "from sklearn.ensemble import VotingClassifier"
      ],
      "execution_count": 20,
      "outputs": []
    },
    {
      "cell_type": "code",
      "metadata": {
        "colab": {
          "base_uri": "https://localhost:8080/"
        },
        "id": "XST9msw5tUsx",
        "outputId": "705442f2-1367-443a-ee57-1045b88e0c0c"
      },
      "source": [
        "\n",
        "filename = 'pima-indians-diabetes.data.csv'\n",
        "names = ['preg', 'plas', 'pres', 'skin', 'test', 'mass', 'pedi', 'age', 'class']\n",
        "dataframe = read_csv(filename, names=names)\n",
        "array = dataframe.values\n",
        "X = array[:,0:8]\n",
        "Y = array[:,8]\n",
        "kfold = KFold(n_splits=10, random_state=7)"
      ],
      "execution_count": 21,
      "outputs": [
        {
          "output_type": "stream",
          "text": [
            "/usr/local/lib/python3.7/dist-packages/sklearn/model_selection/_split.py:296: FutureWarning: Setting a random_state has no effect since shuffle is False. This will raise an error in 0.24. You should leave random_state to its default (None), or set shuffle=True.\n",
            "  FutureWarning\n"
          ],
          "name": "stderr"
        }
      ]
    },
    {
      "cell_type": "code",
      "metadata": {
        "id": "kjSO0uQ5iuyV"
      },
      "source": [
        "# create the sub models\r\n",
        "estimators = []\r\n",
        "model1 = LogisticRegression(max_iter=500)\r\n",
        "estimators.append(('logistic', model1))\r\n",
        "model2 = DecisionTreeClassifier()\r\n",
        "estimators.append(('cart', model2))\r\n",
        "model3 = SVC()\r\n",
        "estimators.append(('svm', model3))"
      ],
      "execution_count": 22,
      "outputs": []
    },
    {
      "cell_type": "code",
      "metadata": {
        "colab": {
          "base_uri": "https://localhost:8080/"
        },
        "id": "N3ByakQlivtz",
        "outputId": "ea8f96e2-59e2-49e3-d17e-2ddaf1ba0f65"
      },
      "source": [
        "# create the ensemble model\r\n",
        "ensemble = VotingClassifier(estimators)\r\n",
        "results = cross_val_score(ensemble, X, Y, cv=kfold)\r\n",
        "print(results.mean())"
      ],
      "execution_count": 23,
      "outputs": [
        {
          "output_type": "stream",
          "text": [
            "0.7643198906356802\n"
          ],
          "name": "stdout"
        }
      ]
    }
  ]
}
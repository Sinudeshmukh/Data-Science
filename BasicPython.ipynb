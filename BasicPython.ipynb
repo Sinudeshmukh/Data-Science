{
  "nbformat": 4,
  "nbformat_minor": 0,
  "metadata": {
    "colab": {
      "name": "BasicPython.ipynb",
      "provenance": [],
      "authorship_tag": "ABX9TyPDS90dWwyG9GVRdUSXgSee",
      "include_colab_link": true
    },
    "kernelspec": {
      "name": "python3",
      "display_name": "Python 3"
    }
  },
  "cells": [
    {
      "cell_type": "markdown",
      "metadata": {
        "id": "view-in-github",
        "colab_type": "text"
      },
      "source": [
        "<a href=\"https://colab.research.google.com/github/Sinudeshmukh/PYTHON-CODES/blob/main/BasicPython.ipynb\" target=\"_parent\"><img src=\"https://colab.research.google.com/assets/colab-badge.svg\" alt=\"Open In Colab\"/></a>"
      ]
    },
    {
      "cell_type": "code",
      "metadata": {
        "colab": {
          "base_uri": "https://localhost:8080/",
          "height": 52
        },
        "id": "RSvWIU0_5gDA",
        "outputId": "27dcbbc6-dc74-469c-f695-c9ff99e27155"
      },
      "source": [
        "name = input(\"Enter Name\")\r\n",
        "name"
      ],
      "execution_count": null,
      "outputs": [
        {
          "output_type": "stream",
          "text": [
            "Enter Namesinu\n"
          ],
          "name": "stdout"
        },
        {
          "output_type": "execute_result",
          "data": {
            "application/vnd.google.colaboratory.intrinsic+json": {
              "type": "string"
            },
            "text/plain": [
              "'sinu'"
            ]
          },
          "metadata": {
            "tags": []
          },
          "execution_count": 3
        }
      ]
    },
    {
      "cell_type": "code",
      "metadata": {
        "colab": {
          "base_uri": "https://localhost:8080/",
          "height": 52
        },
        "id": "sDJBZqKDMCTY",
        "outputId": "743b03a8-f96e-4996-8b46-56b8529bd91e"
      },
      "source": [
        "age = int(input(\"Enter age\"))\r\n",
        "age"
      ],
      "execution_count": null,
      "outputs": [
        {
          "output_type": "stream",
          "text": [
            "Enter age21\n"
          ],
          "name": "stdout"
        },
        {
          "output_type": "execute_result",
          "data": {
            "application/vnd.google.colaboratory.intrinsic+json": {
              "type": "string"
            },
            "text/plain": [
              "'21'"
            ]
          },
          "metadata": {
            "tags": []
          },
          "execution_count": 4
        }
      ]
    },
    {
      "cell_type": "code",
      "metadata": {
        "colab": {
          "base_uri": "https://localhost:8080/"
        },
        "id": "mOvcgHkkMWc6",
        "outputId": "5fe2b5e3-4f39-4d6a-db15-9930c5996c5d"
      },
      "source": [
        "#standard python print\r\n",
        "print(\"{0} is {1} yrs old\".format(name,age))"
      ],
      "execution_count": null,
      "outputs": [
        {
          "output_type": "stream",
          "text": [
            "sinu is 21 yrs old\n"
          ],
          "name": "stdout"
        }
      ]
    },
    {
      "cell_type": "code",
      "metadata": {
        "colab": {
          "base_uri": "https://localhost:8080/"
        },
        "id": "H3xtj0rBM9J9",
        "outputId": "b67900e9-ef12-4c7f-cfb6-21a7dd9a877d"
      },
      "source": [
        "#f string\r\n",
        "print(f\"{name} is {age} yrs old\")"
      ],
      "execution_count": null,
      "outputs": [
        {
          "output_type": "stream",
          "text": [
            "sinu is 21 yrs old\n"
          ],
          "name": "stdout"
        }
      ]
    },
    {
      "cell_type": "markdown",
      "metadata": {
        "id": "cxbrvnzWQFyv"
      },
      "source": [
        "#if , if else"
      ]
    },
    {
      "cell_type": "code",
      "metadata": {
        "colab": {
          "base_uri": "https://localhost:8080/"
        },
        "id": "Sxq0nlgxNJXk",
        "outputId": "8ce0249a-111f-4cb2-d5cb-f0044ffd7219"
      },
      "source": [
        "if 3>1:\r\n",
        "  print(\"Greater\")\r\n",
        "print(\"Smaller\")"
      ],
      "execution_count": null,
      "outputs": [
        {
          "output_type": "stream",
          "text": [
            "Greater\n",
            "Smaller\n"
          ],
          "name": "stdout"
        }
      ]
    },
    {
      "cell_type": "code",
      "metadata": {
        "colab": {
          "base_uri": "https://localhost:8080/"
        },
        "id": "oEf_oEMmQb5o",
        "outputId": "787fed70-0332-4d43-837d-2886dfec3fbd"
      },
      "source": [
        "if 3<1:\r\n",
        "  print(\"Greater\")\r\n",
        "print(\"Smaller\")"
      ],
      "execution_count": null,
      "outputs": [
        {
          "output_type": "stream",
          "text": [
            "Smaller\n"
          ],
          "name": "stdout"
        }
      ]
    },
    {
      "cell_type": "code",
      "metadata": {
        "colab": {
          "base_uri": "https://localhost:8080/"
        },
        "id": "Um0LbecVQfrZ",
        "outputId": "cdc195e1-49df-491b-a5ab-627476082ea0"
      },
      "source": [
        "if 3>1:\r\n",
        "  print(\"Greater\")\r\n",
        "else:\r\n",
        "  print(\"Smaller\")"
      ],
      "execution_count": null,
      "outputs": [
        {
          "output_type": "stream",
          "text": [
            "Greater\n"
          ],
          "name": "stdout"
        }
      ]
    },
    {
      "cell_type": "code",
      "metadata": {
        "colab": {
          "base_uri": "https://localhost:8080/"
        },
        "id": "2oz4ulphQnuV",
        "outputId": "95e00a6b-d6da-4999-f7be-45da4ca7d39b"
      },
      "source": [
        "if 3<1:\r\n",
        "  print(\"Greater\")\r\n",
        "else:\r\n",
        "  print(\"Smaller\")"
      ],
      "execution_count": null,
      "outputs": [
        {
          "output_type": "stream",
          "text": [
            "Smaller\n"
          ],
          "name": "stdout"
        }
      ]
    },
    {
      "cell_type": "markdown",
      "metadata": {
        "id": "rt1ACZ9Pn6q_"
      },
      "source": [
        "Try for all values one by one"
      ]
    },
    {
      "cell_type": "code",
      "metadata": {
        "id": "5WynXhx6QrG2"
      },
      "source": [
        "a=3; b=7"
      ],
      "execution_count": null,
      "outputs": []
    },
    {
      "cell_type": "code",
      "metadata": {
        "id": "wBnn9eNPnRii"
      },
      "source": [
        "a=7; b=3"
      ],
      "execution_count": null,
      "outputs": []
    },
    {
      "cell_type": "code",
      "metadata": {
        "id": "-oj2VC-ynfKy"
      },
      "source": [
        "a=5;b=5"
      ],
      "execution_count": null,
      "outputs": []
    },
    {
      "cell_type": "code",
      "metadata": {
        "colab": {
          "base_uri": "https://localhost:8080/"
        },
        "id": "Gu3gNUjlmbpw",
        "outputId": "e1299eb4-5c93-4859-d5b6-5d3842057d07"
      },
      "source": [
        "if a<b:\r\n",
        "  print(\"A < B\")\r\n",
        "else: \r\n",
        "  if a>b:\r\n",
        "    print(\"A > B\")\r\n",
        "  else:\r\n",
        "    print(\"A = B\")\r\n",
        "  \r\n"
      ],
      "execution_count": null,
      "outputs": [
        {
          "output_type": "stream",
          "text": [
            "A = B\n"
          ],
          "name": "stdout"
        }
      ]
    },
    {
      "cell_type": "code",
      "metadata": {
        "id": "Y_GybliSopns"
      },
      "source": [
        ""
      ],
      "execution_count": null,
      "outputs": []
    },
    {
      "cell_type": "code",
      "metadata": {
        "colab": {
          "base_uri": "https://localhost:8080/"
        },
        "id": "N3fnosRJnP9k",
        "outputId": "389b5d8a-40be-4709-d65e-f4a07d4982c8"
      },
      "source": [
        "num = int(input(\"Enter Number\"))\r\n",
        "if num==1:\r\n",
        "  print(\"One\")\r\n",
        "elif num==2:\r\n",
        "  print(\"Two\")\r\n",
        "elif num==3:\r\n",
        "  print(\"Three\")\r\n",
        "else:\r\n",
        "  print(\"Other Number\")\r\n"
      ],
      "execution_count": null,
      "outputs": [
        {
          "output_type": "stream",
          "text": [
            "Enter Number5\n",
            "Other Number\n"
          ],
          "name": "stdout"
        }
      ]
    },
    {
      "cell_type": "markdown",
      "metadata": {
        "id": "ORHZE0gyyVLO"
      },
      "source": [
        "#ternary operator"
      ]
    },
    {
      "cell_type": "code",
      "metadata": {
        "colab": {
          "base_uri": "https://localhost:8080/",
          "height": 35
        },
        "id": "ZnVBfUHJpXKX",
        "outputId": "3ddf1f21-50d4-4480-82a8-22bc8c80e9e1"
      },
      "source": [
        "\"Yes\" if 10 > 3 else \"No\" "
      ],
      "execution_count": null,
      "outputs": [
        {
          "output_type": "execute_result",
          "data": {
            "application/vnd.google.colaboratory.intrinsic+json": {
              "type": "string"
            },
            "text/plain": [
              "'Yes'"
            ]
          },
          "metadata": {
            "tags": []
          },
          "execution_count": 11
        }
      ]
    },
    {
      "cell_type": "code",
      "metadata": {
        "id": "C2KALRh6ygJs"
      },
      "source": [
        "#defining a function\r\n",
        "def hi():\r\n",
        "  print(\"Yes\")\r\n",
        "def bye():\r\n",
        "  print(\"No\")\r\n"
      ],
      "execution_count": null,
      "outputs": []
    },
    {
      "cell_type": "code",
      "metadata": {
        "colab": {
          "base_uri": "https://localhost:8080/"
        },
        "id": "zSeXJs4azHpi",
        "outputId": "9d4995e9-c6a8-4f49-f449-756111a1b4b4"
      },
      "source": [
        "\"Yes\" if 10 > 3 else \"No\" "
      ],
      "execution_count": null,
      "outputs": [
        {
          "output_type": "stream",
          "text": [
            "Yes\n"
          ],
          "name": "stdout"
        }
      ]
    },
    {
      "cell_type": "code",
      "metadata": {
        "colab": {
          "base_uri": "https://localhost:8080/",
          "height": 35
        },
        "id": "UMX8eM9_zM3O",
        "outputId": "65223795-2ff2-4fc9-a97f-cb25b8f96fa1"
      },
      "source": [
        "\"Yes\" if 10 < 3 else \"No\" "
      ],
      "execution_count": null,
      "outputs": [
        {
          "output_type": "execute_result",
          "data": {
            "application/vnd.google.colaboratory.intrinsic+json": {
              "type": "string"
            },
            "text/plain": [
              "'No'"
            ]
          },
          "metadata": {
            "tags": []
          },
          "execution_count": 14
        }
      ]
    },
    {
      "cell_type": "markdown",
      "metadata": {
        "id": "D18SBCG_3ANC"
      },
      "source": [
        "#While loop"
      ]
    },
    {
      "cell_type": "code",
      "metadata": {
        "colab": {
          "base_uri": "https://localhost:8080/"
        },
        "id": "ZthEl9tpzS0e",
        "outputId": "2e8ac37e-1483-4071-fe59-b016000029bd"
      },
      "source": [
        "cnt=0\r\n",
        "while cnt<3:\r\n",
        "  print(\"Hello \",end=\"\")\r\n",
        "  print(\"Sinu\")\r\n",
        "  cnt+=1\r\n",
        "print(\"Loop Finished\")"
      ],
      "execution_count": null,
      "outputs": [
        {
          "output_type": "stream",
          "text": [
            "Hello Sinu\n",
            "Hello Sinu\n",
            "Hello Sinu\n",
            "Loop Finished\n"
          ],
          "name": "stdout"
        }
      ]
    },
    {
      "cell_type": "code",
      "metadata": {
        "colab": {
          "base_uri": "https://localhost:8080/"
        },
        "id": "CU-UAlA53c8z",
        "outputId": "fd794f75-d02b-4b8b-ea94-72f3ea53b552"
      },
      "source": [
        "cnt=1\r\n",
        "while cnt<5:\r\n",
        "  print(\"Hello \",end=\"\")\r\n",
        "  print(\"Sinu\")\r\n",
        "  if cnt % 4 == 0:\r\n",
        "    break\r\n",
        "\r\n",
        "  cnt+=1\r\n",
        "print(\"Loop Finished\")"
      ],
      "execution_count": null,
      "outputs": [
        {
          "output_type": "stream",
          "text": [
            "Hello Sinu\n",
            "Hello Sinu\n",
            "Hello Sinu\n",
            "Hello Sinu\n",
            "Loop Finished\n"
          ],
          "name": "stdout"
        }
      ]
    },
    {
      "cell_type": "code",
      "metadata": {
        "colab": {
          "base_uri": "https://localhost:8080/"
        },
        "id": "USX9Vi2u6Cp2",
        "outputId": "d4431c53-97ef-45a4-8412-b9dccf868ae9"
      },
      "source": [
        "cnt=1\r\n",
        "while cnt in range(16):\r\n",
        "  print(cnt)\r\n",
        "  cnt+=2\r\n",
        "print(\"Loop Finished\")"
      ],
      "execution_count": null,
      "outputs": [
        {
          "output_type": "stream",
          "text": [
            "1\n",
            "3\n",
            "5\n",
            "7\n",
            "9\n",
            "11\n",
            "13\n",
            "15\n",
            "Loop Finished\n"
          ],
          "name": "stdout"
        }
      ]
    },
    {
      "cell_type": "code",
      "metadata": {
        "colab": {
          "base_uri": "https://localhost:8080/"
        },
        "id": "FKYjyJzT7NhX",
        "outputId": "645890db-397b-4908-ccca-92db6a7859bc"
      },
      "source": [
        "cnt=0;\r\n",
        "while cnt < 5:\r\n",
        "  a = int(input(\"Enter your number\"))\r\n",
        "  if a % 5 == 0:\r\n",
        "   print(\"Yes U won\")\r\n",
        "   break;\r\n",
        "  cnt= cnt + 1\r\n",
        "else:\r\n",
        "  print(\"Chances Exhausted\")"
      ],
      "execution_count": null,
      "outputs": [
        {
          "output_type": "stream",
          "text": [
            "Enter your number1\n",
            "Enter your number2\n",
            "Enter your number35\n",
            "Yes U won\n"
          ],
          "name": "stdout"
        }
      ]
    },
    {
      "cell_type": "code",
      "metadata": {
        "id": "1z77EEEyBHsG"
      },
      "source": [
        "222"
      ],
      "execution_count": null,
      "outputs": []
    },
    {
      "cell_type": "markdown",
      "metadata": {
        "id": "3BDdJuga2sPL"
      },
      "source": [
        "#Exception handling"
      ]
    },
    {
      "cell_type": "code",
      "metadata": {
        "colab": {
          "base_uri": "https://localhost:8080/"
        },
        "id": "OOoVn9Jw2v4b",
        "outputId": "c919ed9e-6d66-4cce-a649-71b146ec5d87"
      },
      "source": [
        "num = 10\r\n",
        "for i in [10,20,30,40]:\r\n",
        "  print(num/i)\r\n"
      ],
      "execution_count": null,
      "outputs": [
        {
          "output_type": "stream",
          "text": [
            "1.0\n",
            "0.5\n",
            "0.3333333333333333\n",
            "0.25\n"
          ],
          "name": "stdout"
        }
      ]
    },
    {
      "cell_type": "code",
      "metadata": {
        "colab": {
          "base_uri": "https://localhost:8080/",
          "height": 231
        },
        "id": "LKv36UjM4t2t",
        "outputId": "cedb9c3f-ece1-454e-d2e6-a11352826e10"
      },
      "source": [
        "#error\r\n",
        "num = 10\r\n",
        "for i in [10,20,0,30,40]:\r\n",
        "  print(num/i)\r\n"
      ],
      "execution_count": null,
      "outputs": [
        {
          "output_type": "stream",
          "text": [
            "1.0\n",
            "0.5\n"
          ],
          "name": "stdout"
        },
        {
          "output_type": "error",
          "ename": "ZeroDivisionError",
          "evalue": "ignored",
          "traceback": [
            "\u001b[0;31m---------------------------------------------------------------------------\u001b[0m",
            "\u001b[0;31mZeroDivisionError\u001b[0m                         Traceback (most recent call last)",
            "\u001b[0;32m<ipython-input-6-5e7f348bbbac>\u001b[0m in \u001b[0;36m<module>\u001b[0;34m()\u001b[0m\n\u001b[1;32m      2\u001b[0m \u001b[0mnum\u001b[0m \u001b[0;34m=\u001b[0m \u001b[0;36m10\u001b[0m\u001b[0;34m\u001b[0m\u001b[0;34m\u001b[0m\u001b[0m\n\u001b[1;32m      3\u001b[0m \u001b[0;32mfor\u001b[0m \u001b[0mi\u001b[0m \u001b[0;32min\u001b[0m \u001b[0;34m[\u001b[0m\u001b[0;36m10\u001b[0m\u001b[0;34m,\u001b[0m\u001b[0;36m20\u001b[0m\u001b[0;34m,\u001b[0m\u001b[0;36m0\u001b[0m\u001b[0;34m,\u001b[0m\u001b[0;36m30\u001b[0m\u001b[0;34m,\u001b[0m\u001b[0;36m40\u001b[0m\u001b[0;34m]\u001b[0m\u001b[0;34m:\u001b[0m\u001b[0;34m\u001b[0m\u001b[0;34m\u001b[0m\u001b[0m\n\u001b[0;32m----> 4\u001b[0;31m       \u001b[0mprint\u001b[0m\u001b[0;34m(\u001b[0m\u001b[0mnum\u001b[0m\u001b[0;34m/\u001b[0m\u001b[0mi\u001b[0m\u001b[0;34m)\u001b[0m\u001b[0;34m\u001b[0m\u001b[0;34m\u001b[0m\u001b[0m\n\u001b[0m",
            "\u001b[0;31mZeroDivisionError\u001b[0m: division by zero"
          ]
        }
      ]
    },
    {
      "cell_type": "code",
      "metadata": {
        "colab": {
          "base_uri": "https://localhost:8080/"
        },
        "id": "uiz00vO629MD",
        "outputId": "ba4af354-352f-4f09-adcb-46a5ef0e120e"
      },
      "source": [
        "num = 10\r\n",
        "try:\r\n",
        "    for i in [10,20,0,30,40]:\r\n",
        "      print(num/i)\r\n",
        "except ZeroDivisionError:\r\n",
        "  print(\"Error handled\")"
      ],
      "execution_count": null,
      "outputs": [
        {
          "output_type": "stream",
          "text": [
            "1.0\n",
            "0.5\n",
            "Error handled\n"
          ],
          "name": "stdout"
        }
      ]
    },
    {
      "cell_type": "code",
      "metadata": {
        "colab": {
          "base_uri": "https://localhost:8080/",
          "height": 197
        },
        "id": "UrMaVpY83D-_",
        "outputId": "be4068d6-5458-44e5-eccc-341136e502d1"
      },
      "source": [
        "#error\r\n",
        "num = 10\r\n",
        "for i in [10,20,0,30,40]:\r\n",
        "  print(num2/i)"
      ],
      "execution_count": null,
      "outputs": [
        {
          "output_type": "error",
          "ename": "NameError",
          "evalue": "ignored",
          "traceback": [
            "\u001b[0;31m---------------------------------------------------------------------------\u001b[0m",
            "\u001b[0;31mNameError\u001b[0m                                 Traceback (most recent call last)",
            "\u001b[0;32m<ipython-input-7-0ea14916f862>\u001b[0m in \u001b[0;36m<module>\u001b[0;34m()\u001b[0m\n\u001b[1;32m      2\u001b[0m \u001b[0mnum\u001b[0m \u001b[0;34m=\u001b[0m \u001b[0;36m10\u001b[0m\u001b[0;34m\u001b[0m\u001b[0;34m\u001b[0m\u001b[0m\n\u001b[1;32m      3\u001b[0m \u001b[0;32mfor\u001b[0m \u001b[0mi\u001b[0m \u001b[0;32min\u001b[0m \u001b[0;34m[\u001b[0m\u001b[0;36m10\u001b[0m\u001b[0;34m,\u001b[0m\u001b[0;36m20\u001b[0m\u001b[0;34m,\u001b[0m\u001b[0;36m0\u001b[0m\u001b[0;34m,\u001b[0m\u001b[0;36m30\u001b[0m\u001b[0;34m,\u001b[0m\u001b[0;36m40\u001b[0m\u001b[0;34m]\u001b[0m\u001b[0;34m:\u001b[0m\u001b[0;34m\u001b[0m\u001b[0;34m\u001b[0m\u001b[0m\n\u001b[0;32m----> 4\u001b[0;31m   \u001b[0mprint\u001b[0m\u001b[0;34m(\u001b[0m\u001b[0mnum2\u001b[0m\u001b[0;34m/\u001b[0m\u001b[0mi\u001b[0m\u001b[0;34m)\u001b[0m\u001b[0;34m\u001b[0m\u001b[0;34m\u001b[0m\u001b[0m\n\u001b[0m",
            "\u001b[0;31mNameError\u001b[0m: name 'num2' is not defined"
          ]
        }
      ]
    },
    {
      "cell_type": "code",
      "metadata": {
        "colab": {
          "base_uri": "https://localhost:8080/"
        },
        "id": "6OdPTdmu495d",
        "outputId": "3093308d-6b52-4cc1-989b-90a5eed40921"
      },
      "source": [
        "num = 10\r\n",
        "try:\r\n",
        "    for i in [10,20,0,30,40]:\r\n",
        "      print(num2/i)\r\n",
        "except NameError:\r\n",
        "  print(\"Error handled\")"
      ],
      "execution_count": null,
      "outputs": [
        {
          "output_type": "stream",
          "text": [
            "Error handled\n"
          ],
          "name": "stdout"
        }
      ]
    },
    {
      "cell_type": "code",
      "metadata": {
        "colab": {
          "base_uri": "https://localhost:8080/"
        },
        "id": "9h1Yb4g75FmQ",
        "outputId": "e06f24ec-bb4f-464f-c0a8-cbf1aa167e70"
      },
      "source": [
        "#for other errors simply put except in last and print\r\n",
        "num = 10\r\n",
        "try:\r\n",
        "    for i in [10,20,0,30,40]:\r\n",
        "      print(num2i)\r\n",
        "except ZeroDivisionError:\r\n",
        "  print(\"Error handled\")\r\n",
        "except NameError:\r\n",
        "  print(\"Error handled\")\r\n",
        "except:\r\n",
        "  print(\"Error handled\")"
      ],
      "execution_count": null,
      "outputs": [
        {
          "output_type": "stream",
          "text": [
            "Error handled\n"
          ],
          "name": "stdout"
        }
      ]
    },
    {
      "cell_type": "code",
      "metadata": {
        "id": "eJfuk-zn5bjo"
      },
      "source": [
        ""
      ],
      "execution_count": null,
      "outputs": []
    },
    {
      "cell_type": "markdown",
      "metadata": {
        "id": "oB0ApuJa74ia"
      },
      "source": [
        "#using finally"
      ]
    },
    {
      "cell_type": "code",
      "metadata": {
        "id": "EUwwH0_W77Nq"
      },
      "source": [
        "#finally will print anyways if there are multiple errors in your code also it is going to execute obviously"
      ],
      "execution_count": null,
      "outputs": []
    },
    {
      "cell_type": "code",
      "metadata": {
        "colab": {
          "base_uri": "https://localhost:8080/",
          "height": 418
        },
        "id": "dj3-t-q18Oe5",
        "outputId": "69495483-a2c4-406e-f566-040eba8f54a1"
      },
      "source": [
        "try:\r\n",
        "  print(a)\r\n",
        "except NameError:\r\n",
        "  print(b)\r\n",
        "finally:\r\n",
        "  print(\"Executed through Finally\")"
      ],
      "execution_count": null,
      "outputs": [
        {
          "output_type": "stream",
          "text": [
            "Executed through Finally\n"
          ],
          "name": "stdout"
        },
        {
          "output_type": "error",
          "ename": "NameError",
          "evalue": "ignored",
          "traceback": [
            "\u001b[0;31m---------------------------------------------------------------------------\u001b[0m",
            "\u001b[0;31mNameError\u001b[0m                                 Traceback (most recent call last)",
            "\u001b[0;32m<ipython-input-17-a22bf9677832>\u001b[0m in \u001b[0;36m<module>\u001b[0;34m()\u001b[0m\n\u001b[1;32m      1\u001b[0m \u001b[0;32mtry\u001b[0m\u001b[0;34m:\u001b[0m\u001b[0;34m\u001b[0m\u001b[0;34m\u001b[0m\u001b[0m\n\u001b[0;32m----> 2\u001b[0;31m   \u001b[0mprint\u001b[0m\u001b[0;34m(\u001b[0m\u001b[0ma\u001b[0m\u001b[0;34m)\u001b[0m\u001b[0;34m\u001b[0m\u001b[0;34m\u001b[0m\u001b[0m\n\u001b[0m\u001b[1;32m      3\u001b[0m \u001b[0;32mexcept\u001b[0m \u001b[0mNameError\u001b[0m\u001b[0;34m:\u001b[0m\u001b[0;34m\u001b[0m\u001b[0;34m\u001b[0m\u001b[0m\n",
            "\u001b[0;31mNameError\u001b[0m: name 'a' is not defined",
            "\nDuring handling of the above exception, another exception occurred:\n",
            "\u001b[0;31mNameError\u001b[0m                                 Traceback (most recent call last)",
            "\u001b[0;32m<ipython-input-17-a22bf9677832>\u001b[0m in \u001b[0;36m<module>\u001b[0;34m()\u001b[0m\n\u001b[1;32m      2\u001b[0m   \u001b[0mprint\u001b[0m\u001b[0;34m(\u001b[0m\u001b[0ma\u001b[0m\u001b[0;34m)\u001b[0m\u001b[0;34m\u001b[0m\u001b[0;34m\u001b[0m\u001b[0m\n\u001b[1;32m      3\u001b[0m \u001b[0;32mexcept\u001b[0m \u001b[0mNameError\u001b[0m\u001b[0;34m:\u001b[0m\u001b[0;34m\u001b[0m\u001b[0;34m\u001b[0m\u001b[0m\n\u001b[0;32m----> 4\u001b[0;31m   \u001b[0mprint\u001b[0m\u001b[0;34m(\u001b[0m\u001b[0mb\u001b[0m\u001b[0;34m)\u001b[0m\u001b[0;34m\u001b[0m\u001b[0;34m\u001b[0m\u001b[0m\n\u001b[0m\u001b[1;32m      5\u001b[0m \u001b[0;32mfinally\u001b[0m\u001b[0;34m:\u001b[0m\u001b[0;34m\u001b[0m\u001b[0;34m\u001b[0m\u001b[0m\n\u001b[1;32m      6\u001b[0m   \u001b[0mprint\u001b[0m\u001b[0;34m(\u001b[0m\u001b[0;34m\"Executed through Finally\"\u001b[0m\u001b[0;34m)\u001b[0m\u001b[0;34m\u001b[0m\u001b[0;34m\u001b[0m\u001b[0m\n",
            "\u001b[0;31mNameError\u001b[0m: name 'b' is not defined"
          ]
        }
      ]
    },
    {
      "cell_type": "code",
      "metadata": {
        "colab": {
          "base_uri": "https://localhost:8080/",
          "height": 248
        },
        "id": "e7sNKLM88ebb",
        "outputId": "d15b20bc-6e7f-41af-9e41-7963773ff305"
      },
      "source": [
        "try:\r\n",
        "  print(10/0)\r\n",
        "except NameError:\r\n",
        "  print(b)\r\n",
        "finally:\r\n",
        "  print(\"Executed through Finally\")"
      ],
      "execution_count": null,
      "outputs": [
        {
          "output_type": "stream",
          "text": [
            "Executed through Finally\n"
          ],
          "name": "stdout"
        },
        {
          "output_type": "error",
          "ename": "ZeroDivisionError",
          "evalue": "ignored",
          "traceback": [
            "\u001b[0;31m---------------------------------------------------------------------------\u001b[0m",
            "\u001b[0;31mZeroDivisionError\u001b[0m                         Traceback (most recent call last)",
            "\u001b[0;32m<ipython-input-18-d7d162e2f4e5>\u001b[0m in \u001b[0;36m<module>\u001b[0;34m()\u001b[0m\n\u001b[1;32m      1\u001b[0m \u001b[0;32mtry\u001b[0m\u001b[0;34m:\u001b[0m\u001b[0;34m\u001b[0m\u001b[0;34m\u001b[0m\u001b[0m\n\u001b[0;32m----> 2\u001b[0;31m   \u001b[0mprint\u001b[0m\u001b[0;34m(\u001b[0m\u001b[0;36m10\u001b[0m\u001b[0;34m/\u001b[0m\u001b[0;36m0\u001b[0m\u001b[0;34m)\u001b[0m\u001b[0;34m\u001b[0m\u001b[0;34m\u001b[0m\u001b[0m\n\u001b[0m\u001b[1;32m      3\u001b[0m \u001b[0;32mexcept\u001b[0m \u001b[0mNameError\u001b[0m\u001b[0;34m:\u001b[0m\u001b[0;34m\u001b[0m\u001b[0;34m\u001b[0m\u001b[0m\n\u001b[1;32m      4\u001b[0m   \u001b[0mprint\u001b[0m\u001b[0;34m(\u001b[0m\u001b[0mb\u001b[0m\u001b[0;34m)\u001b[0m\u001b[0;34m\u001b[0m\u001b[0;34m\u001b[0m\u001b[0m\n\u001b[1;32m      5\u001b[0m \u001b[0;32mfinally\u001b[0m\u001b[0;34m:\u001b[0m\u001b[0;34m\u001b[0m\u001b[0;34m\u001b[0m\u001b[0m\n",
            "\u001b[0;31mZeroDivisionError\u001b[0m: division by zero"
          ]
        }
      ]
    },
    {
      "cell_type": "markdown",
      "metadata": {
        "id": "iN_3aTQx-feM"
      },
      "source": [
        "#defining functions"
      ]
    },
    {
      "cell_type": "code",
      "metadata": {
        "id": "r8ovfUgl-rsR"
      },
      "source": [
        "a = \"Deshmukh\""
      ],
      "execution_count": null,
      "outputs": []
    },
    {
      "cell_type": "code",
      "metadata": {
        "id": "pF9lVS5v8qme"
      },
      "source": [
        "def sinusfunction():\r\n",
        "  print(\"Shriniwas\")"
      ],
      "execution_count": null,
      "outputs": []
    },
    {
      "cell_type": "code",
      "metadata": {
        "colab": {
          "base_uri": "https://localhost:8080/"
        },
        "id": "8CW9Plzq-qr4",
        "outputId": "eb861e66-2c70-4339-a331-3933387baada"
      },
      "source": [
        "sinusfunction()"
      ],
      "execution_count": null,
      "outputs": [
        {
          "output_type": "stream",
          "text": [
            "Shriniwas\n"
          ],
          "name": "stdout"
        }
      ]
    },
    {
      "cell_type": "code",
      "metadata": {
        "id": "dGPqhpbb-0h2"
      },
      "source": [
        "def sinusfunction(a):\r\n",
        "  print(\"Shriniwas\",a)"
      ],
      "execution_count": null,
      "outputs": []
    },
    {
      "cell_type": "code",
      "metadata": {
        "colab": {
          "base_uri": "https://localhost:8080/"
        },
        "id": "bzwySizx-7TI",
        "outputId": "60d2511e-f969-4027-8668-e65256b352ee"
      },
      "source": [
        "sinusfunction(a)"
      ],
      "execution_count": null,
      "outputs": [
        {
          "output_type": "stream",
          "text": [
            "Shriniwas Deshmukh\n"
          ],
          "name": "stdout"
        }
      ]
    },
    {
      "cell_type": "code",
      "metadata": {
        "colab": {
          "base_uri": "https://localhost:8080/"
        },
        "id": "XxEul32d--cU",
        "outputId": "00b6b68a-4aa0-4925-e89b-1e2dcff3e7e2"
      },
      "source": [
        "#or\r\n",
        "sinusfunction(\"Deshmukh\")"
      ],
      "execution_count": null,
      "outputs": [
        {
          "output_type": "stream",
          "text": [
            "Shriniwas Deshmukh\n"
          ],
          "name": "stdout"
        }
      ]
    },
    {
      "cell_type": "code",
      "metadata": {
        "id": "L1HCMSAPBAHL"
      },
      "source": [
        "def squares(x):\r\n",
        "  return x**2\r\n"
      ],
      "execution_count": null,
      "outputs": []
    },
    {
      "cell_type": "code",
      "metadata": {
        "colab": {
          "base_uri": "https://localhost:8080/"
        },
        "id": "VJR1R5s8BJcF",
        "outputId": "2612395c-2cba-427b-d48a-f4a4fd113b00"
      },
      "source": [
        "sqs = squares(10)\r\n",
        "sqs"
      ],
      "execution_count": null,
      "outputs": [
        {
          "output_type": "execute_result",
          "data": {
            "text/plain": [
              "100"
            ]
          },
          "metadata": {
            "tags": []
          },
          "execution_count": 36
        }
      ]
    },
    {
      "cell_type": "markdown",
      "metadata": {
        "id": "0f7OEHf5unvx"
      },
      "source": [
        "#Lists and tuple"
      ]
    },
    {
      "cell_type": "markdown",
      "metadata": {
        "id": "BGm7XALevAlB"
      },
      "source": [
        "sequence properties,,\r\n",
        "Iterable,,\r\n",
        "Homogenous or hetrogenous"
      ]
    },
    {
      "cell_type": "markdown",
      "metadata": {
        "id": "IV4a07LFvPoQ"
      },
      "source": [
        "#positional ordering\r\n",
        "access elements based on the index \r\n",
        " index starts from 0\r\n"
      ]
    },
    {
      "cell_type": "code",
      "metadata": {
        "id": "SXRqF5pBBRJR",
        "colab": {
          "base_uri": "https://localhost:8080/"
        },
        "outputId": "1947fd6a-c7c9-41f0-8030-ffe6c0ae872d"
      },
      "source": [
        "my_lst = [1,2,3,4]\r\n",
        "type(my_lst)"
      ],
      "execution_count": 2,
      "outputs": [
        {
          "output_type": "execute_result",
          "data": {
            "text/plain": [
              "list"
            ]
          },
          "metadata": {
            "tags": []
          },
          "execution_count": 2
        }
      ]
    },
    {
      "cell_type": "code",
      "metadata": {
        "colab": {
          "base_uri": "https://localhost:8080/"
        },
        "id": "tyNMpsMuumAC",
        "outputId": "5e38d532-2c2f-4a70-b823-73560977b9c7"
      },
      "source": [
        "my_tup = (1,2,3,4)\r\n",
        "type(my_tup)"
      ],
      "execution_count": 4,
      "outputs": [
        {
          "output_type": "execute_result",
          "data": {
            "text/plain": [
              "tuple"
            ]
          },
          "metadata": {
            "tags": []
          },
          "execution_count": 4
        }
      ]
    },
    {
      "cell_type": "code",
      "metadata": {
        "colab": {
          "base_uri": "https://localhost:8080/"
        },
        "id": "s4WBlzVE9CaK",
        "outputId": "15bdb833-2f5f-4e8b-c595-94a67b038647"
      },
      "source": [
        "my_str = 'python'\r\n",
        "type(my_str)"
      ],
      "execution_count": 5,
      "outputs": [
        {
          "output_type": "execute_result",
          "data": {
            "text/plain": [
              "str"
            ]
          },
          "metadata": {
            "tags": []
          },
          "execution_count": 5
        }
      ]
    },
    {
      "cell_type": "markdown",
      "metadata": {
        "id": "HJ5Y4nnz-O7V"
      },
      "source": [
        "#slicing"
      ]
    },
    {
      "cell_type": "code",
      "metadata": {
        "id": "ruRuOm0U9iBC"
      },
      "source": [
        "lst = [1,2,3,4,5,6,7,8,9]"
      ],
      "execution_count": 6,
      "outputs": []
    },
    {
      "cell_type": "code",
      "metadata": {
        "colab": {
          "base_uri": "https://localhost:8080/"
        },
        "id": "vCFAlz3J-NfI",
        "outputId": "982f9808-b30d-4871-ae0c-eee216e68f43"
      },
      "source": [
        "lst[0:7]"
      ],
      "execution_count": 8,
      "outputs": [
        {
          "output_type": "execute_result",
          "data": {
            "text/plain": [
              "[1, 2, 3, 4, 5, 6, 7]"
            ]
          },
          "metadata": {
            "tags": []
          },
          "execution_count": 8
        }
      ]
    },
    {
      "cell_type": "code",
      "metadata": {
        "colab": {
          "base_uri": "https://localhost:8080/"
        },
        "id": "C1tiGFst-TKV",
        "outputId": "1080731f-bfc0-46f7-d874-3e347a386250"
      },
      "source": [
        "lst[:]"
      ],
      "execution_count": 9,
      "outputs": [
        {
          "output_type": "execute_result",
          "data": {
            "text/plain": [
              "[1, 2, 3, 4, 5, 6, 7, 8, 9]"
            ]
          },
          "metadata": {
            "tags": []
          },
          "execution_count": 9
        }
      ]
    },
    {
      "cell_type": "code",
      "metadata": {
        "colab": {
          "base_uri": "https://localhost:8080/"
        },
        "id": "ogOFvouX-aMX",
        "outputId": "193b8eac-1163-481d-8ae3-9756d88efdb2"
      },
      "source": [
        "lst[:6]"
      ],
      "execution_count": 10,
      "outputs": [
        {
          "output_type": "execute_result",
          "data": {
            "text/plain": [
              "[1, 2, 3, 4, 5, 6]"
            ]
          },
          "metadata": {
            "tags": []
          },
          "execution_count": 10
        }
      ]
    },
    {
      "cell_type": "code",
      "metadata": {
        "colab": {
          "base_uri": "https://localhost:8080/"
        },
        "id": "oZiYbX38-c4T",
        "outputId": "ee8ef63a-6bb8-43c2-ede7-4350ba849403"
      },
      "source": [
        "lst[0:]"
      ],
      "execution_count": 11,
      "outputs": [
        {
          "output_type": "execute_result",
          "data": {
            "text/plain": [
              "[1, 2, 3, 4, 5, 6, 7, 8, 9]"
            ]
          },
          "metadata": {
            "tags": []
          },
          "execution_count": 11
        }
      ]
    },
    {
      "cell_type": "code",
      "metadata": {
        "colab": {
          "base_uri": "https://localhost:8080/"
        },
        "id": "I8PBJ6IO-fd7",
        "outputId": "76a56358-f77b-4276-bb91-f7cf3d326d64"
      },
      "source": [
        "lst[1:9:3]"
      ],
      "execution_count": 12,
      "outputs": [
        {
          "output_type": "execute_result",
          "data": {
            "text/plain": [
              "[2, 5, 8]"
            ]
          },
          "metadata": {
            "tags": []
          },
          "execution_count": 12
        }
      ]
    },
    {
      "cell_type": "code",
      "metadata": {
        "colab": {
          "base_uri": "https://localhost:8080/"
        },
        "id": "icY2X9ME-jkU",
        "outputId": "500cd57c-1e52-499c-d46d-0c4c8df32396"
      },
      "source": [
        "lst[8:1:-2]"
      ],
      "execution_count": 14,
      "outputs": [
        {
          "output_type": "execute_result",
          "data": {
            "text/plain": [
              "[9, 7, 5, 3]"
            ]
          },
          "metadata": {
            "tags": []
          },
          "execution_count": 14
        }
      ]
    },
    {
      "cell_type": "markdown",
      "metadata": {
        "id": "FaewZxRd-0ay"
      },
      "source": [
        "#squances are itterable"
      ]
    },
    {
      "cell_type": "code",
      "metadata": {
        "colab": {
          "base_uri": "https://localhost:8080/"
        },
        "id": "EBAOJMC9-nfU",
        "outputId": "3551d5ed-514f-413b-9a93-aa0c9591e0b9"
      },
      "source": [
        "for x in lst:\r\n",
        "  print(x)"
      ],
      "execution_count": 15,
      "outputs": [
        {
          "output_type": "stream",
          "text": [
            "1\n",
            "2\n",
            "3\n",
            "4\n",
            "5\n",
            "6\n",
            "7\n",
            "8\n",
            "9\n"
          ],
          "name": "stdout"
        }
      ]
    },
    {
      "cell_type": "code",
      "metadata": {
        "colab": {
          "base_uri": "https://localhost:8080/"
        },
        "id": "OIf3kx1r-8ny",
        "outputId": "57b61a4f-2904-4e10-e6a5-fa8bc3173189"
      },
      "source": [
        "for a in my_str:\r\n",
        "  print(a)"
      ],
      "execution_count": 16,
      "outputs": [
        {
          "output_type": "stream",
          "text": [
            "p\n",
            "y\n",
            "t\n",
            "h\n",
            "o\n",
            "n\n"
          ],
          "name": "stdout"
        }
      ]
    },
    {
      "cell_type": "code",
      "metadata": {
        "id": "6c19nefI_Gls"
      },
      "source": [
        "listt=[1,'abc',4.5,[1,2,3]]"
      ],
      "execution_count": 17,
      "outputs": []
    },
    {
      "cell_type": "code",
      "metadata": {
        "id": "iCduiyd3_R0C"
      },
      "source": [
        "mylst=[1,2,3,4,5]"
      ],
      "execution_count": 18,
      "outputs": []
    },
    {
      "cell_type": "code",
      "metadata": {
        "colab": {
          "base_uri": "https://localhost:8080/"
        },
        "id": "quM4hxN4_YYc",
        "outputId": "afc6b47c-1948-4deb-f71d-a36fea33f343"
      },
      "source": [
        "max(mylst)"
      ],
      "execution_count": 19,
      "outputs": [
        {
          "output_type": "execute_result",
          "data": {
            "text/plain": [
              "5"
            ]
          },
          "metadata": {
            "tags": []
          },
          "execution_count": 19
        }
      ]
    },
    {
      "cell_type": "code",
      "metadata": {
        "colab": {
          "base_uri": "https://localhost:8080/",
          "height": 163
        },
        "id": "24NFsI57_aUW",
        "outputId": "e5cf6247-761f-4806-dc14-e06e6e0d2f1b"
      },
      "source": [
        "max(listt)"
      ],
      "execution_count": 20,
      "outputs": [
        {
          "output_type": "error",
          "ename": "TypeError",
          "evalue": "ignored",
          "traceback": [
            "\u001b[0;31m---------------------------------------------------------------------------\u001b[0m",
            "\u001b[0;31mTypeError\u001b[0m                                 Traceback (most recent call last)",
            "\u001b[0;32m<ipython-input-20-be4db68191b9>\u001b[0m in \u001b[0;36m<module>\u001b[0;34m()\u001b[0m\n\u001b[0;32m----> 1\u001b[0;31m \u001b[0mmax\u001b[0m\u001b[0;34m(\u001b[0m\u001b[0mlistt\u001b[0m\u001b[0;34m)\u001b[0m\u001b[0;34m\u001b[0m\u001b[0;34m\u001b[0m\u001b[0m\n\u001b[0m",
            "\u001b[0;31mTypeError\u001b[0m: '>' not supported between instances of 'str' and 'int'"
          ]
        }
      ]
    },
    {
      "cell_type": "markdown",
      "metadata": {
        "id": "9_pIhB5F_4y0"
      },
      "source": [
        "#Squence methods"
      ]
    },
    {
      "cell_type": "code",
      "metadata": {
        "id": "EW8fHADs_dF5"
      },
      "source": [
        "#membership test"
      ],
      "execution_count": null,
      "outputs": []
    },
    {
      "cell_type": "code",
      "metadata": {
        "id": "pItO3seo__k2"
      },
      "source": [
        "sinulist = [1,2,3,4,55,5,6]"
      ],
      "execution_count": 21,
      "outputs": []
    },
    {
      "cell_type": "code",
      "metadata": {
        "colab": {
          "base_uri": "https://localhost:8080/"
        },
        "id": "-uES3htuAR8e",
        "outputId": "a636ddc2-3cdd-4a7c-ebeb-e2c3d63f8bc8"
      },
      "source": [
        "4 in sinulist"
      ],
      "execution_count": 22,
      "outputs": [
        {
          "output_type": "execute_result",
          "data": {
            "text/plain": [
              "True"
            ]
          },
          "metadata": {
            "tags": []
          },
          "execution_count": 22
        }
      ]
    },
    {
      "cell_type": "code",
      "metadata": {
        "colab": {
          "base_uri": "https://localhost:8080/"
        },
        "id": "OYJEdLkvAVnd",
        "outputId": "dff849ce-195d-4932-d97a-76737c415dc0"
      },
      "source": [
        "'p' in 'python'"
      ],
      "execution_count": 23,
      "outputs": [
        {
          "output_type": "execute_result",
          "data": {
            "text/plain": [
              "True"
            ]
          },
          "metadata": {
            "tags": []
          },
          "execution_count": 23
        }
      ]
    },
    {
      "cell_type": "code",
      "metadata": {
        "colab": {
          "base_uri": "https://localhost:8080/"
        },
        "id": "M0EOuzLEAgeF",
        "outputId": "032fe0df-e840-4d22-ac8b-6c8a24f929e4"
      },
      "source": [
        "'a' in 'sinu'"
      ],
      "execution_count": 26,
      "outputs": [
        {
          "output_type": "execute_result",
          "data": {
            "text/plain": [
              "False"
            ]
          },
          "metadata": {
            "tags": []
          },
          "execution_count": 26
        }
      ]
    },
    {
      "cell_type": "code",
      "metadata": {
        "colab": {
          "base_uri": "https://localhost:8080/"
        },
        "id": "W2fxckfDAjZs",
        "outputId": "833c57ed-6279-435c-d50b-07c38b42fa2a"
      },
      "source": [
        "'a' not in 'sinux'"
      ],
      "execution_count": 25,
      "outputs": [
        {
          "output_type": "execute_result",
          "data": {
            "text/plain": [
              "True"
            ]
          },
          "metadata": {
            "tags": []
          },
          "execution_count": 25
        }
      ]
    },
    {
      "cell_type": "markdown",
      "metadata": {
        "id": "ajSZQHvoAtmE"
      },
      "source": [
        "concat oprn"
      ]
    },
    {
      "cell_type": "code",
      "metadata": {
        "colab": {
          "base_uri": "https://localhost:8080/",
          "height": 35
        },
        "id": "I83yIuveAoch",
        "outputId": "ac900aaa-7cbe-4d7d-e3fc-4b50cf1e5e0a"
      },
      "source": [
        "'abc' + 'xyz'"
      ],
      "execution_count": 27,
      "outputs": [
        {
          "output_type": "execute_result",
          "data": {
            "application/vnd.google.colaboratory.intrinsic+json": {
              "type": "string"
            },
            "text/plain": [
              "'abcxyz'"
            ]
          },
          "metadata": {
            "tags": []
          },
          "execution_count": 27
        }
      ]
    },
    {
      "cell_type": "code",
      "metadata": {
        "colab": {
          "base_uri": "https://localhost:8080/"
        },
        "id": "wlAjy_CTAziN",
        "outputId": "0dff01f7-5902-457f-fb30-5255d16b0a31"
      },
      "source": [
        "l1=[1,23,34,13]\r\n",
        "l2=[12,4,44,23,42]\r\n",
        "l1+l2"
      ],
      "execution_count": 28,
      "outputs": [
        {
          "output_type": "execute_result",
          "data": {
            "text/plain": [
              "[1, 23, 34, 13, 12, 4, 44, 23, 42]"
            ]
          },
          "metadata": {
            "tags": []
          },
          "execution_count": 28
        }
      ]
    },
    {
      "cell_type": "code",
      "metadata": {
        "colab": {
          "base_uri": "https://localhost:8080/"
        },
        "id": "2zKqcRYqA7dY",
        "outputId": "d9f698b1-c790-4d77-f8c8-c8003aa2ca01"
      },
      "source": [
        "#repetation oprn\r\n",
        "3*l1"
      ],
      "execution_count": 29,
      "outputs": [
        {
          "output_type": "execute_result",
          "data": {
            "text/plain": [
              "[1, 23, 34, 13, 1, 23, 34, 13, 1, 23, 34, 13]"
            ]
          },
          "metadata": {
            "tags": []
          },
          "execution_count": 29
        }
      ]
    },
    {
      "cell_type": "code",
      "metadata": {
        "colab": {
          "base_uri": "https://localhost:8080/"
        },
        "id": "EZ1hqazhBJE0",
        "outputId": "fc7d71ab-ab1e-4f50-c9b0-d339b661c792"
      },
      "source": [
        "len(l1)"
      ],
      "execution_count": 30,
      "outputs": [
        {
          "output_type": "execute_result",
          "data": {
            "text/plain": [
              "4"
            ]
          },
          "metadata": {
            "tags": []
          },
          "execution_count": 30
        }
      ]
    },
    {
      "cell_type": "code",
      "metadata": {
        "colab": {
          "base_uri": "https://localhost:8080/"
        },
        "id": "sJMM-lylBUPz",
        "outputId": "83f51b10-8480-49dc-dc2c-1c685128f765"
      },
      "source": [
        "len(my_lst)"
      ],
      "execution_count": 31,
      "outputs": [
        {
          "output_type": "execute_result",
          "data": {
            "text/plain": [
              "4"
            ]
          },
          "metadata": {
            "tags": []
          },
          "execution_count": 31
        }
      ]
    },
    {
      "cell_type": "code",
      "metadata": {
        "colab": {
          "base_uri": "https://localhost:8080/",
          "height": 163
        },
        "id": "nHwTTmHIBYes",
        "outputId": "f5e70400-4929-4c9e-cfd5-4d8398c32282"
      },
      "source": [
        "len(\"python\")"
      ],
      "execution_count": 32,
      "outputs": [
        {
          "output_type": "error",
          "ename": "NameError",
          "evalue": "ignored",
          "traceback": [
            "\u001b[0;31m---------------------------------------------------------------------------\u001b[0m",
            "\u001b[0;31mNameError\u001b[0m                                 Traceback (most recent call last)",
            "\u001b[0;32m<ipython-input-32-7dc9cfc5e29d>\u001b[0m in \u001b[0;36m<module>\u001b[0;34m()\u001b[0m\n\u001b[0;32m----> 1\u001b[0;31m \u001b[0mlen\u001b[0m\u001b[0;34m(\u001b[0m\u001b[0mpython\u001b[0m\u001b[0;34m)\u001b[0m\u001b[0;34m\u001b[0m\u001b[0;34m\u001b[0m\u001b[0m\n\u001b[0m",
            "\u001b[0;31mNameError\u001b[0m: name 'python' is not defined"
          ]
        }
      ]
    },
    {
      "cell_type": "markdown",
      "metadata": {
        "id": "YEy1pn02CvOk"
      },
      "source": [
        "#List"
      ]
    },
    {
      "cell_type": "markdown",
      "metadata": {
        "id": "6Ma4kPbxCx5n"
      },
      "source": [
        "Mutable\r\n",
        "We can add remove elements from it\r\n"
      ]
    },
    {
      "cell_type": "code",
      "metadata": {
        "id": "TxhU0-DzBamQ"
      },
      "source": [
        "#add elements\r\n",
        "lst = [10,20,200,300]"
      ],
      "execution_count": 45,
      "outputs": []
    },
    {
      "cell_type": "code",
      "metadata": {
        "id": "-Qw2gJ9wDAms"
      },
      "source": [
        "lst.append(33)"
      ],
      "execution_count": 34,
      "outputs": []
    },
    {
      "cell_type": "code",
      "metadata": {
        "colab": {
          "base_uri": "https://localhost:8080/"
        },
        "id": "P7TNe9TDDDUM",
        "outputId": "d2696f35-0a0f-4a53-b7df-582dd8a8da65"
      },
      "source": [
        "lst"
      ],
      "execution_count": 35,
      "outputs": [
        {
          "output_type": "execute_result",
          "data": {
            "text/plain": [
              "[10, 20, 200, 300, 33]"
            ]
          },
          "metadata": {
            "tags": []
          },
          "execution_count": 35
        }
      ]
    },
    {
      "cell_type": "code",
      "metadata": {
        "colab": {
          "base_uri": "https://localhost:8080/"
        },
        "id": "wZMS_oq4DElV",
        "outputId": "72993dd5-b99d-4a34-f215-b252a2db7998"
      },
      "source": [
        "lst.insert(2,111)\r\n",
        "lst"
      ],
      "execution_count": 36,
      "outputs": [
        {
          "output_type": "execute_result",
          "data": {
            "text/plain": [
              "[10, 20, 111, 200, 300, 33]"
            ]
          },
          "metadata": {
            "tags": []
          },
          "execution_count": 36
        }
      ]
    },
    {
      "cell_type": "code",
      "metadata": {
        "colab": {
          "base_uri": "https://localhost:8080/"
        },
        "id": "ZLgY_KH1DONn",
        "outputId": "e5b3e6b0-c14c-4347-bda2-d5f45e8bb4f0"
      },
      "source": [
        "  lst[4] = 333\r\n",
        "  lst"
      ],
      "execution_count": 37,
      "outputs": [
        {
          "output_type": "execute_result",
          "data": {
            "text/plain": [
              "[10, 20, 111, 200, 333, 33]"
            ]
          },
          "metadata": {
            "tags": []
          },
          "execution_count": 37
        }
      ]
    },
    {
      "cell_type": "code",
      "metadata": {
        "colab": {
          "base_uri": "https://localhost:8080/"
        },
        "id": "WUXvSdlTDXDy",
        "outputId": "dc034901-6e7e-48c2-d1d9-6c2f0f92df59"
      },
      "source": [
        "#remove elements\r\n",
        "del lst[2]\r\n",
        "lst"
      ],
      "execution_count": 38,
      "outputs": [
        {
          "output_type": "execute_result",
          "data": {
            "text/plain": [
              "[10, 20, 200, 333, 33]"
            ]
          },
          "metadata": {
            "tags": []
          },
          "execution_count": 38
        }
      ]
    },
    {
      "cell_type": "code",
      "metadata": {
        "colab": {
          "base_uri": "https://localhost:8080/"
        },
        "id": "oXSyEjZeDgMy",
        "outputId": "894dd733-7ce2-49c4-b773-8d50f02323e4"
      },
      "source": [
        "lst.pop(2)\r\n",
        "lst"
      ],
      "execution_count": 40,
      "outputs": [
        {
          "output_type": "execute_result",
          "data": {
            "text/plain": [
              "[10, 20, 33]"
            ]
          },
          "metadata": {
            "tags": []
          },
          "execution_count": 40
        }
      ]
    },
    {
      "cell_type": "code",
      "metadata": {
        "colab": {
          "base_uri": "https://localhost:8080/"
        },
        "id": "Y-72_rB9DlRY",
        "outputId": "7eac9330-dc18-4ebb-e8b9-c66b8a4eb64e"
      },
      "source": [
        "  lst.pop()\r\n",
        "  lst"
      ],
      "execution_count": 42,
      "outputs": [
        {
          "output_type": "execute_result",
          "data": {
            "text/plain": [
              "[10, 20]"
            ]
          },
          "metadata": {
            "tags": []
          },
          "execution_count": 42
        }
      ]
    },
    {
      "cell_type": "code",
      "metadata": {
        "colab": {
          "base_uri": "https://localhost:8080/"
        },
        "id": "t-m89sP-D2BR",
        "outputId": "dd7df03a-51c4-4ebf-fa94-cc42d1ed07f0"
      },
      "source": [
        "#clear total list\r\n",
        "lst.clear()\r\n",
        "lst"
      ],
      "execution_count": 44,
      "outputs": [
        {
          "output_type": "execute_result",
          "data": {
            "text/plain": [
              "[]"
            ]
          },
          "metadata": {
            "tags": []
          },
          "execution_count": 44
        }
      ]
    },
    {
      "cell_type": "code",
      "metadata": {
        "colab": {
          "base_uri": "https://localhost:8080/"
        },
        "id": "UQ2e9NKJEQ78",
        "outputId": "7f84f8dc-fc82-4e14-d76e-d48f97b04b02"
      },
      "source": [
        "lst.reverse()\r\n",
        "lst"
      ],
      "execution_count": 47,
      "outputs": [
        {
          "output_type": "execute_result",
          "data": {
            "text/plain": [
              "[10, 20, 200, 300]"
            ]
          },
          "metadata": {
            "tags": []
          },
          "execution_count": 47
        }
      ]
    },
    {
      "cell_type": "code",
      "metadata": {
        "colab": {
          "base_uri": "https://localhost:8080/"
        },
        "id": "8F120aanFARV",
        "outputId": "f5a33e89-bc69-45e9-bbeb-3dd5bfa5cc1d"
      },
      "source": [
        "#sort\r\n",
        "lst.sort()\r\n",
        "lst"
      ],
      "execution_count": 48,
      "outputs": [
        {
          "output_type": "execute_result",
          "data": {
            "text/plain": [
              "[10, 20, 200, 300]"
            ]
          },
          "metadata": {
            "tags": []
          },
          "execution_count": 48
        }
      ]
    },
    {
      "cell_type": "code",
      "metadata": {
        "colab": {
          "base_uri": "https://localhost:8080/"
        },
        "id": "NzSiVrPiFG46",
        "outputId": "78934265-707a-44d3-8adb-8e899ef49ca1"
      },
      "source": [
        "lst.sort(reverse=True);lst"
      ],
      "execution_count": 51,
      "outputs": [
        {
          "output_type": "execute_result",
          "data": {
            "text/plain": [
              "[300, 200, 20, 10]"
            ]
          },
          "metadata": {
            "tags": []
          },
          "execution_count": 51
        }
      ]
    },
    {
      "cell_type": "code",
      "metadata": {
        "id": "oG5Nm3QHFMIq"
      },
      "source": [
        "software = ['C++','Java','Python','ruby','Js','html']"
      ],
      "execution_count": 52,
      "outputs": []
    },
    {
      "cell_type": "code",
      "metadata": {
        "colab": {
          "base_uri": "https://localhost:8080/"
        },
        "id": "KR145leMFlTB",
        "outputId": "be562e16-5261-49d3-cd42-a19911d11f06"
      },
      "source": [
        "software.sort()\r\n",
        "software"
      ],
      "execution_count": 54,
      "outputs": [
        {
          "output_type": "execute_result",
          "data": {
            "text/plain": [
              "['C++', 'Java', 'Js', 'Python', 'html', 'ruby']"
            ]
          },
          "metadata": {
            "tags": []
          },
          "execution_count": 54
        }
      ]
    },
    {
      "cell_type": "code",
      "metadata": {
        "id": "G88NUUcZFoCO"
      },
      "source": [
        "def myfunc(x):\r\n",
        "  return len(x)"
      ],
      "execution_count": 55,
      "outputs": []
    },
    {
      "cell_type": "code",
      "metadata": {
        "id": "hkCQ6U1ZF2QY"
      },
      "source": [
        "software.sort(key=myfunc)"
      ],
      "execution_count": 56,
      "outputs": []
    },
    {
      "cell_type": "code",
      "metadata": {
        "colab": {
          "base_uri": "https://localhost:8080/"
        },
        "id": "hNpgpiFyGBAT",
        "outputId": "6ffc1033-e2ba-4a40-a5b0-141ce18c711e"
      },
      "source": [
        "software"
      ],
      "execution_count": 57,
      "outputs": [
        {
          "output_type": "execute_result",
          "data": {
            "text/plain": [
              "['Js', 'C++', 'Java', 'html', 'ruby', 'Python']"
            ]
          },
          "metadata": {
            "tags": []
          },
          "execution_count": 57
        }
      ]
    },
    {
      "cell_type": "code",
      "metadata": {
        "id": "Vlkt0ixbGB0I"
      },
      "source": [
        ""
      ],
      "execution_count": null,
      "outputs": []
    }
  ]
}
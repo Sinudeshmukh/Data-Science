{
  "nbformat": 4,
  "nbformat_minor": 0,
  "metadata": {
    "colab": {
      "name": "BasicPython1.ipynb",
      "provenance": [],
      "authorship_tag": "ABX9TyMCWg6/iyIly9rNyjQNUUaX",
      "include_colab_link": true
    },
    "kernelspec": {
      "name": "python3",
      "display_name": "Python 3"
    }
  },
  "cells": [
    {
      "cell_type": "markdown",
      "metadata": {
        "id": "view-in-github",
        "colab_type": "text"
      },
      "source": [
        "<a href=\"https://colab.research.google.com/github/Sinudeshmukh/PYTHON-CODES/blob/main/BasicPython1.ipynb\" target=\"_parent\"><img src=\"https://colab.research.google.com/assets/colab-badge.svg\" alt=\"Open In Colab\"/></a>"
      ]
    },
    {
      "cell_type": "markdown",
      "metadata": {
        "id": "ZASx0__r3nxa"
      },
      "source": [
        "#List Comprehension\r\n"
      ]
    },
    {
      "cell_type": "markdown",
      "metadata": {
        "id": "pebLLqRH3yc8"
      },
      "source": [
        "A list compreention is a language that constructs,allows to easily build a list by tranforming,optionally,filtering another iterable."
      ]
    },
    {
      "cell_type": "code",
      "metadata": {
        "colab": {
          "base_uri": "https://localhost:8080/"
        },
        "id": "3JTvlhMt4IY2",
        "outputId": "c87720b8-08ac-4253-9299-bfbeb3305a84"
      },
      "source": [
        "squares = []\r\n",
        "for i in range(6):\r\n",
        "  squares.append(i**2)\r\n",
        "squares"
      ],
      "execution_count": null,
      "outputs": [
        {
          "output_type": "execute_result",
          "data": {
            "text/plain": [
              "[0, 1, 4, 9, 16, 25]"
            ]
          },
          "metadata": {
            "tags": []
          },
          "execution_count": 2
        }
      ]
    },
    {
      "cell_type": "code",
      "metadata": {
        "colab": {
          "base_uri": "https://localhost:8080/"
        },
        "id": "UUbxqRmr4YVQ",
        "outputId": "81730684-9aaf-4d3d-80bf-6f6057c54d31"
      },
      "source": [
        "squares = []\r\n",
        "for i in range(17):\r\n",
        "  if i%2 == 0:\r\n",
        "   squares.append(i**2)\r\n",
        "squares"
      ],
      "execution_count": null,
      "outputs": [
        {
          "output_type": "execute_result",
          "data": {
            "text/plain": [
              "[0, 4, 16, 36, 64, 100, 144, 196, 256]"
            ]
          },
          "metadata": {
            "tags": []
          },
          "execution_count": 4
        }
      ]
    },
    {
      "cell_type": "code",
      "metadata": {
        "colab": {
          "base_uri": "https://localhost:8080/"
        },
        "id": "zzoEikLE5d8n",
        "outputId": "455acd81-280a-4025-b298-71e864d0dd35"
      },
      "source": [
        "squares = [ i**2 for i in range(1,17)]\r\n",
        "squares"
      ],
      "execution_count": null,
      "outputs": [
        {
          "output_type": "execute_result",
          "data": {
            "text/plain": [
              "[1, 4, 9, 16, 25, 36, 49, 64, 81, 100, 121, 144, 169, 196, 225, 256]"
            ]
          },
          "metadata": {
            "tags": []
          },
          "execution_count": 6
        }
      ]
    },
    {
      "cell_type": "code",
      "metadata": {
        "colab": {
          "base_uri": "https://localhost:8080/"
        },
        "id": "HPYIyTln5-xQ",
        "outputId": "2ca99cb0-153a-414c-c7b5-2fdfe1e3eef2"
      },
      "source": [
        "squares = [ i**2 for i in range(1,17) if i %2 == 0]\r\n",
        "squares"
      ],
      "execution_count": null,
      "outputs": [
        {
          "output_type": "execute_result",
          "data": {
            "text/plain": [
              "[4, 16, 36, 64, 100, 144, 196, 256]"
            ]
          },
          "metadata": {
            "tags": []
          },
          "execution_count": 7
        }
      ]
    },
    {
      "cell_type": "markdown",
      "metadata": {
        "id": "RuLFGD1P7ur3"
      },
      "source": [
        "#***Tuple***"
      ]
    },
    {
      "cell_type": "markdown",
      "metadata": {
        "id": "t38w61dh8V3N"
      },
      "source": [
        "Tuples are Immutable.We can't change the contents of tuple.\r\n",
        " "
      ]
    },
    {
      "cell_type": "markdown",
      "metadata": {
        "id": "-6-FJO4p8llO"
      },
      "source": [
        "But Elements of tuple can be mutable\r\n"
      ]
    },
    {
      "cell_type": "code",
      "metadata": {
        "colab": {
          "base_uri": "https://localhost:8080/"
        },
        "id": "P5QATXrL6Hsd",
        "outputId": "94b90f23-3917-410d-a21a-a3efb3887674"
      },
      "source": [
        " tup = (1,2,3,4)\r\n",
        " type(tup)"
      ],
      "execution_count": null,
      "outputs": [
        {
          "output_type": "execute_result",
          "data": {
            "text/plain": [
              "tuple"
            ]
          },
          "metadata": {
            "tags": []
          },
          "execution_count": 8
        }
      ]
    },
    {
      "cell_type": "code",
      "metadata": {
        "id": "-gqfijf68JUr"
      },
      "source": [
        "tup= ([1,2,3],[4,5,6],[7,8,9])\r\n",
        "tup[0].append(4)"
      ],
      "execution_count": null,
      "outputs": []
    },
    {
      "cell_type": "code",
      "metadata": {
        "colab": {
          "base_uri": "https://localhost:8080/"
        },
        "id": "DcyJt_jw81WF",
        "outputId": "11b6ebef-930b-4caa-cf22-f7fd97efc69e"
      },
      "source": [
        "tup"
      ],
      "execution_count": null,
      "outputs": [
        {
          "output_type": "execute_result",
          "data": {
            "text/plain": [
              "([1, 2, 3, 4], [4, 5, 6], [7, 8, 9])"
            ]
          },
          "metadata": {
            "tags": []
          },
          "execution_count": 11
        }
      ]
    },
    {
      "cell_type": "markdown",
      "metadata": {
        "id": "-W1x6kVj9dNG"
      },
      "source": [
        "#Strings"
      ]
    },
    {
      "cell_type": "code",
      "metadata": {
        "colab": {
          "base_uri": "https://localhost:8080/",
          "height": 35
        },
        "id": "io2HH09x87oe",
        "outputId": "dcdf6fd7-32b3-4ed5-8044-ffd9d2b25804"
      },
      "source": [
        "str1 = 'sinudeshmukh'\r\n",
        "str1.capitalize() "
      ],
      "execution_count": null,
      "outputs": [
        {
          "output_type": "execute_result",
          "data": {
            "application/vnd.google.colaboratory.intrinsic+json": {
              "type": "string"
            },
            "text/plain": [
              "'Sinudeshmukh'"
            ]
          },
          "metadata": {
            "tags": []
          },
          "execution_count": 12
        }
      ]
    },
    {
      "cell_type": "code",
      "metadata": {
        "colab": {
          "base_uri": "https://localhost:8080/",
          "height": 35
        },
        "id": "R8v2i3jh-Pj6",
        "outputId": "38e69385-8983-4e12-8db7-fb8776dba5bd"
      },
      "source": [
        "'hello world'.title()"
      ],
      "execution_count": null,
      "outputs": [
        {
          "output_type": "execute_result",
          "data": {
            "application/vnd.google.colaboratory.intrinsic+json": {
              "type": "string"
            },
            "text/plain": [
              "'Hello World'"
            ]
          },
          "metadata": {
            "tags": []
          },
          "execution_count": 13
        }
      ]
    },
    {
      "cell_type": "code",
      "metadata": {
        "colab": {
          "base_uri": "https://localhost:8080/"
        },
        "id": "Sr4LFsZz-Wkr",
        "outputId": "9cf58899-b233-4015-cb64-4bfd61305f2b"
      },
      "source": [
        "str1.endswith('on'),str1.endswith('deshmukh')"
      ],
      "execution_count": null,
      "outputs": [
        {
          "output_type": "execute_result",
          "data": {
            "text/plain": [
              "(False, True)"
            ]
          },
          "metadata": {
            "tags": []
          },
          "execution_count": 14
        }
      ]
    },
    {
      "cell_type": "code",
      "metadata": {
        "id": "VPbDtlBvESKf"
      },
      "source": [
        "mystr = 'pythontoop'"
      ],
      "execution_count": null,
      "outputs": []
    },
    {
      "cell_type": "code",
      "metadata": {
        "colab": {
          "base_uri": "https://localhost:8080/"
        },
        "id": "wFo4cY5H-jyL",
        "outputId": "5791b1d7-0d04-4d4c-e422-5ece7b4a20e1"
      },
      "source": [
        "list(enumerate(mystr))"
      ],
      "execution_count": null,
      "outputs": [
        {
          "output_type": "execute_result",
          "data": {
            "text/plain": [
              "[(0, 'p'),\n",
              " (1, 'y'),\n",
              " (2, 't'),\n",
              " (3, 'h'),\n",
              " (4, 'o'),\n",
              " (5, 'n'),\n",
              " (6, 't'),\n",
              " (7, 'o'),\n",
              " (8, 'o'),\n",
              " (9, 'p')]"
            ]
          },
          "metadata": {
            "tags": []
          },
          "execution_count": 16
        }
      ]
    },
    {
      "cell_type": "code",
      "metadata": {
        "colab": {
          "base_uri": "https://localhost:8080/"
        },
        "id": "J5_HauDhEZdc",
        "outputId": "41c0f2c9-2795-4c83-df52-b4aa2d976ee0"
      },
      "source": [
        "mystr.find('t')"
      ],
      "execution_count": null,
      "outputs": [
        {
          "output_type": "execute_result",
          "data": {
            "text/plain": [
              "2"
            ]
          },
          "metadata": {
            "tags": []
          },
          "execution_count": 17
        }
      ]
    },
    {
      "cell_type": "code",
      "metadata": {
        "colab": {
          "base_uri": "https://localhost:8080/"
        },
        "id": "vJ9deKxYErPz",
        "outputId": "c730e13e-dc88-4456-d87f-bdf27314b4fc"
      },
      "source": [
        "mystr.find('x')"
      ],
      "execution_count": null,
      "outputs": [
        {
          "output_type": "execute_result",
          "data": {
            "text/plain": [
              "-1"
            ]
          },
          "metadata": {
            "tags": []
          },
          "execution_count": 19
        }
      ]
    },
    {
      "cell_type": "code",
      "metadata": {
        "colab": {
          "base_uri": "https://localhost:8080/"
        },
        "id": "VsD3d8qIEvvz",
        "outputId": "089c2d6f-3baa-4427-e344-f0a83adb2613"
      },
      "source": [
        "mystr.index('t',3,8)"
      ],
      "execution_count": null,
      "outputs": [
        {
          "output_type": "execute_result",
          "data": {
            "text/plain": [
              "6"
            ]
          },
          "metadata": {
            "tags": []
          },
          "execution_count": 21
        }
      ]
    },
    {
      "cell_type": "code",
      "metadata": {
        "colab": {
          "base_uri": "https://localhost:8080/"
        },
        "id": "K-Q7RG7xE8G7",
        "outputId": "8dd77d68-046e-44fb-ac55-e92f9eb788b4"
      },
      "source": [
        "str1 = \"Python1$\"\r\n",
        "str1.isalpha(),str1.isalnum(),str1.isdigit()"
      ],
      "execution_count": null,
      "outputs": [
        {
          "output_type": "execute_result",
          "data": {
            "text/plain": [
              "(False, False, False)"
            ]
          },
          "metadata": {
            "tags": []
          },
          "execution_count": 22
        }
      ]
    },
    {
      "cell_type": "code",
      "metadata": {
        "colab": {
          "base_uri": "https://localhost:8080/"
        },
        "id": "OBqGpnLjF5iJ",
        "outputId": "4e441182-fb0e-4da3-d386-5cea0daf81e9"
      },
      "source": [
        "str1 = \"Python1\"\r\n",
        "str1.isalpha(),str1.isalnum(),str1.isdigit()"
      ],
      "execution_count": null,
      "outputs": [
        {
          "output_type": "execute_result",
          "data": {
            "text/plain": [
              "(False, True, False)"
            ]
          },
          "metadata": {
            "tags": []
          },
          "execution_count": 23
        }
      ]
    },
    {
      "cell_type": "code",
      "metadata": {
        "colab": {
          "base_uri": "https://localhost:8080/"
        },
        "id": "Agowb8AcF92r",
        "outputId": "09b27e00-aaca-448d-e1f4-6a6fe8111483"
      },
      "source": [
        "'1,2,3'.split(';')"
      ],
      "execution_count": null,
      "outputs": [
        {
          "output_type": "execute_result",
          "data": {
            "text/plain": [
              "['1,2,3']"
            ]
          },
          "metadata": {
            "tags": []
          },
          "execution_count": 25
        }
      ]
    },
    {
      "cell_type": "code",
      "metadata": {
        "colab": {
          "base_uri": "https://localhost:8080/"
        },
        "id": "fIlUZn0zGFL9",
        "outputId": "7eaffda6-fa8b-424e-f729-53d83b113ba1"
      },
      "source": [
        "'   word   '.strip(), '   word     '.lstrip(), '   word    '.rstrip()"
      ],
      "execution_count": null,
      "outputs": [
        {
          "output_type": "execute_result",
          "data": {
            "text/plain": [
              "('word', 'word     ', '   word')"
            ]
          },
          "metadata": {
            "tags": []
          },
          "execution_count": 26
        }
      ]
    },
    {
      "cell_type": "code",
      "metadata": {
        "colab": {
          "base_uri": "https://localhost:8080/"
        },
        "id": "XsDkowjfGzJP",
        "outputId": "e8138b2b-9df5-47c7-ab24-51a429398c40"
      },
      "source": [
        "'python'.upper(),'PYTHON'.lower(),'PYThon'.swapcase()"
      ],
      "execution_count": null,
      "outputs": [
        {
          "output_type": "execute_result",
          "data": {
            "text/plain": [
              "('PYTHON', 'python', 'pytHON')"
            ]
          },
          "metadata": {
            "tags": []
          },
          "execution_count": 28
        }
      ]
    },
    {
      "cell_type": "markdown",
      "metadata": {
        "id": "jXJaGP_yHVWu"
      },
      "source": [
        "#Dictionaries"
      ]
    },
    {
      "cell_type": "markdown",
      "metadata": {
        "id": "z-R2kYCoHfNM"
      },
      "source": [
        "Dictionaries are used everywhere in python"
      ]
    },
    {
      "cell_type": "markdown",
      "metadata": {
        "id": "AEPaJw0QILI1"
      },
      "source": [
        "***\r\n",
        "*  **Classes** \r\n",
        "*  **Modules**\r\n",
        "*  **Functions**\r\n",
        "*  **Namespaces**\r\n",
        "*  **Sets**\r\n",
        "\r\n"
      ]
    },
    {
      "cell_type": "markdown",
      "metadata": {
        "id": "0NaZWin4JH1c"
      },
      "source": [
        "**Creating Dictionaries**"
      ]
    },
    {
      "cell_type": "markdown",
      "metadata": {
        "id": "27a3EkjXJNVL"
      },
      "source": [
        "**A. Using Literals**"
      ]
    },
    {
      "cell_type": "code",
      "metadata": {
        "colab": {
          "base_uri": "https://localhost:8080/"
        },
        "id": "HXWjOkPvHKRD",
        "outputId": "8bfc3edd-9852-42de-8e79-ee623c62854f"
      },
      "source": [
        "a = {'k1': 100 , 'k2':200}\r\n",
        "a"
      ],
      "execution_count": null,
      "outputs": [
        {
          "output_type": "execute_result",
          "data": {
            "text/plain": [
              "{'k1': 100, 'k2': 200}"
            ]
          },
          "metadata": {
            "tags": []
          },
          "execution_count": 29
        }
      ]
    },
    {
      "cell_type": "code",
      "metadata": {
        "colab": {
          "base_uri": "https://localhost:8080/"
        },
        "id": "xPWwYphxJep2",
        "outputId": "ff68bb25-463a-4a7d-c846-2cd8c44dbb04"
      },
      "source": [
        "b = {\"name\": 'anand', \"age\":40}\r\n",
        "b"
      ],
      "execution_count": null,
      "outputs": [
        {
          "output_type": "execute_result",
          "data": {
            "text/plain": [
              "{'age': 40, 'name': 'anand'}"
            ]
          },
          "metadata": {
            "tags": []
          },
          "execution_count": 31
        }
      ]
    },
    {
      "cell_type": "markdown",
      "metadata": {
        "id": "xJw66dR-KV0-"
      },
      "source": [
        "**B.Using Constructer**"
      ]
    },
    {
      "cell_type": "markdown",
      "metadata": {
        "id": "EwyfpfcHLs_S"
      },
      "source": [
        "We can also use the constructer dict() in diff ways!  The restrictions here is that key names must be a valid pyton identifiers,since they are being used as argument names!"
      ]
    },
    {
      "cell_type": "code",
      "metadata": {
        "colab": {
          "base_uri": "https://localhost:8080/"
        },
        "id": "95xrc4i6Jvpr",
        "outputId": "d1abec45-ade4-4009-c8ba-6f74c0d3640b"
      },
      "source": [
        "d= dict(a=10,b=20)\r\n",
        "d"
      ],
      "execution_count": null,
      "outputs": [
        {
          "output_type": "execute_result",
          "data": {
            "text/plain": [
              "{'a': 10, 'b': 20}"
            ]
          },
          "metadata": {
            "tags": []
          },
          "execution_count": 32
        }
      ]
    },
    {
      "cell_type": "markdown",
      "metadata": {
        "id": "NIDBwDT4OUmh"
      },
      "source": [
        "We can also build a dictionary by passing it an iterable containing the keys and the values. The restriction here is that the elements of the iterable must themselves be iterables with exactly two elements\r\n"
      ]
    },
    {
      "cell_type": "code",
      "metadata": {
        "id": "rI1iayvCKpTc"
      },
      "source": [
        "#dict contructer with a list inside it but exactly two tuples inside list or vice versa!\r\n",
        "d = dict(  [      ( )  ,  (  )       ]            )\r\n",
        "d = dict(  (      [   ] ,  [  ]         )                       )"
      ],
      "execution_count": null,
      "outputs": []
    },
    {
      "cell_type": "code",
      "metadata": {
        "colab": {
          "base_uri": "https://localhost:8080/"
        },
        "id": "SSD2SRwpLVa0",
        "outputId": "ac3313be-1e6c-4ffb-cbf7-1b7f018b66cd"
      },
      "source": [
        "d = dict(( ['a',100],['b',100] ))\r\n",
        "d"
      ],
      "execution_count": 9,
      "outputs": [
        {
          "output_type": "execute_result",
          "data": {
            "text/plain": [
              "{'a': 100, 'b': 100}"
            ]
          },
          "metadata": {
            "tags": []
          },
          "execution_count": 9
        }
      ]
    },
    {
      "cell_type": "code",
      "metadata": {
        "colab": {
          "base_uri": "https://localhost:8080/"
        },
        "id": "nQzKscz5LsI4",
        "outputId": "4aeb6e4d-30ac-4529-8ef2-a0590cf44628"
      },
      "source": [
        "d = dict([('a',100),('b',200)])\r\n",
        "d"
      ],
      "execution_count": 10,
      "outputs": [
        {
          "output_type": "execute_result",
          "data": {
            "text/plain": [
              "{'a': 100, 'b': 200}"
            ]
          },
          "metadata": {
            "tags": []
          },
          "execution_count": 10
        }
      ]
    },
    {
      "cell_type": "code",
      "metadata": {
        "colab": {
          "base_uri": "https://localhost:8080/"
        },
        "id": "YvUUOYCYLzyo",
        "outputId": "7c48352c-1873-4d3e-87fe-176b6285fcab"
      },
      "source": [
        "d = dict((('a',100),('b',100)))\r\n",
        "d"
      ],
      "execution_count": 45,
      "outputs": [
        {
          "output_type": "execute_result",
          "data": {
            "text/plain": [
              "{'a': 100, 'b': 100}"
            ]
          },
          "metadata": {
            "tags": []
          },
          "execution_count": 45
        }
      ]
    },
    {
      "cell_type": "markdown",
      "metadata": {
        "id": "EjGYyYEaIOb7"
      },
      "source": [
        "#What objects can be keys?\r\n",
        "The object must be hashable (and therefore, immutable)"
      ]
    },
    {
      "cell_type": "code",
      "metadata": {
        "id": "Ic4t3iMWNdTa",
        "colab": {
          "base_uri": "https://localhost:8080/"
        },
        "outputId": "26b48713-c7fb-410d-a9a7-f7a6e5be26f3"
      },
      "source": [
        "x = 10\r\n",
        "hash(x)"
      ],
      "execution_count": 1,
      "outputs": [
        {
          "output_type": "execute_result",
          "data": {
            "text/plain": [
              "10"
            ]
          },
          "metadata": {
            "tags": []
          },
          "execution_count": 1
        }
      ]
    },
    {
      "cell_type": "code",
      "metadata": {
        "colab": {
          "base_uri": "https://localhost:8080/"
        },
        "id": "cv9TMtUtIYpw",
        "outputId": "a9f0906c-56bd-44e9-8ce4-a71f06da450d"
      },
      "source": [
        "hash('abc')"
      ],
      "execution_count": 2,
      "outputs": [
        {
          "output_type": "execute_result",
          "data": {
            "text/plain": [
              "1445184480935510268"
            ]
          },
          "metadata": {
            "tags": []
          },
          "execution_count": 2
        }
      ]
    },
    {
      "cell_type": "code",
      "metadata": {
        "colab": {
          "base_uri": "https://localhost:8080/"
        },
        "id": "Q3kxQAB7Ic7L",
        "outputId": "59e581df-c233-4784-8b5a-56070f6a1c28"
      },
      "source": [
        "tup = 10,20\r\n",
        "hash(tup)"
      ],
      "execution_count": 3,
      "outputs": [
        {
          "output_type": "execute_result",
          "data": {
            "text/plain": [
              "3713074054217192181"
            ]
          },
          "metadata": {
            "tags": []
          },
          "execution_count": 3
        }
      ]
    },
    {
      "cell_type": "code",
      "metadata": {
        "id": "1wlIS0y2I1sx"
      },
      "source": [
        "def myfun(x):\r\n",
        "  return x**2"
      ],
      "execution_count": 4,
      "outputs": []
    },
    {
      "cell_type": "code",
      "metadata": {
        "colab": {
          "base_uri": "https://localhost:8080/"
        },
        "id": "WwGXc36bI_7w",
        "outputId": "e650f889-287e-4754-b7fb-9de8f62915f0"
      },
      "source": [
        "hash(myfun)"
      ],
      "execution_count": 5,
      "outputs": [
        {
          "output_type": "execute_result",
          "data": {
            "text/plain": [
              "-9223363243664979384"
            ]
          },
          "metadata": {
            "tags": []
          },
          "execution_count": 5
        }
      ]
    },
    {
      "cell_type": "code",
      "metadata": {
        "colab": {
          "base_uri": "https://localhost:8080/"
        },
        "id": "tTx98QvEJCQ9",
        "outputId": "bfe5ed7a-1d12-4f23-aca7-bfb1a45464fe"
      },
      "source": [
        "d = {1:'first val','abc':100,(0,0):'origin',myfun:'function'}\r\n",
        "d"
      ],
      "execution_count": 7,
      "outputs": [
        {
          "output_type": "execute_result",
          "data": {
            "text/plain": [
              "{(0, 0): 'origin',\n",
              " 1: 'first val',\n",
              " <function __main__.myfun>: 'function',\n",
              " 'abc': 100}"
            ]
          },
          "metadata": {
            "tags": []
          },
          "execution_count": 7
        }
      ]
    },
    {
      "cell_type": "markdown",
      "metadata": {
        "id": "TKA_seJDMQB9"
      },
      "source": [
        "D.Using zips"
      ]
    },
    {
      "cell_type": "code",
      "metadata": {
        "id": "0_zqi4uXMPQP"
      },
      "source": [
        "keys = ['a','b','c','d']\r\n",
        "values = (1,2,3,4)"
      ],
      "execution_count": 14,
      "outputs": []
    },
    {
      "cell_type": "code",
      "metadata": {
        "colab": {
          "base_uri": "https://localhost:8080/"
        },
        "id": "9l018a7OJgjH",
        "outputId": "1444dfe5-f7a0-49dc-c614-2e6de93b0a55"
      },
      "source": [
        "for k,v in zip(keys,values):\r\n",
        "  print(k,v)"
      ],
      "execution_count": 15,
      "outputs": [
        {
          "output_type": "stream",
          "text": [
            "a 1\n",
            "b 2\n",
            "c 3\n",
            "d 4\n"
          ],
          "name": "stdout"
        }
      ]
    },
    {
      "cell_type": "code",
      "metadata": {
        "colab": {
          "base_uri": "https://localhost:8080/"
        },
        "id": "YQAlVh_OM0hp",
        "outputId": "0c906a5f-b0b3-4d66-efa9-56948cc36dfb"
      },
      "source": [
        "dzip = dict(zip('abc',range(1,4)))\r\n",
        "dzip"
      ],
      "execution_count": 19,
      "outputs": [
        {
          "output_type": "execute_result",
          "data": {
            "text/plain": [
              "{'a': 1, 'b': 2, 'c': 3}"
            ]
          },
          "metadata": {
            "tags": []
          },
          "execution_count": 19
        }
      ]
    },
    {
      "cell_type": "markdown",
      "metadata": {
        "id": "lOvwcQIQNwZZ"
      },
      "source": [
        "E.Using Comprehensions"
      ]
    },
    {
      "cell_type": "code",
      "metadata": {
        "colab": {
          "base_uri": "https://localhost:8080/"
        },
        "id": "4jz9Xfg9NaxD",
        "outputId": "a9b258be-fa1d-4c8d-9127-5c8389327617"
      },
      "source": [
        "dcom = {k:v for k,v in zip(keys,values)}\r\n",
        "dcom"
      ],
      "execution_count": 20,
      "outputs": [
        {
          "output_type": "execute_result",
          "data": {
            "text/plain": [
              "{'a': 1, 'b': 2, 'c': 3, 'd': 4}"
            ]
          },
          "metadata": {
            "tags": []
          },
          "execution_count": 20
        }
      ]
    },
    {
      "cell_type": "markdown",
      "metadata": {
        "id": "fJsJ_W8sP6sX"
      },
      "source": [
        "F.From Keys"
      ]
    },
    {
      "cell_type": "code",
      "metadata": {
        "colab": {
          "base_uri": "https://localhost:8080/"
        },
        "id": "fk3XPeZQPx28",
        "outputId": "794ec851-025e-45de-d8de-493069b19077"
      },
      "source": [
        "dfk = dict.fromkeys((1,2,3))\r\n",
        "dfk"
      ],
      "execution_count": 21,
      "outputs": [
        {
          "output_type": "execute_result",
          "data": {
            "text/plain": [
              "{1: None, 2: None, 3: None}"
            ]
          },
          "metadata": {
            "tags": []
          },
          "execution_count": 21
        }
      ]
    },
    {
      "cell_type": "code",
      "metadata": {
        "colab": {
          "base_uri": "https://localhost:8080/"
        },
        "id": "Uu6T8Zf-QF5U",
        "outputId": "98ec75bf-0a26-480d-f8e7-2b2d038e068c"
      },
      "source": [
        "dfk = dict.fromkeys(('a','b','c'))\r\n",
        "dfk"
      ],
      "execution_count": 22,
      "outputs": [
        {
          "output_type": "execute_result",
          "data": {
            "text/plain": [
              "{'a': None, 'b': None, 'c': None}"
            ]
          },
          "metadata": {
            "tags": []
          },
          "execution_count": 22
        }
      ]
    },
    {
      "cell_type": "code",
      "metadata": {
        "colab": {
          "base_uri": "https://localhost:8080/"
        },
        "id": "jBx0s7cAQLiW",
        "outputId": "5c80d55f-7a95-4b86-9fbe-41c1cb2d9349"
      },
      "source": [
        "dfk = dict.fromkeys((1,2,3),100)\r\n",
        "dfk"
      ],
      "execution_count": 25,
      "outputs": [
        {
          "output_type": "execute_result",
          "data": {
            "text/plain": [
              "{1: 100, 2: 100, 3: 100}"
            ]
          },
          "metadata": {
            "tags": []
          },
          "execution_count": 25
        }
      ]
    },
    {
      "cell_type": "code",
      "metadata": {
        "id": "sVo4teiVQa16"
      },
      "source": [
        "keys=('Kerela','mh','ap','tn')\r\n",
        "values=('Trivendram','mumbai','amravati','chennail')"
      ],
      "execution_count": 26,
      "outputs": []
    },
    {
      "cell_type": "code",
      "metadata": {
        "colab": {
          "base_uri": "https://localhost:8080/"
        },
        "id": "T8YX-fC1RDSH",
        "outputId": "082d53e1-63c6-4fb9-993a-298b76133ec6"
      },
      "source": [
        "dstates = { k:v for k,v in zip(keys,values)}\r\n",
        "dstates"
      ],
      "execution_count": 29,
      "outputs": [
        {
          "output_type": "execute_result",
          "data": {
            "text/plain": [
              "{'Kerela': 'Trivendram', 'ap': 'amravati', 'mh': 'mumbai', 'tn': 'chennail'}"
            ]
          },
          "metadata": {
            "tags": []
          },
          "execution_count": 29
        }
      ]
    },
    {
      "cell_type": "code",
      "metadata": {
        "colab": {
          "base_uri": "https://localhost:8080/",
          "height": 35
        },
        "id": "HQW1AvvIRcv0",
        "outputId": "2e9a6662-98c3-4e8a-88a6-d6d25765fea4"
      },
      "source": [
        "dstates['Kerela']"
      ],
      "execution_count": 30,
      "outputs": [
        {
          "output_type": "execute_result",
          "data": {
            "application/vnd.google.colaboratory.intrinsic+json": {
              "type": "string"
            },
            "text/plain": [
              "'Trivendram'"
            ]
          },
          "metadata": {
            "tags": []
          },
          "execution_count": 30
        }
      ]
    },
    {
      "cell_type": "code",
      "metadata": {
        "colab": {
          "base_uri": "https://localhost:8080/",
          "height": 163
        },
        "id": "uKT0DU8URo3L",
        "outputId": "2d4c3d7f-3850-48c0-98c0-3f51dbb044c1"
      },
      "source": [
        "dstates['jndk']"
      ],
      "execution_count": 31,
      "outputs": [
        {
          "output_type": "error",
          "ename": "KeyError",
          "evalue": "ignored",
          "traceback": [
            "\u001b[0;31m---------------------------------------------------------------------------\u001b[0m",
            "\u001b[0;31mKeyError\u001b[0m                                  Traceback (most recent call last)",
            "\u001b[0;32m<ipython-input-31-274b56312297>\u001b[0m in \u001b[0;36m<module>\u001b[0;34m()\u001b[0m\n\u001b[0;32m----> 1\u001b[0;31m \u001b[0mdstates\u001b[0m\u001b[0;34m[\u001b[0m\u001b[0;34m'jndk'\u001b[0m\u001b[0;34m]\u001b[0m\u001b[0;34m\u001b[0m\u001b[0;34m\u001b[0m\u001b[0m\n\u001b[0m",
            "\u001b[0;31mKeyError\u001b[0m: 'jndk'"
          ]
        }
      ]
    },
    {
      "cell_type": "code",
      "metadata": {
        "id": "agx4S8JsRwbO"
      },
      "source": [
        "dstates.get('jndk')"
      ],
      "execution_count": 32,
      "outputs": []
    },
    {
      "cell_type": "code",
      "metadata": {
        "colab": {
          "base_uri": "https://localhost:8080/"
        },
        "id": "ozakMJJOStdN",
        "outputId": "96f63f9f-7103-4bd9-a04d-86b64e6c72fc"
      },
      "source": [
        "dfk"
      ],
      "execution_count": 33,
      "outputs": [
        {
          "output_type": "execute_result",
          "data": {
            "text/plain": [
              "{1: 100, 2: 100, 3: 100}"
            ]
          },
          "metadata": {
            "tags": []
          },
          "execution_count": 33
        }
      ]
    },
    {
      "cell_type": "code",
      "metadata": {
        "colab": {
          "base_uri": "https://localhost:8080/"
        },
        "id": "Mw_jM49pR1eW",
        "outputId": "916c8407-53cd-468c-e5b4-3f7a8baa46d5"
      },
      "source": [
        "#len\r\n",
        "len(dfk)"
      ],
      "execution_count": 34,
      "outputs": [
        {
          "output_type": "execute_result",
          "data": {
            "text/plain": [
              "3"
            ]
          },
          "metadata": {
            "tags": []
          },
          "execution_count": 34
        }
      ]
    },
    {
      "cell_type": "code",
      "metadata": {
        "colab": {
          "base_uri": "https://localhost:8080/"
        },
        "id": "cId7-8lSSwd5",
        "outputId": "6f597e81-c51f-4d9e-d089-aebff1f656ac"
      },
      "source": [
        "#membership test\r\n",
        "'Kerela' in dstates,'jndk' in dstates"
      ],
      "execution_count": 36,
      "outputs": [
        {
          "output_type": "execute_result",
          "data": {
            "text/plain": [
              "(True, False)"
            ]
          },
          "metadata": {
            "tags": []
          },
          "execution_count": 36
        }
      ]
    },
    {
      "cell_type": "code",
      "metadata": {
        "colab": {
          "base_uri": "https://localhost:8080/"
        },
        "id": "uAJlWlFwS7iZ",
        "outputId": "a18a3683-e1a5-44bd-9de9-8d6f9735c71e"
      },
      "source": [
        "'jndk' not in dstates"
      ],
      "execution_count": 37,
      "outputs": [
        {
          "output_type": "execute_result",
          "data": {
            "text/plain": [
              "True"
            ]
          },
          "metadata": {
            "tags": []
          },
          "execution_count": 37
        }
      ]
    },
    {
      "cell_type": "code",
      "metadata": {
        "colab": {
          "base_uri": "https://localhost:8080/"
        },
        "id": "WIFYzCYgTjgy",
        "outputId": "1d3fc7d9-76a8-4480-ea7e-1a1a27d404c6"
      },
      "source": [
        "#removing opr\r\n",
        "d"
      ],
      "execution_count": 46,
      "outputs": [
        {
          "output_type": "execute_result",
          "data": {
            "text/plain": [
              "{'a': 100, 'b': 100}"
            ]
          },
          "metadata": {
            "tags": []
          },
          "execution_count": 46
        }
      ]
    },
    {
      "cell_type": "code",
      "metadata": {
        "id": "NCCPcNzRTpCB"
      },
      "source": [
        "del d['a']"
      ],
      "execution_count": 47,
      "outputs": []
    },
    {
      "cell_type": "code",
      "metadata": {
        "colab": {
          "base_uri": "https://localhost:8080/"
        },
        "id": "guOHJlXQTrwk",
        "outputId": "aaedbbe6-7feb-4436-eed6-3782cb5558e4"
      },
      "source": [
        "d"
      ],
      "execution_count": 48,
      "outputs": [
        {
          "output_type": "execute_result",
          "data": {
            "text/plain": [
              "{'b': 100}"
            ]
          },
          "metadata": {
            "tags": []
          },
          "execution_count": 48
        }
      ]
    },
    {
      "cell_type": "code",
      "metadata": {
        "colab": {
          "base_uri": "https://localhost:8080/"
        },
        "id": "ES5oIOftUK5I",
        "outputId": "b4124213-9bcd-4470-c81e-ea0527048b45"
      },
      "source": [
        "d = dict.fromkeys('abcd',10)\r\n",
        "d"
      ],
      "execution_count": 53,
      "outputs": [
        {
          "output_type": "execute_result",
          "data": {
            "text/plain": [
              "{'a': 10, 'b': 10, 'c': 10, 'd': 10}"
            ]
          },
          "metadata": {
            "tags": []
          },
          "execution_count": 53
        }
      ]
    },
    {
      "cell_type": "code",
      "metadata": {
        "colab": {
          "base_uri": "https://localhost:8080/"
        },
        "id": "Fpbx0helURvU",
        "outputId": "600391f6-3cca-418b-fabb-0af369bbe506"
      },
      "source": [
        "result= d.pop('b')\r\n",
        "result\r\n"
      ],
      "execution_count": 54,
      "outputs": [
        {
          "output_type": "execute_result",
          "data": {
            "text/plain": [
              "10"
            ]
          },
          "metadata": {
            "tags": []
          },
          "execution_count": 54
        }
      ]
    },
    {
      "cell_type": "code",
      "metadata": {
        "colab": {
          "base_uri": "https://localhost:8080/"
        },
        "id": "AHvhoEQAUZRN",
        "outputId": "8b155635-c82d-4185-d895-981bc5609859"
      },
      "source": [
        "d"
      ],
      "execution_count": 55,
      "outputs": [
        {
          "output_type": "execute_result",
          "data": {
            "text/plain": [
              "{'a': 10, 'c': 10, 'd': 10}"
            ]
          },
          "metadata": {
            "tags": []
          },
          "execution_count": 55
        }
      ]
    },
    {
      "cell_type": "code",
      "metadata": {
        "colab": {
          "base_uri": "https://localhost:8080/"
        },
        "id": "HzKQVdS7VJk2",
        "outputId": "800ccd2f-d494-4784-86bd-44683df079dd"
      },
      "source": [
        "#remove items from dict using LIFO\r\n",
        "d.popitem()"
      ],
      "execution_count": 56,
      "outputs": [
        {
          "output_type": "execute_result",
          "data": {
            "text/plain": [
              "('d', 10)"
            ]
          },
          "metadata": {
            "tags": []
          },
          "execution_count": 56
        }
      ]
    },
    {
      "cell_type": "code",
      "metadata": {
        "colab": {
          "base_uri": "https://localhost:8080/"
        },
        "id": "HgOCkvCAVSb8",
        "outputId": "447864b0-d5c3-4dd1-ea56-9de0ffdd8154"
      },
      "source": [
        "d.popitem()"
      ],
      "execution_count": 57,
      "outputs": [
        {
          "output_type": "execute_result",
          "data": {
            "text/plain": [
              "('c', 10)"
            ]
          },
          "metadata": {
            "tags": []
          },
          "execution_count": 57
        }
      ]
    },
    {
      "cell_type": "code",
      "metadata": {
        "colab": {
          "base_uri": "https://localhost:8080/"
        },
        "id": "WhSYw1wtVWFA",
        "outputId": "448abdb4-a7b4-41d8-a2f4-cf9cefb10c49"
      },
      "source": [
        "d.popitem()"
      ],
      "execution_count": 58,
      "outputs": [
        {
          "output_type": "execute_result",
          "data": {
            "text/plain": [
              "('a', 10)"
            ]
          },
          "metadata": {
            "tags": []
          },
          "execution_count": 58
        }
      ]
    },
    {
      "cell_type": "code",
      "metadata": {
        "colab": {
          "base_uri": "https://localhost:8080/",
          "height": 163
        },
        "id": "_cN759W3VXd-",
        "outputId": "fcfbdfb5-4da3-428c-b14e-fec884657eef"
      },
      "source": [
        "d.popitem()"
      ],
      "execution_count": 59,
      "outputs": [
        {
          "output_type": "error",
          "ename": "KeyError",
          "evalue": "ignored",
          "traceback": [
            "\u001b[0;31m---------------------------------------------------------------------------\u001b[0m",
            "\u001b[0;31mKeyError\u001b[0m                                  Traceback (most recent call last)",
            "\u001b[0;32m<ipython-input-59-83c64cff336b>\u001b[0m in \u001b[0;36m<module>\u001b[0;34m()\u001b[0m\n\u001b[0;32m----> 1\u001b[0;31m \u001b[0md\u001b[0m\u001b[0;34m.\u001b[0m\u001b[0mpopitem\u001b[0m\u001b[0;34m(\u001b[0m\u001b[0;34m)\u001b[0m\u001b[0;34m\u001b[0m\u001b[0;34m\u001b[0m\u001b[0m\n\u001b[0m",
            "\u001b[0;31mKeyError\u001b[0m: 'popitem(): dictionary is empty'"
          ]
        }
      ]
    },
    {
      "cell_type": "code",
      "metadata": {
        "id": "8uWsw3sAVY4p"
      },
      "source": [
        "#remove all keys"
      ],
      "execution_count": null,
      "outputs": []
    },
    {
      "cell_type": "code",
      "metadata": {
        "colab": {
          "base_uri": "https://localhost:8080/"
        },
        "id": "l8_OROPEVefQ",
        "outputId": "766964d1-9c98-471b-f1aa-76cbf9b3f640"
      },
      "source": [
        "d = {('a',100),('b',200),('c',300),('d',400)}\r\n",
        "d"
      ],
      "execution_count": 62,
      "outputs": [
        {
          "output_type": "execute_result",
          "data": {
            "text/plain": [
              "{('a', 100), ('b', 200), ('c', 300), ('d', 400)}"
            ]
          },
          "metadata": {
            "tags": []
          },
          "execution_count": 62
        }
      ]
    },
    {
      "cell_type": "code",
      "metadata": {
        "colab": {
          "base_uri": "https://localhost:8080/"
        },
        "id": "SO2TzZWyfi2h",
        "outputId": "9fa65f2b-a736-4217-d1cf-2bf6a26f118d"
      },
      "source": [
        "d.clear()\r\n",
        "d"
      ],
      "execution_count": 76,
      "outputs": [
        {
          "output_type": "execute_result",
          "data": {
            "text/plain": [
              "set()"
            ]
          },
          "metadata": {
            "tags": []
          },
          "execution_count": 76
        }
      ]
    }
  ]
}
{
  "nbformat": 4,
  "nbformat_minor": 0,
  "metadata": {
    "colab": {
      "name": "BasicPython2.ipynb",
      "provenance": [],
      "authorship_tag": "ABX9TyP64i5ueQ2AyZamvjyXxN7y",
      "include_colab_link": true
    },
    "kernelspec": {
      "name": "python3",
      "display_name": "Python 3"
    }
  },
  "cells": [
    {
      "cell_type": "markdown",
      "metadata": {
        "id": "view-in-github",
        "colab_type": "text"
      },
      "source": [
        "<a href=\"https://colab.research.google.com/github/Sinudeshmukh/PYTHON-CODES/blob/main/BasicPython2.ipynb\" target=\"_parent\"><img src=\"https://colab.research.google.com/assets/colab-badge.svg\" alt=\"Open In Colab\"/></a>"
      ]
    },
    {
      "cell_type": "markdown",
      "metadata": {
        "id": "apx5ST5Ofv-t"
      },
      "source": [
        "#Sets\r\n",
        "##Similar to keys in a dictionary\r\n",
        "###Properties of a set\r\n",
        "* Unordered\r\n",
        "* Distinct Elements\r\n",
        "* Hashable Elements\r\n",
        "* Mutable\r\n",
        "* Iterable\r\n",
        "* Heterogeneous\r\n",
        "\r\n"
      ]
    },
    {
      "cell_type": "code",
      "metadata": {
        "id": "GktHhOnHgEXl"
      },
      "source": [
        "s1 = {9,16,3,2}"
      ],
      "execution_count": 1,
      "outputs": []
    },
    {
      "cell_type": "code",
      "metadata": {
        "colab": {
          "base_uri": "https://localhost:8080/",
          "height": 180
        },
        "id": "Flj1bJftgG_s",
        "outputId": "9541a0d1-ce75-4a16-bf1a-f34996a7a5fa"
      },
      "source": [
        "## No positional ordering\r\n",
        "s1[2]"
      ],
      "execution_count": 2,
      "outputs": [
        {
          "output_type": "error",
          "ename": "TypeError",
          "evalue": "ignored",
          "traceback": [
            "\u001b[0;31m---------------------------------------------------------------------------\u001b[0m",
            "\u001b[0;31mTypeError\u001b[0m                                 Traceback (most recent call last)",
            "\u001b[0;32m<ipython-input-2-d75e13565ffa>\u001b[0m in \u001b[0;36m<module>\u001b[0;34m()\u001b[0m\n\u001b[1;32m      1\u001b[0m \u001b[0;31m## No positional ordering\u001b[0m\u001b[0;34m\u001b[0m\u001b[0;34m\u001b[0m\u001b[0;34m\u001b[0m\u001b[0m\n\u001b[0;32m----> 2\u001b[0;31m \u001b[0ms1\u001b[0m\u001b[0;34m[\u001b[0m\u001b[0;36m2\u001b[0m\u001b[0;34m]\u001b[0m\u001b[0;34m\u001b[0m\u001b[0;34m\u001b[0m\u001b[0m\n\u001b[0m",
            "\u001b[0;31mTypeError\u001b[0m: 'set' object does not support indexing"
          ]
        }
      ]
    },
    {
      "cell_type": "code",
      "metadata": {
        "colab": {
          "base_uri": "https://localhost:8080/"
        },
        "id": "fQli2v1kgH4C",
        "outputId": "b4064b10-ef03-4bea-c14d-8c0aca8e366a"
      },
      "source": [
        "## Distinct elements - duplicates not allowed\r\n",
        "s2 = {1,1,2,3}\r\n",
        "s2"
      ],
      "execution_count": 3,
      "outputs": [
        {
          "output_type": "execute_result",
          "data": {
            "text/plain": [
              "{1, 2, 3}"
            ]
          },
          "metadata": {
            "tags": []
          },
          "execution_count": 3
        }
      ]
    },
    {
      "cell_type": "code",
      "metadata": {
        "colab": {
          "base_uri": "https://localhost:8080/"
        },
        "id": "TyErkPOegH18",
        "outputId": "d7dced33-2151-4018-b5b8-a6a3c9879231"
      },
      "source": [
        "## Iterable\r\n",
        "for i in s1:\r\n",
        "    print(i)"
      ],
      "execution_count": 4,
      "outputs": [
        {
          "output_type": "stream",
          "text": [
            "16\n",
            "9\n",
            "2\n",
            "3\n"
          ],
          "name": "stdout"
        }
      ]
    },
    {
      "cell_type": "markdown",
      "metadata": {
        "id": "ecgeTM4agTyc"
      },
      "source": [
        "##Creating Sets"
      ]
    },
    {
      "cell_type": "code",
      "metadata": {
        "colab": {
          "base_uri": "https://localhost:8080/"
        },
        "id": "Nc7BgFS5gHz1",
        "outputId": "8fbb248b-0be3-4d10-fa6a-389b8dfe2be8"
      },
      "source": [
        "## Creating an empty set\r\n",
        "s  = {}\r\n",
        "type(s)"
      ],
      "execution_count": 5,
      "outputs": [
        {
          "output_type": "execute_result",
          "data": {
            "text/plain": [
              "dict"
            ]
          },
          "metadata": {
            "tags": []
          },
          "execution_count": 5
        }
      ]
    },
    {
      "cell_type": "code",
      "metadata": {
        "colab": {
          "base_uri": "https://localhost:8080/"
        },
        "id": "xf73TAaOgg9N",
        "outputId": "80f68d31-75fb-4fd5-d832-981dfb2a5db4"
      },
      "source": [
        "## Use the set() function\r\n",
        "s = set()\r\n",
        "type(s)"
      ],
      "execution_count": 6,
      "outputs": [
        {
          "output_type": "execute_result",
          "data": {
            "text/plain": [
              "set"
            ]
          },
          "metadata": {
            "tags": []
          },
          "execution_count": 6
        }
      ]
    },
    {
      "cell_type": "markdown",
      "metadata": {
        "id": "ftGp_x-MgpLl"
      },
      "source": [
        "###a. Using literals"
      ]
    },
    {
      "cell_type": "code",
      "metadata": {
        "colab": {
          "base_uri": "https://localhost:8080/"
        },
        "id": "1UQ2VRc_gi9d",
        "outputId": "d20400b3-7864-43c4-f563-0e48fa1c5a0e"
      },
      "source": [
        "## Elements must be immutable\r\n",
        "s = {'a', 100, (1,2)}\r\n",
        "s"
      ],
      "execution_count": 7,
      "outputs": [
        {
          "output_type": "execute_result",
          "data": {
            "text/plain": [
              "{(1, 2), 100, 'a'}"
            ]
          },
          "metadata": {
            "tags": []
          },
          "execution_count": 7
        }
      ]
    },
    {
      "cell_type": "code",
      "metadata": {
        "colab": {
          "base_uri": "https://localhost:8080/"
        },
        "id": "60v9JhUkgzz0",
        "outputId": "b9aa04d5-3a8c-4934-c870-19d7ef1a35ca"
      },
      "source": [
        "type(s)"
      ],
      "execution_count": 8,
      "outputs": [
        {
          "output_type": "execute_result",
          "data": {
            "text/plain": [
              "set"
            ]
          },
          "metadata": {
            "tags": []
          },
          "execution_count": 8
        }
      ]
    },
    {
      "cell_type": "code",
      "metadata": {
        "colab": {
          "base_uri": "https://localhost:8080/",
          "height": 180
        },
        "id": "Wh9lMU8ig6dN",
        "outputId": "3173a9f1-27ca-4bc5-a17b-6d16d6f4d14c"
      },
      "source": [
        "#list inside set causes error\r\n",
        "s = {'a', 100, [1,2]}\r\n",
        "s"
      ],
      "execution_count": 9,
      "outputs": [
        {
          "output_type": "error",
          "ename": "TypeError",
          "evalue": "ignored",
          "traceback": [
            "\u001b[0;31m---------------------------------------------------------------------------\u001b[0m",
            "\u001b[0;31mTypeError\u001b[0m                                 Traceback (most recent call last)",
            "\u001b[0;32m<ipython-input-9-0020976c9ca4>\u001b[0m in \u001b[0;36m<module>\u001b[0;34m()\u001b[0m\n\u001b[0;32m----> 1\u001b[0;31m \u001b[0ms\u001b[0m \u001b[0;34m=\u001b[0m \u001b[0;34m{\u001b[0m\u001b[0;34m'a'\u001b[0m\u001b[0;34m,\u001b[0m \u001b[0;36m100\u001b[0m\u001b[0;34m,\u001b[0m \u001b[0;34m[\u001b[0m\u001b[0;36m1\u001b[0m\u001b[0;34m,\u001b[0m\u001b[0;36m2\u001b[0m\u001b[0;34m]\u001b[0m\u001b[0;34m}\u001b[0m\u001b[0;34m\u001b[0m\u001b[0;34m\u001b[0m\u001b[0m\n\u001b[0m\u001b[1;32m      2\u001b[0m \u001b[0ms\u001b[0m\u001b[0;34m\u001b[0m\u001b[0;34m\u001b[0m\u001b[0m\n",
            "\u001b[0;31mTypeError\u001b[0m: unhashable type: 'list'"
          ]
        }
      ]
    },
    {
      "cell_type": "markdown",
      "metadata": {
        "id": "BOl4CDGHhDf1"
      },
      "source": [
        "###b. Using set() function\r\n",
        "Pass any iterable"
      ]
    },
    {
      "cell_type": "code",
      "metadata": {
        "colab": {
          "base_uri": "https://localhost:8080/"
        },
        "id": "Xl2MetVcg-NO",
        "outputId": "537fc290-3083-433b-b355-1146f193a0ac"
      },
      "source": [
        "s1 = set(range(10))\r\n",
        "s1"
      ],
      "execution_count": 10,
      "outputs": [
        {
          "output_type": "execute_result",
          "data": {
            "text/plain": [
              "{0, 1, 2, 3, 4, 5, 6, 7, 8, 9}"
            ]
          },
          "metadata": {
            "tags": []
          },
          "execution_count": 10
        }
      ]
    },
    {
      "cell_type": "code",
      "metadata": {
        "colab": {
          "base_uri": "https://localhost:8080/"
        },
        "id": "g8bsgSOshZgW",
        "outputId": "99432875-d952-4fe6-ea35-ada39f79023d"
      },
      "source": [
        "s2 = set([1,2,3])\r\n",
        "s2"
      ],
      "execution_count": 12,
      "outputs": [
        {
          "output_type": "execute_result",
          "data": {
            "text/plain": [
              "{1, 2, 3}"
            ]
          },
          "metadata": {
            "tags": []
          },
          "execution_count": 12
        }
      ]
    },
    {
      "cell_type": "code",
      "metadata": {
        "colab": {
          "base_uri": "https://localhost:8080/"
        },
        "id": "tZfv_4Uahd9J",
        "outputId": "f7fa8b81-95e7-4364-e50d-a7fad7cc7ff3"
      },
      "source": [
        "s3 = set('python')\r\n",
        "s3"
      ],
      "execution_count": 14,
      "outputs": [
        {
          "output_type": "execute_result",
          "data": {
            "text/plain": [
              "{'h', 'n', 'o', 'p', 't', 'y'}"
            ]
          },
          "metadata": {
            "tags": []
          },
          "execution_count": 14
        }
      ]
    },
    {
      "cell_type": "code",
      "metadata": {
        "colab": {
          "base_uri": "https://localhost:8080/"
        },
        "id": "FWsgH3Yvhjk4",
        "outputId": "0a2259fa-32d1-469f-c61d-9bf5a642525a"
      },
      "source": [
        "s4 = set('babbbbbaaaaa')\r\n",
        "s4"
      ],
      "execution_count": 15,
      "outputs": [
        {
          "output_type": "execute_result",
          "data": {
            "text/plain": [
              "{'a', 'b'}"
            ]
          },
          "metadata": {
            "tags": []
          },
          "execution_count": 15
        }
      ]
    },
    {
      "cell_type": "code",
      "metadata": {
        "colab": {
          "base_uri": "https://localhost:8080/"
        },
        "id": "zxFxwAewhrvg",
        "outputId": "ffd5cb47-9db8-4817-e949-49d2dcf97e76"
      },
      "source": [
        "## When you iterate over a dictionary you only get the keys\r\n",
        "d = {'a':1,'b':2}\r\n",
        "d"
      ],
      "execution_count": 16,
      "outputs": [
        {
          "output_type": "execute_result",
          "data": {
            "text/plain": [
              "{'a': 1, 'b': 2}"
            ]
          },
          "metadata": {
            "tags": []
          },
          "execution_count": 16
        }
      ]
    },
    {
      "cell_type": "code",
      "metadata": {
        "colab": {
          "base_uri": "https://localhost:8080/"
        },
        "id": "G7VFlH7ph3Ge",
        "outputId": "b6439791-101b-4f52-8244-3d08892db3b3"
      },
      "source": [
        "s5 = set(d)\r\n",
        "s5"
      ],
      "execution_count": 17,
      "outputs": [
        {
          "output_type": "execute_result",
          "data": {
            "text/plain": [
              "{'a', 'b'}"
            ]
          },
          "metadata": {
            "tags": []
          },
          "execution_count": 17
        }
      ]
    },
    {
      "cell_type": "markdown",
      "metadata": {
        "id": "gPG0dHt8iCXN"
      },
      "source": [
        "###c. Set Comprehension"
      ]
    },
    {
      "cell_type": "code",
      "metadata": {
        "colab": {
          "base_uri": "https://localhost:8080/"
        },
        "id": "PD-HBS3ph6uP",
        "outputId": "ab1d391c-7b99-4bf3-9027-9fed99599a02"
      },
      "source": [
        "s6 = {i for i in [23,455,6,4,13,123]}\r\n",
        "s6"
      ],
      "execution_count": 19,
      "outputs": [
        {
          "output_type": "execute_result",
          "data": {
            "text/plain": [
              "{4, 6, 13, 23, 123, 455}"
            ]
          },
          "metadata": {
            "tags": []
          },
          "execution_count": 19
        }
      ]
    },
    {
      "cell_type": "code",
      "metadata": {
        "colab": {
          "base_uri": "https://localhost:8080/"
        },
        "id": "OQ9O92fqivYx",
        "outputId": "a0fa74ff-473e-42c9-e864-c6d8551b7eeb"
      },
      "source": [
        "s7  = {c for c in 'mommmmooo'}\r\n",
        "s7"
      ],
      "execution_count": 20,
      "outputs": [
        {
          "output_type": "execute_result",
          "data": {
            "text/plain": [
              "{'m', 'o'}"
            ]
          },
          "metadata": {
            "tags": []
          },
          "execution_count": 20
        }
      ]
    },
    {
      "cell_type": "markdown",
      "metadata": {
        "id": "FvE6vsI6jF51"
      },
      "source": [
        "###Adding Elements"
      ]
    },
    {
      "cell_type": "code",
      "metadata": {
        "colab": {
          "base_uri": "https://localhost:8080/"
        },
        "id": "q1GZmV_IjCb8",
        "outputId": "65eaae56-f2da-414c-cdea-025a4e6683df"
      },
      "source": [
        "s = {89,45,23,78}\r\n",
        "s"
      ],
      "execution_count": 21,
      "outputs": [
        {
          "output_type": "execute_result",
          "data": {
            "text/plain": [
              "{23, 45, 78, 89}"
            ]
          },
          "metadata": {
            "tags": []
          },
          "execution_count": 21
        }
      ]
    },
    {
      "cell_type": "code",
      "metadata": {
        "colab": {
          "base_uri": "https://localhost:8080/"
        },
        "id": "QjsOLJKHjKRC",
        "outputId": "ea1bea80-175b-44d6-fc38-c1e5fdf7f791"
      },
      "source": [
        "s.add('abc')\r\n",
        "s"
      ],
      "execution_count": 22,
      "outputs": [
        {
          "output_type": "execute_result",
          "data": {
            "text/plain": [
              "{23, 45, 78, 89, 'abc'}"
            ]
          },
          "metadata": {
            "tags": []
          },
          "execution_count": 22
        }
      ]
    },
    {
      "cell_type": "code",
      "metadata": {
        "colab": {
          "base_uri": "https://localhost:8080/"
        },
        "id": "n_EibcUUjU_E",
        "outputId": "93f0a638-b60b-402d-c77d-c517a93600a4"
      },
      "source": [
        "## If you add an existing element again, python quietly ignores it\r\n",
        "s.add('abc')\r\n",
        "s"
      ],
      "execution_count": 23,
      "outputs": [
        {
          "output_type": "execute_result",
          "data": {
            "text/plain": [
              "{23, 45, 78, 89, 'abc'}"
            ]
          },
          "metadata": {
            "tags": []
          },
          "execution_count": 23
        }
      ]
    },
    {
      "cell_type": "markdown",
      "metadata": {
        "id": "mrZVysWJjfU1"
      },
      "source": [
        "###Removing Elements"
      ]
    },
    {
      "cell_type": "code",
      "metadata": {
        "colab": {
          "base_uri": "https://localhost:8080/"
        },
        "id": "wfRhTxJZjaKo",
        "outputId": "e2b5becd-bd3a-4dcf-d2b1-cabfc2ef0f9d"
      },
      "source": [
        "s.remove(45)\r\n",
        "s"
      ],
      "execution_count": 24,
      "outputs": [
        {
          "output_type": "execute_result",
          "data": {
            "text/plain": [
              "{23, 78, 89, 'abc'}"
            ]
          },
          "metadata": {
            "tags": []
          },
          "execution_count": 24
        }
      ]
    },
    {
      "cell_type": "code",
      "metadata": {
        "colab": {
          "base_uri": "https://localhost:8080/",
          "height": 163
        },
        "id": "JOtsmpjUjkYP",
        "outputId": "bad4d97c-2f31-4e6a-98da-a5f12119ca97"
      },
      "source": [
        "s.remove(100)"
      ],
      "execution_count": 25,
      "outputs": [
        {
          "output_type": "error",
          "ename": "KeyError",
          "evalue": "ignored",
          "traceback": [
            "\u001b[0;31m---------------------------------------------------------------------------\u001b[0m",
            "\u001b[0;31mKeyError\u001b[0m                                  Traceback (most recent call last)",
            "\u001b[0;32m<ipython-input-25-d197555c5fbf>\u001b[0m in \u001b[0;36m<module>\u001b[0;34m()\u001b[0m\n\u001b[0;32m----> 1\u001b[0;31m \u001b[0ms\u001b[0m\u001b[0;34m.\u001b[0m\u001b[0mremove\u001b[0m\u001b[0;34m(\u001b[0m\u001b[0;36m100\u001b[0m\u001b[0;34m)\u001b[0m\u001b[0;34m\u001b[0m\u001b[0;34m\u001b[0m\u001b[0m\n\u001b[0m",
            "\u001b[0;31mKeyError\u001b[0m: 100"
          ]
        }
      ]
    },
    {
      "cell_type": "code",
      "metadata": {
        "id": "qYJTlyGhjo1k"
      },
      "source": [
        "## Remove without errors\r\n",
        "s.discard(100)"
      ],
      "execution_count": 26,
      "outputs": []
    },
    {
      "cell_type": "code",
      "metadata": {
        "colab": {
          "base_uri": "https://localhost:8080/"
        },
        "id": "irDGi4ycjwec",
        "outputId": "ef23e1d5-ddf2-49d2-fdef-230abbb67325"
      },
      "source": [
        "s.discard(23)\r\n",
        "s"
      ],
      "execution_count": 27,
      "outputs": [
        {
          "output_type": "execute_result",
          "data": {
            "text/plain": [
              "{78, 89, 'abc'}"
            ]
          },
          "metadata": {
            "tags": []
          },
          "execution_count": 27
        }
      ]
    },
    {
      "cell_type": "code",
      "metadata": {
        "colab": {
          "base_uri": "https://localhost:8080/",
          "height": 35
        },
        "id": "2orMqdPyjzlf",
        "outputId": "99a2b776-edd8-451a-91fc-c265e8ac7353"
      },
      "source": [
        "## Using pop() - does not take an argument\r\n",
        "## As there is no ordering, it will remove an arbitrary element\r\n",
        "s.pop()"
      ],
      "execution_count": 28,
      "outputs": [
        {
          "output_type": "execute_result",
          "data": {
            "application/vnd.google.colaboratory.intrinsic+json": {
              "type": "string"
            },
            "text/plain": [
              "'abc'"
            ]
          },
          "metadata": {
            "tags": []
          },
          "execution_count": 28
        }
      ]
    },
    {
      "cell_type": "code",
      "metadata": {
        "colab": {
          "base_uri": "https://localhost:8080/"
        },
        "id": "apblehkmj3HM",
        "outputId": "9e196e7e-f0a5-4cc2-887d-9783b614077b"
      },
      "source": [
        "s.pop()"
      ],
      "execution_count": 29,
      "outputs": [
        {
          "output_type": "execute_result",
          "data": {
            "text/plain": [
              "78"
            ]
          },
          "metadata": {
            "tags": []
          },
          "execution_count": 29
        }
      ]
    },
    {
      "cell_type": "code",
      "metadata": {
        "colab": {
          "base_uri": "https://localhost:8080/"
        },
        "id": "o8kB6RaEj5CZ",
        "outputId": "1b37cf7a-7ba5-4eb4-f89d-ff536978a1cc"
      },
      "source": [
        "## remove all elements\r\n",
        "s = {89,45,23,78}\r\n",
        "s.clear()\r\n",
        "s"
      ],
      "execution_count": 30,
      "outputs": [
        {
          "output_type": "execute_result",
          "data": {
            "text/plain": [
              "set()"
            ]
          },
          "metadata": {
            "tags": []
          },
          "execution_count": 30
        }
      ]
    },
    {
      "cell_type": "markdown",
      "metadata": {
        "id": "kdBeI-KZkB_v"
      },
      "source": [
        "##Common Operations"
      ]
    },
    {
      "cell_type": "markdown",
      "metadata": {
        "id": "KoD4A_PtkDoM"
      },
      "source": [
        "####a. len()"
      ]
    },
    {
      "cell_type": "code",
      "metadata": {
        "colab": {
          "base_uri": "https://localhost:8080/"
        },
        "id": "kVeZLt6Fj-UN",
        "outputId": "dc74c73d-65ac-4043-a134-4e51077d160b"
      },
      "source": [
        "s = {1,2,3,4}\r\n",
        "len(s)"
      ],
      "execution_count": 31,
      "outputs": [
        {
          "output_type": "execute_result",
          "data": {
            "text/plain": [
              "4"
            ]
          },
          "metadata": {
            "tags": []
          },
          "execution_count": 31
        }
      ]
    },
    {
      "cell_type": "markdown",
      "metadata": {
        "id": "sbadOJDIkOEE"
      },
      "source": [
        "b. Membership test"
      ]
    },
    {
      "cell_type": "code",
      "metadata": {
        "colab": {
          "base_uri": "https://localhost:8080/"
        },
        "id": "T3Y1GPoAkMES",
        "outputId": "8c195104-9154-407b-ae91-467f17a6c30a"
      },
      "source": [
        "s = {c for c in [23,24,25,67,34]}\r\n",
        "23 in s,100 in s"
      ],
      "execution_count": 34,
      "outputs": [
        {
          "output_type": "execute_result",
          "data": {
            "text/plain": [
              "(True, False)"
            ]
          },
          "metadata": {
            "tags": []
          },
          "execution_count": 34
        }
      ]
    },
    {
      "cell_type": "code",
      "metadata": {
        "colab": {
          "base_uri": "https://localhost:8080/"
        },
        "id": "7boAQBqykZln",
        "outputId": "1402faab-0968-466b-a46b-28147e2fde4e"
      },
      "source": [
        "23 not in s, 40 not in s"
      ],
      "execution_count": 36,
      "outputs": [
        {
          "output_type": "execute_result",
          "data": {
            "text/plain": [
              "(False, True)"
            ]
          },
          "metadata": {
            "tags": []
          },
          "execution_count": 36
        }
      ]
    },
    {
      "cell_type": "markdown",
      "metadata": {
        "id": "2waIUhyvkmHE"
      },
      "source": [
        "##Efficiency of set compared to other collections"
      ]
    },
    {
      "cell_type": "code",
      "metadata": {
        "id": "W3AhNFLwkgIE"
      },
      "source": [
        "n = 1000000\r\n",
        "s = set(range(n))\r\n",
        "l = list(range(n))\r\n",
        "t = tuple(range(n))"
      ],
      "execution_count": 37,
      "outputs": []
    },
    {
      "cell_type": "code",
      "metadata": {
        "id": "_yIRw-msktT-"
      },
      "source": [
        "def test_set(s, value):\r\n",
        "    return value in s"
      ],
      "execution_count": 38,
      "outputs": []
    },
    {
      "cell_type": "code",
      "metadata": {
        "id": "NZDFjv_GkwMk"
      },
      "source": [
        "def test_list(l, value):\r\n",
        "    return value in l"
      ],
      "execution_count": 39,
      "outputs": []
    },
    {
      "cell_type": "code",
      "metadata": {
        "id": "AxxLdSNZk2Ta"
      },
      "source": [
        "def test_tup(t, value):\r\n",
        "    return value in t"
      ],
      "execution_count": 40,
      "outputs": []
    },
    {
      "cell_type": "code",
      "metadata": {
        "colab": {
          "base_uri": "https://localhost:8080/"
        },
        "id": "2Tw3nVn7k4Vb",
        "outputId": "5655aba3-566b-4f17-c1f9-6f9616d07fca"
      },
      "source": [
        "%timeit test_tup(t,100)"
      ],
      "execution_count": 41,
      "outputs": [
        {
          "output_type": "stream",
          "text": [
            "1000000 loops, best of 3: 1.2 µs per loop\n"
          ],
          "name": "stdout"
        }
      ]
    },
    {
      "cell_type": "code",
      "metadata": {
        "colab": {
          "base_uri": "https://localhost:8080/"
        },
        "id": "uig1jY4tk6eU",
        "outputId": "41494465-7a8d-42cb-92cd-6fe98e57106b"
      },
      "source": [
        "%timeit test_tup(t,900000)"
      ],
      "execution_count": 43,
      "outputs": [
        {
          "output_type": "stream",
          "text": [
            "100 loops, best of 3: 10.3 ms per loop\n"
          ],
          "name": "stdout"
        }
      ]
    },
    {
      "cell_type": "code",
      "metadata": {
        "colab": {
          "base_uri": "https://localhost:8080/"
        },
        "id": "2fc0odfmk9dx",
        "outputId": "2cb7898a-5c93-43eb-b1da-c9fddead78f1"
      },
      "source": [
        "%timeit test_list(t,100)"
      ],
      "execution_count": 44,
      "outputs": [
        {
          "output_type": "stream",
          "text": [
            "1000000 loops, best of 3: 1.2 µs per loop\n"
          ],
          "name": "stdout"
        }
      ]
    },
    {
      "cell_type": "code",
      "metadata": {
        "colab": {
          "base_uri": "https://localhost:8080/"
        },
        "id": "ni6eqTQElALP",
        "outputId": "71de26ae-5239-4484-cee0-138e8c839041"
      },
      "source": [
        "%timeit test_list(t,900000)"
      ],
      "execution_count": 45,
      "outputs": [
        {
          "output_type": "stream",
          "text": [
            "100 loops, best of 3: 10.3 ms per loop\n"
          ],
          "name": "stdout"
        }
      ]
    },
    {
      "cell_type": "code",
      "metadata": {
        "colab": {
          "base_uri": "https://localhost:8080/"
        },
        "id": "FBin-RCZlCEr",
        "outputId": "5d1c59d5-996d-4965-f010-8b58c08b930e"
      },
      "source": [
        "%timeit test_set(s,100)"
      ],
      "execution_count": 46,
      "outputs": [
        {
          "output_type": "stream",
          "text": [
            "The slowest run took 20.25 times longer than the fastest. This could mean that an intermediate result is being cached.\n",
            "10000000 loops, best of 3: 93.8 ns per loop\n"
          ],
          "name": "stdout"
        }
      ]
    },
    {
      "cell_type": "code",
      "metadata": {
        "colab": {
          "base_uri": "https://localhost:8080/"
        },
        "id": "OR-a0dBIlFak",
        "outputId": "dc1df689-12e8-412f-fd78-ca82907c3711"
      },
      "source": [
        "%timeit test_set(s,900000)"
      ],
      "execution_count": 47,
      "outputs": [
        {
          "output_type": "stream",
          "text": [
            "The slowest run took 30.58 times longer than the fastest. This could mean that an intermediate result is being cached.\n",
            "10000000 loops, best of 3: 109 ns per loop\n"
          ],
          "name": "stdout"
        }
      ]
    },
    {
      "cell_type": "code",
      "metadata": {
        "colab": {
          "base_uri": "https://localhost:8080/"
        },
        "id": "PwXr_HeqlHan",
        "outputId": "d0a7135b-51ed-4483-895e-c4933e439883"
      },
      "source": [
        "### Efficiency comes at the cost of memory\r\n",
        "print(l.__sizeof__())\r\n",
        "print(t.__sizeof__())\r\n",
        "print(s.__sizeof__())"
      ],
      "execution_count": 48,
      "outputs": [
        {
          "output_type": "stream",
          "text": [
            "9000088\n",
            "8000024\n",
            "33554632\n"
          ],
          "name": "stdout"
        }
      ]
    },
    {
      "cell_type": "markdown",
      "metadata": {
        "id": "XqJH4ctBlUIv"
      },
      "source": [
        "##Set Operations"
      ]
    },
    {
      "cell_type": "markdown",
      "metadata": {
        "id": "QNDAz2GrlYod"
      },
      "source": [
        "a. Intersection"
      ]
    },
    {
      "cell_type": "code",
      "metadata": {
        "id": "McEe8dXVlI48"
      },
      "source": [
        "s1 = {1, 2, 3}\r\n",
        "s2 = {2, 3, 4}"
      ],
      "execution_count": 49,
      "outputs": []
    },
    {
      "cell_type": "code",
      "metadata": {
        "colab": {
          "base_uri": "https://localhost:8080/"
        },
        "id": "DLZQuEa6la-G",
        "outputId": "41043298-8260-4a92-d6e5-497c38f449bc"
      },
      "source": [
        "s1.intersection(s2)"
      ],
      "execution_count": 50,
      "outputs": [
        {
          "output_type": "execute_result",
          "data": {
            "text/plain": [
              "{2, 3}"
            ]
          },
          "metadata": {
            "tags": []
          },
          "execution_count": 50
        }
      ]
    },
    {
      "cell_type": "code",
      "metadata": {
        "colab": {
          "base_uri": "https://localhost:8080/"
        },
        "id": "bxB0cowQlcZj",
        "outputId": "847faaf2-52dd-43a5-930e-6e41f5599632"
      },
      "source": [
        "s1 & s2"
      ],
      "execution_count": 51,
      "outputs": [
        {
          "output_type": "execute_result",
          "data": {
            "text/plain": [
              "{2, 3}"
            ]
          },
          "metadata": {
            "tags": []
          },
          "execution_count": 51
        }
      ]
    },
    {
      "cell_type": "code",
      "metadata": {
        "id": "5NQHMtTOlezY"
      },
      "source": [
        "## Intersection of more than 2 sets\r\n",
        "s1 = {1, 2, 3}\r\n",
        "s2 = {2, 3, 4}\r\n",
        "s3 = {3, 4, 5}"
      ],
      "execution_count": 52,
      "outputs": []
    },
    {
      "cell_type": "code",
      "metadata": {
        "colab": {
          "base_uri": "https://localhost:8080/"
        },
        "id": "4e_doSQ1lh8M",
        "outputId": "ab3f682d-fe40-4f54-e8b0-f4e07e6dc2d7"
      },
      "source": [
        "s1.intersection(s2, s3)"
      ],
      "execution_count": 53,
      "outputs": [
        {
          "output_type": "execute_result",
          "data": {
            "text/plain": [
              "{3}"
            ]
          },
          "metadata": {
            "tags": []
          },
          "execution_count": 53
        }
      ]
    },
    {
      "cell_type": "code",
      "metadata": {
        "colab": {
          "base_uri": "https://localhost:8080/"
        },
        "id": "AKlj_ZkLljXz",
        "outputId": "3494eaf4-9f4e-4529-f34c-d28691469450"
      },
      "source": [
        "s1 & s2 & s3"
      ],
      "execution_count": 54,
      "outputs": [
        {
          "output_type": "execute_result",
          "data": {
            "text/plain": [
              "{3}"
            ]
          },
          "metadata": {
            "tags": []
          },
          "execution_count": 54
        }
      ]
    },
    {
      "cell_type": "markdown",
      "metadata": {
        "id": "lPzimyd1lmf8"
      },
      "source": [
        "b. Union"
      ]
    },
    {
      "cell_type": "code",
      "metadata": {
        "id": "rwN9br3qlnQs"
      },
      "source": [
        "s1 = {1, 2, 3}\r\n",
        "s2 = {3, 4, 5}"
      ],
      "execution_count": 55,
      "outputs": []
    },
    {
      "cell_type": "code",
      "metadata": {
        "colab": {
          "base_uri": "https://localhost:8080/"
        },
        "id": "5BuYamPXlsGE",
        "outputId": "833d9b4d-b8f1-40de-9491-ad5f8e8195b2"
      },
      "source": [
        "s1.union(s2)"
      ],
      "execution_count": 56,
      "outputs": [
        {
          "output_type": "execute_result",
          "data": {
            "text/plain": [
              "{1, 2, 3, 4, 5}"
            ]
          },
          "metadata": {
            "tags": []
          },
          "execution_count": 56
        }
      ]
    },
    {
      "cell_type": "code",
      "metadata": {
        "colab": {
          "base_uri": "https://localhost:8080/"
        },
        "id": "uHZmvNFvluSE",
        "outputId": "02cdd73b-4d2a-4a01-f5d9-2f78eebc1ef8"
      },
      "source": [
        "s1 | s2"
      ],
      "execution_count": 57,
      "outputs": [
        {
          "output_type": "execute_result",
          "data": {
            "text/plain": [
              "{1, 2, 3, 4, 5}"
            ]
          },
          "metadata": {
            "tags": []
          },
          "execution_count": 57
        }
      ]
    },
    {
      "cell_type": "code",
      "metadata": {
        "id": "Wp1HauPSluwU"
      },
      "source": [
        "### We can compute the union of more than two sets:\r\n",
        "s3 = {5, 6, 7}"
      ],
      "execution_count": 58,
      "outputs": []
    },
    {
      "cell_type": "code",
      "metadata": {
        "colab": {
          "base_uri": "https://localhost:8080/"
        },
        "id": "quuiqZUHlwbO",
        "outputId": "4a64660f-b2f4-443d-cc21-d2733ef9cd2b"
      },
      "source": [
        "s1.union(s2, s3)"
      ],
      "execution_count": 59,
      "outputs": [
        {
          "output_type": "execute_result",
          "data": {
            "text/plain": [
              "{1, 2, 3, 4, 5, 6, 7}"
            ]
          },
          "metadata": {
            "tags": []
          },
          "execution_count": 59
        }
      ]
    },
    {
      "cell_type": "code",
      "metadata": {
        "colab": {
          "base_uri": "https://localhost:8080/"
        },
        "id": "e-vHVe1nlyRr",
        "outputId": "cb0ccd4e-dff4-40af-e845-d732e1b52ae6"
      },
      "source": [
        "s1 | s2 | s3"
      ],
      "execution_count": 60,
      "outputs": [
        {
          "output_type": "execute_result",
          "data": {
            "text/plain": [
              "{1, 2, 3, 4, 5, 6, 7}"
            ]
          },
          "metadata": {
            "tags": []
          },
          "execution_count": 60
        }
      ]
    },
    {
      "cell_type": "markdown",
      "metadata": {
        "id": "5eI5Qq6Ml48N"
      },
      "source": [
        "####c. Disjointedness\r\n",
        "Two sets are disjoint if their intersection is empty:"
      ]
    },
    {
      "cell_type": "code",
      "metadata": {
        "id": "U3j33-U0l0ta"
      },
      "source": [
        "s1 = {1, 2, 3}\r\n",
        "s2 = {2, 3, 4}\r\n",
        "s3 = {30, 40, 50}"
      ],
      "execution_count": 61,
      "outputs": []
    },
    {
      "cell_type": "code",
      "metadata": {
        "colab": {
          "base_uri": "https://localhost:8080/"
        },
        "id": "bZlUmcL3l8-C",
        "outputId": "3b7b8555-e237-4616-b47a-6f1257c0ec10"
      },
      "source": [
        "print(s1.isdisjoint(s2))\r\n",
        "print(s2.isdisjoint(s3))"
      ],
      "execution_count": 62,
      "outputs": [
        {
          "output_type": "stream",
          "text": [
            "False\n",
            "True\n"
          ],
          "name": "stdout"
        }
      ]
    },
    {
      "cell_type": "code",
      "metadata": {
        "colab": {
          "base_uri": "https://localhost:8080/"
        },
        "id": "ON5vjmtTl-sA",
        "outputId": "8fc06b5c-3cf4-4904-aa40-ee43a737f147"
      },
      "source": [
        "### Another way to test disjointedness\r\n",
        "### Check the cardinality of the intersection\r\n",
        "len(s1 & s2) , len(s2&s3)"
      ],
      "execution_count": 63,
      "outputs": [
        {
          "output_type": "execute_result",
          "data": {
            "text/plain": [
              "(2, 0)"
            ]
          },
          "metadata": {
            "tags": []
          },
          "execution_count": 63
        }
      ]
    },
    {
      "cell_type": "markdown",
      "metadata": {
        "id": "hLZOSB1ZmC6H"
      },
      "source": [
        "###d. Differences\r\n",
        "Note that the difference operator is not commutative, i.e.\r\n",
        "\r\n",
        "s1 - s2 = s2 - s1"
      ]
    },
    {
      "cell_type": "code",
      "metadata": {
        "id": "5IbfHDA5mBSZ"
      },
      "source": [
        "s1 = {1, 2, 3, 4, 5}\r\n",
        "s2 = {4, 5}"
      ],
      "execution_count": 64,
      "outputs": []
    },
    {
      "cell_type": "code",
      "metadata": {
        "colab": {
          "base_uri": "https://localhost:8080/"
        },
        "id": "9demZFhOmL0w",
        "outputId": "a5c38d65-4faf-4464-f0a5-4a0164b8d0fe"
      },
      "source": [
        "s1 - s2"
      ],
      "execution_count": 65,
      "outputs": [
        {
          "output_type": "execute_result",
          "data": {
            "text/plain": [
              "{1, 2, 3}"
            ]
          },
          "metadata": {
            "tags": []
          },
          "execution_count": 65
        }
      ]
    },
    {
      "cell_type": "code",
      "metadata": {
        "colab": {
          "base_uri": "https://localhost:8080/"
        },
        "id": "H_IpnAkCmNBl",
        "outputId": "a4d4afef-7c3c-4538-951d-5693a90987a6"
      },
      "source": [
        "s1.difference(s2)"
      ],
      "execution_count": 66,
      "outputs": [
        {
          "output_type": "execute_result",
          "data": {
            "text/plain": [
              "{1, 2, 3}"
            ]
          },
          "metadata": {
            "tags": []
          },
          "execution_count": 66
        }
      ]
    },
    {
      "cell_type": "markdown",
      "metadata": {
        "id": "RdRxnrhTmQQ9"
      },
      "source": [
        "###e. Symmetric Difference\r\n",
        "The symmetric difference of two sets results in the difference of the union and the intersection of the two sets:"
      ]
    },
    {
      "cell_type": "code",
      "metadata": {
        "id": "GX4sWqWjmOmt"
      },
      "source": [
        "s1 = {1, 2, 3, 4, 5}\r\n",
        "s2 = {4, 5, 6, 7, 8}"
      ],
      "execution_count": 67,
      "outputs": []
    },
    {
      "cell_type": "code",
      "metadata": {
        "colab": {
          "base_uri": "https://localhost:8080/"
        },
        "id": "UpQkVclVmVAz",
        "outputId": "84b9fa83-8264-4519-ad3d-b3e9128bfb43"
      },
      "source": [
        "s1.symmetric_difference(s2)"
      ],
      "execution_count": 68,
      "outputs": [
        {
          "output_type": "execute_result",
          "data": {
            "text/plain": [
              "{1, 2, 3, 6, 7, 8}"
            ]
          },
          "metadata": {
            "tags": []
          },
          "execution_count": 68
        }
      ]
    },
    {
      "cell_type": "code",
      "metadata": {
        "colab": {
          "base_uri": "https://localhost:8080/"
        },
        "id": "hILRZLIpmWXY",
        "outputId": "cbd566e3-02f9-4b2c-9a72-08daf736af54"
      },
      "source": [
        "(s1 | s2) - (s1 & s2)"
      ],
      "execution_count": 69,
      "outputs": [
        {
          "output_type": "execute_result",
          "data": {
            "text/plain": [
              "{1, 2, 3, 6, 7, 8}"
            ]
          },
          "metadata": {
            "tags": []
          },
          "execution_count": 69
        }
      ]
    },
    {
      "cell_type": "markdown",
      "metadata": {
        "id": "ADMxEhQAmaEs"
      },
      "source": [
        "f. Subsets and Supersets"
      ]
    },
    {
      "cell_type": "code",
      "metadata": {
        "id": "4UhlB8Q9mZIs"
      },
      "source": [
        "s1 = {1, 2, 3}\r\n",
        "s2 = {1, 2, 3}\r\n",
        "s3 = {1, 2, 3, 4}\r\n",
        "s4 = {10, 20, 30}"
      ],
      "execution_count": 70,
      "outputs": []
    },
    {
      "cell_type": "code",
      "metadata": {
        "colab": {
          "base_uri": "https://localhost:8080/"
        },
        "id": "Za-H4VZXmcbA",
        "outputId": "9cc7f8c1-981f-40d0-ecc8-86b6b7f11676"
      },
      "source": [
        "s1.issubset(s2)"
      ],
      "execution_count": 71,
      "outputs": [
        {
          "output_type": "execute_result",
          "data": {
            "text/plain": [
              "True"
            ]
          },
          "metadata": {
            "tags": []
          },
          "execution_count": 71
        }
      ]
    },
    {
      "cell_type": "code",
      "metadata": {
        "colab": {
          "base_uri": "https://localhost:8080/"
        },
        "id": "-s-dIl2UmeNd",
        "outputId": "0e6cb0f1-0224-4248-c6c3-1807c8f0888d"
      },
      "source": [
        "s1 <= s2"
      ],
      "execution_count": 72,
      "outputs": [
        {
          "output_type": "execute_result",
          "data": {
            "text/plain": [
              "True"
            ]
          },
          "metadata": {
            "tags": []
          },
          "execution_count": 72
        }
      ]
    },
    {
      "cell_type": "code",
      "metadata": {
        "colab": {
          "base_uri": "https://localhost:8080/"
        },
        "id": "WJftHyOCmhU5",
        "outputId": "3c60a6f8-7f78-450d-8561-b78eded67d6b"
      },
      "source": [
        "## Proper subset\r\n",
        "s1 < s2"
      ],
      "execution_count": 73,
      "outputs": [
        {
          "output_type": "execute_result",
          "data": {
            "text/plain": [
              "False"
            ]
          },
          "metadata": {
            "tags": []
          },
          "execution_count": 73
        }
      ]
    },
    {
      "cell_type": "code",
      "metadata": {
        "colab": {
          "base_uri": "https://localhost:8080/"
        },
        "id": "PLJvn9UumjDX",
        "outputId": "38519273-a0cf-42c9-be41-8fff597905db"
      },
      "source": [
        "## s1 is a proper subset of s3\r\n",
        "s1 < s3\r\n",
        "  "
      ],
      "execution_count": 74,
      "outputs": [
        {
          "output_type": "execute_result",
          "data": {
            "text/plain": [
              "True"
            ]
          },
          "metadata": {
            "tags": []
          },
          "execution_count": 74
        }
      ]
    },
    {
      "cell_type": "code",
      "metadata": {
        "colab": {
          "base_uri": "https://localhost:8080/"
        },
        "id": "4EuzmmM-mk9d",
        "outputId": "6dd8f22c-b0ef-4dd0-f64a-90e11f46b12f"
      },
      "source": [
        "### Similar tests for superset\r\n",
        "s2.issuperset(s1)"
      ],
      "execution_count": 75,
      "outputs": [
        {
          "output_type": "execute_result",
          "data": {
            "text/plain": [
              "True"
            ]
          },
          "metadata": {
            "tags": []
          },
          "execution_count": 75
        }
      ]
    },
    {
      "cell_type": "code",
      "metadata": {
        "colab": {
          "base_uri": "https://localhost:8080/"
        },
        "id": "lp6hHRS5mms_",
        "outputId": "d7c9ffa4-1e15-4d4a-e178-a625becd31d0"
      },
      "source": [
        "s2 >= s1"
      ],
      "execution_count": 76,
      "outputs": [
        {
          "output_type": "execute_result",
          "data": {
            "text/plain": [
              "True"
            ]
          },
          "metadata": {
            "tags": []
          },
          "execution_count": 76
        }
      ]
    },
    {
      "cell_type": "code",
      "metadata": {
        "colab": {
          "base_uri": "https://localhost:8080/"
        },
        "id": "KjVddf9cmpKY",
        "outputId": "0b552243-ddf3-4522-bf44-aa4ce19efa01"
      },
      "source": [
        "s2 > s1"
      ],
      "execution_count": 77,
      "outputs": [
        {
          "output_type": "execute_result",
          "data": {
            "text/plain": [
              "False"
            ]
          },
          "metadata": {
            "tags": []
          },
          "execution_count": 77
        }
      ]
    }
  ]
}
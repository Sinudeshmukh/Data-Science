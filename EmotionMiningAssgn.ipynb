{
  "nbformat": 4,
  "nbformat_minor": 0,
  "metadata": {
    "colab": {
      "name": "EmotionMiningAssgn.ipynb",
      "provenance": [],
      "authorship_tag": "ABX9TyPzlG5oShiv08ftkS0bQydc",
      "include_colab_link": true
    },
    "kernelspec": {
      "name": "python3",
      "display_name": "Python 3"
    },
    "language_info": {
      "name": "python"
    }
  },
  "cells": [
    {
      "cell_type": "markdown",
      "metadata": {
        "id": "view-in-github",
        "colab_type": "text"
      },
      "source": [
        "<a href=\"https://colab.research.google.com/github/Sinudeshmukh/Data-Science/blob/main/EmotionMiningAssgn.ipynb\" target=\"_parent\"><img src=\"https://colab.research.google.com/assets/colab-badge.svg\" alt=\"Open In Colab\"/></a>"
      ]
    },
    {
      "cell_type": "code",
      "metadata": {
        "id": "CW1gDAwwcNFK"
      },
      "source": [
        "import pandas as pd\n",
        "import numpy as np\n",
        "\n",
        "import matplotlib.pyplot as plt\n",
        "%matplotlib inline\n",
        "import seaborn as sns\n",
        "\n",
        "import string\n",
        "import spacy\n",
        "from wordcloud import WordCloud"
      ],
      "execution_count": null,
      "outputs": []
    },
    {
      "cell_type": "code",
      "metadata": {
        "id": "ylRCLplcfO_P",
        "colab": {
          "base_uri": "https://localhost:8080/"
        },
        "outputId": "aa7750d5-2add-485d-929f-e6181e5b1c0c"
      },
      "source": [
        "reviews = pd.read_csv('Iphone12Reviews.txt',error_bad_lines=False,sep=',',encoding='cp1252')"
      ],
      "execution_count": null,
      "outputs": [
        {
          "output_type": "stream",
          "text": [
            "b'Skipping line 4: expected 1 fields, saw 2\\nSkipping line 10: expected 1 fields, saw 3\\nSkipping line 12: expected 1 fields, saw 5\\nSkipping line 13: expected 1 fields, saw 5\\nSkipping line 15: expected 1 fields, saw 4\\nSkipping line 18: expected 1 fields, saw 3\\nSkipping line 21: expected 1 fields, saw 2\\nSkipping line 23: expected 1 fields, saw 3\\nSkipping line 24: expected 1 fields, saw 2\\nSkipping line 26: expected 1 fields, saw 2\\nSkipping line 27: expected 1 fields, saw 8\\nSkipping line 28: expected 1 fields, saw 2\\nSkipping line 30: expected 1 fields, saw 2\\nSkipping line 32: expected 1 fields, saw 2\\nSkipping line 34: expected 1 fields, saw 2\\nSkipping line 35: expected 1 fields, saw 3\\nSkipping line 39: expected 1 fields, saw 2\\nSkipping line 40: expected 1 fields, saw 2\\nSkipping line 41: expected 1 fields, saw 2\\nSkipping line 42: expected 1 fields, saw 2\\nSkipping line 57: expected 1 fields, saw 3\\nSkipping line 62: expected 1 fields, saw 2\\nSkipping line 63: expected 1 fields, saw 2\\nSkipping line 64: expected 1 fields, saw 2\\nSkipping line 68: expected 1 fields, saw 2\\n'\n"
          ],
          "name": "stderr"
        }
      ]
    },
    {
      "cell_type": "markdown",
      "metadata": {
        "id": "BG46-wPZ1lok"
      },
      "source": [
        "##These are latest reviews of IPhone 12 Pro Max Collected from Amazon"
      ]
    },
    {
      "cell_type": "code",
      "metadata": {
        "colab": {
          "base_uri": "https://localhost:8080/",
          "height": 1000
        },
        "id": "Qxfho1Moxq_W",
        "outputId": "24f2bbde-2a00-4e95-bad5-862720be09d2"
      },
      "source": [
        "reviews"
      ],
      "execution_count": null,
      "outputs": [
        {
          "output_type": "execute_result",
          "data": {
            "text/html": [
              "<div>\n",
              "<style scoped>\n",
              "    .dataframe tbody tr th:only-of-type {\n",
              "        vertical-align: middle;\n",
              "    }\n",
              "\n",
              "    .dataframe tbody tr th {\n",
              "        vertical-align: top;\n",
              "    }\n",
              "\n",
              "    .dataframe thead th {\n",
              "        text-align: right;\n",
              "    }\n",
              "</style>\n",
              "<table border=\"1\" class=\"dataframe\">\n",
              "  <thead>\n",
              "    <tr style=\"text-align: right;\">\n",
              "      <th></th>\n",
              "      <th>x</th>\n",
              "    </tr>\n",
              "  </thead>\n",
              "  <tbody>\n",
              "    <tr>\n",
              "      <th>0</th>\n",
              "      <td>Discount offered by the seller is great... dis...</td>\n",
              "    </tr>\n",
              "    <tr>\n",
              "      <th>1</th>\n",
              "      <td>The best phone I have used . This is my first ...</td>\n",
              "    </tr>\n",
              "    <tr>\n",
              "      <th>2</th>\n",
              "      <td>worst phone ever even nokia is better than thi...</td>\n",
              "    </tr>\n",
              "    <tr>\n",
              "      <th>3</th>\n",
              "      <td>IPhone 12 Pro max is looking so Beautiful</td>\n",
              "    </tr>\n",
              "    <tr>\n",
              "      <th>4</th>\n",
              "      <td>I love this phone...my dream phone....one day ...</td>\n",
              "    </tr>\n",
              "    <tr>\n",
              "      <th>5</th>\n",
              "      <td>Good phone nice price and battery life is good...</td>\n",
              "    </tr>\n",
              "    <tr>\n",
              "      <th>6</th>\n",
              "      <td>Nice product. But charger should be there.</td>\n",
              "    </tr>\n",
              "    <tr>\n",
              "      <th>7</th>\n",
              "      <td>Not recommended. It is a waste of money. Be lo...</td>\n",
              "    </tr>\n",
              "    <tr>\n",
              "      <th>8</th>\n",
              "      <td>Cons: Running out of Kidneys to sell to buy iP...</td>\n",
              "    </tr>\n",
              "    <tr>\n",
              "      <th>9</th>\n",
              "      <td>Make sure to get a decent Screen guard and cle...</td>\n",
              "    </tr>\n",
              "    <tr>\n",
              "      <th>10</th>\n",
              "      <td>Had pre booked this iPhone 12 Pro Max. Amazon ...</td>\n",
              "    </tr>\n",
              "    <tr>\n",
              "      <th>11</th>\n",
              "      <td>Build quality is significantly improved. This ...</td>\n",
              "    </tr>\n",
              "    <tr>\n",
              "      <th>12</th>\n",
              "      <td>The phone does feels premium when one holds it...</td>\n",
              "    </tr>\n",
              "    <tr>\n",
              "      <th>13</th>\n",
              "      <td>I fell like the phone is bit expensive then it...</td>\n",
              "    </tr>\n",
              "    <tr>\n",
              "      <th>14</th>\n",
              "      <td>The phone crashed within 5 days of purchase. A...</td>\n",
              "    </tr>\n",
              "    <tr>\n",
              "      <th>15</th>\n",
              "      <td>Highly recommended business phone. (Security a...</td>\n",
              "    </tr>\n",
              "    <tr>\n",
              "      <th>16</th>\n",
              "      <td>Enough has been said already about this phone....</td>\n",
              "    </tr>\n",
              "    <tr>\n",
              "      <th>17</th>\n",
              "      <td>That 1% of people who are going to buy this ph...</td>\n",
              "    </tr>\n",
              "    <tr>\n",
              "      <th>18</th>\n",
              "      <td>10/10 recommend if you’ve the pocket to afford...</td>\n",
              "    </tr>\n",
              "    <tr>\n",
              "      <th>19</th>\n",
              "      <td>Best iPhone i’ve ever had!!!! ????</td>\n",
              "    </tr>\n",
              "    <tr>\n",
              "      <th>20</th>\n",
              "      <td>It reminds me of my old iPhone 5S.</td>\n",
              "    </tr>\n",
              "    <tr>\n",
              "      <th>21</th>\n",
              "      <td>Amazing machine: beautiful new design: if you ...</td>\n",
              "    </tr>\n",
              "    <tr>\n",
              "      <th>22</th>\n",
              "      <td>Missing lots of feature if you come from Andro...</td>\n",
              "    </tr>\n",
              "    <tr>\n",
              "      <th>23</th>\n",
              "      <td>The simplest review.</td>\n",
              "    </tr>\n",
              "    <tr>\n",
              "      <th>24</th>\n",
              "      <td>I have upgraded from iPhone X. There's nothing...</td>\n",
              "    </tr>\n",
              "    <tr>\n",
              "      <th>25</th>\n",
              "      <td>Great product.</td>\n",
              "    </tr>\n",
              "    <tr>\n",
              "      <th>26</th>\n",
              "      <td>The best phone I have used . This is my first ...</td>\n",
              "    </tr>\n",
              "    <tr>\n",
              "      <th>27</th>\n",
              "      <td>The Best iPhone till date ????</td>\n",
              "    </tr>\n",
              "    <tr>\n",
              "      <th>28</th>\n",
              "      <td>Battery Life is good!</td>\n",
              "    </tr>\n",
              "    <tr>\n",
              "      <th>29</th>\n",
              "      <td>Screen is awesome!!</td>\n",
              "    </tr>\n",
              "    <tr>\n",
              "      <th>30</th>\n",
              "      <td>Cameras are best in the class!</td>\n",
              "    </tr>\n",
              "    <tr>\n",
              "      <th>31</th>\n",
              "      <td>What a grt phone... superfast speed... camera ...</td>\n",
              "    </tr>\n",
              "    <tr>\n",
              "      <th>32</th>\n",
              "      <td>It's Just Mind Blowing</td>\n",
              "    </tr>\n",
              "    <tr>\n",
              "      <th>33</th>\n",
              "      <td>The feel of real old iphone with modren Features</td>\n",
              "    </tr>\n",
              "    <tr>\n",
              "      <th>34</th>\n",
              "      <td>I phone is the best phone</td>\n",
              "    </tr>\n",
              "    <tr>\n",
              "      <th>35</th>\n",
              "      <td>Best battery life dont think about battery lif...</td>\n",
              "    </tr>\n",
              "    <tr>\n",
              "      <th>36</th>\n",
              "      <td>Great phone. Got the Pacific Blue during pre o...</td>\n",
              "    </tr>\n",
              "    <tr>\n",
              "      <th>37</th>\n",
              "      <td>Extremely ultimate product from Apple ... feel...</td>\n",
              "    </tr>\n",
              "    <tr>\n",
              "      <th>38</th>\n",
              "      <td>You won’t regret buying this phone.</td>\n",
              "    </tr>\n",
              "    <tr>\n",
              "      <th>39</th>\n",
              "      <td>Really beast really Value for money.. battery ...</td>\n",
              "    </tr>\n",
              "    <tr>\n",
              "      <th>40</th>\n",
              "      <td>The charm of iPhone to it’s fullest. Camera is...</td>\n",
              "    </tr>\n",
              "    <tr>\n",
              "      <th>41</th>\n",
              "      <td>Good phone delivery on time</td>\n",
              "    </tr>\n",
              "    <tr>\n",
              "      <th>42</th>\n",
              "      <td>A biggie which cant be forgotten</td>\n",
              "    </tr>\n",
              "    <tr>\n",
              "      <th>43</th>\n",
              "      <td>Wonderful phone but very expensive and an abso...</td>\n",
              "    </tr>\n",
              "    <tr>\n",
              "      <th>44</th>\n",
              "      <td>Great product and very timely delivery</td>\n",
              "    </tr>\n",
              "    <tr>\n",
              "      <th>45</th>\n",
              "      <td>IPhone 12 Pro max is looking so Beautiful</td>\n",
              "    </tr>\n",
              "  </tbody>\n",
              "</table>\n",
              "</div>"
            ],
            "text/plain": [
              "                                                    x\n",
              "0   Discount offered by the seller is great... dis...\n",
              "1   The best phone I have used . This is my first ...\n",
              "2   worst phone ever even nokia is better than thi...\n",
              "3           IPhone 12 Pro max is looking so Beautiful\n",
              "4   I love this phone...my dream phone....one day ...\n",
              "5   Good phone nice price and battery life is good...\n",
              "6          Nice product. But charger should be there.\n",
              "7   Not recommended. It is a waste of money. Be lo...\n",
              "8   Cons: Running out of Kidneys to sell to buy iP...\n",
              "9   Make sure to get a decent Screen guard and cle...\n",
              "10  Had pre booked this iPhone 12 Pro Max. Amazon ...\n",
              "11  Build quality is significantly improved. This ...\n",
              "12  The phone does feels premium when one holds it...\n",
              "13  I fell like the phone is bit expensive then it...\n",
              "14  The phone crashed within 5 days of purchase. A...\n",
              "15  Highly recommended business phone. (Security a...\n",
              "16  Enough has been said already about this phone....\n",
              "17  That 1% of people who are going to buy this ph...\n",
              "18  10/10 recommend if you’ve the pocket to afford...\n",
              "19                 Best iPhone i’ve ever had!!!! ????\n",
              "20                 It reminds me of my old iPhone 5S.\n",
              "21  Amazing machine: beautiful new design: if you ...\n",
              "22  Missing lots of feature if you come from Andro...\n",
              "23                               The simplest review.\n",
              "24  I have upgraded from iPhone X. There's nothing...\n",
              "25                                     Great product.\n",
              "26  The best phone I have used . This is my first ...\n",
              "27                     The Best iPhone till date ????\n",
              "28                              Battery Life is good!\n",
              "29                                Screen is awesome!!\n",
              "30                     Cameras are best in the class!\n",
              "31  What a grt phone... superfast speed... camera ...\n",
              "32                             It's Just Mind Blowing\n",
              "33   The feel of real old iphone with modren Features\n",
              "34                          I phone is the best phone\n",
              "35  Best battery life dont think about battery lif...\n",
              "36  Great phone. Got the Pacific Blue during pre o...\n",
              "37  Extremely ultimate product from Apple ... feel...\n",
              "38                You won’t regret buying this phone.\n",
              "39  Really beast really Value for money.. battery ...\n",
              "40  The charm of iPhone to it’s fullest. Camera is...\n",
              "41                        Good phone delivery on time\n",
              "42                   A biggie which cant be forgotten\n",
              "43  Wonderful phone but very expensive and an abso...\n",
              "44             Great product and very timely delivery\n",
              "45          IPhone 12 Pro max is looking so Beautiful"
            ]
          },
          "metadata": {
            "tags": []
          },
          "execution_count": 15
        }
      ]
    },
    {
      "cell_type": "markdown",
      "metadata": {
        "id": "nSiPS4kd0XNX"
      },
      "source": [
        "##Data Cleaning"
      ]
    },
    {
      "cell_type": "code",
      "metadata": {
        "id": "9WDdKAMjyaaT"
      },
      "source": [
        "import re  #regular expression\n",
        "import string"
      ],
      "execution_count": null,
      "outputs": []
    },
    {
      "cell_type": "code",
      "metadata": {
        "id": "iRPBSr940mVN"
      },
      "source": [
        "def clean_data(text):\n",
        "    '''Make text lowercase, remove text in square brackets, remove punctuation and remove words containing numbers.'''\n",
        "    text = text.lower()\n",
        "    text = re.sub('\\[.*?\\]','', text)\n",
        "    text = re.sub('[%s]' % re.escape(string.punctuation), '', text)\n",
        "    text = re.sub('\\w*\\d\\w*', '', text)\n",
        "    text = re.sub(\"[0-9\" \"]+\",\" \",text)\n",
        "    text = re.sub('[‘’“”…]', '', text)\n",
        "    return text\n",
        "\n",
        "clean = lambda x: clean_data(x)"
      ],
      "execution_count": null,
      "outputs": []
    },
    {
      "cell_type": "code",
      "metadata": {
        "id": "UTMOuh1I1VbF"
      },
      "source": [
        "reviews['x'] = reviews.x.apply(clean)"
      ],
      "execution_count": null,
      "outputs": []
    },
    {
      "cell_type": "code",
      "metadata": {
        "colab": {
          "base_uri": "https://localhost:8080/"
        },
        "id": "ru4RwefS1c2x",
        "outputId": "fdb135db-be55-4688-fef7-783edf2eef01"
      },
      "source": [
        "reviews['x']"
      ],
      "execution_count": null,
      "outputs": [
        {
          "output_type": "execute_result",
          "data": {
            "text/plain": [
              "0     discount offered by the seller is great discou...\n",
              "1     the best phone i have used  this is my first i...\n",
              "2     worst phone ever even nokia is better than thi...\n",
              "3               iphone  pro max is looking so beautiful\n",
              "4     i love this phonemy dream phoneone day i buy t...\n",
              "5     good phone nice price and battery life is good...\n",
              "6              nice product but charger should be there\n",
              "7     not recommended it is a waste of money be logi...\n",
              "8     cons running out of kidneys to sell to buy iph...\n",
              "9     make sure to get a decent screen guard and cle...\n",
              "10    had pre booked this iphone  pro max amazon del...\n",
              "11    build quality is significantly improved this d...\n",
              "12    the phone does feels premium when one holds it...\n",
              "13    i fell like the phone is bit expensive then it...\n",
              "14    the phone crashed within  days of purchase and...\n",
              "15    highly recommended business phone security and...\n",
              "16    enough has been said already about this phone ...\n",
              "17    that  of people who are going to buy this phon...\n",
              "18           recommend if youve the pocket to afford it\n",
              "19                            best iphone ive ever had \n",
              "20                      it reminds me of my old iphone \n",
              "21    amazing machine beautiful new design if you ca...\n",
              "22    missing lots of feature if you come from andro...\n",
              "23                                  the simplest review\n",
              "24    i have upgraded from iphone x theres nothing m...\n",
              "25                                        great product\n",
              "26    the best phone i have used  this is my first i...\n",
              "27                           the best iphone till date \n",
              "28                                 battery life is good\n",
              "29                                    screen is awesome\n",
              "30                        cameras are best in the class\n",
              "31    what a grt phone superfast speed camera qualit...\n",
              "32                                its just mind blowing\n",
              "33     the feel of real old iphone with modren features\n",
              "34                            i phone is the best phone\n",
              "35    best battery life dont think about battery lif...\n",
              "36    great phone got the pacific blue during pre or...\n",
              "37    extremely ultimate product from apple  feeling...\n",
              "38                    you wont regret buying this phone\n",
              "39         really beast really value for money battery \n",
              "40    the charm of iphone to its fullest camera is g...\n",
              "41                          good phone delivery on time\n",
              "42                     a biggie which cant be forgotten\n",
              "43    wonderful phone but very expensive and an abso...\n",
              "44               great product and very timely delivery\n",
              "45              iphone  pro max is looking so beautiful\n",
              "Name: x, dtype: object"
            ]
          },
          "metadata": {
            "tags": []
          },
          "execution_count": 19
        }
      ]
    },
    {
      "cell_type": "code",
      "metadata": {
        "id": "l2iKhXuy1gtV"
      },
      "source": [
        "reviews1 = reviews.copy()"
      ],
      "execution_count": null,
      "outputs": []
    },
    {
      "cell_type": "markdown",
      "metadata": {
        "id": "o4_gVy4615WH"
      },
      "source": [
        "###Remove Spaces and empty strings"
      ]
    },
    {
      "cell_type": "code",
      "metadata": {
        "id": "lf0mHUqM13Ab"
      },
      "source": [
        "#remove both the leading and the trailing characters\n",
        "reviews = [x.strip() for x in reviews.x]"
      ],
      "execution_count": null,
      "outputs": []
    },
    {
      "cell_type": "code",
      "metadata": {
        "id": "-ohoAxP02Lt5"
      },
      "source": [
        "# removes empty strings\n",
        "reviews = [x for x in reviews if x]"
      ],
      "execution_count": null,
      "outputs": []
    },
    {
      "cell_type": "code",
      "metadata": {
        "colab": {
          "base_uri": "https://localhost:8080/"
        },
        "id": "s_Hu0BQh2TQS",
        "outputId": "b625a272-ffa8-4d93-87bf-1c8bb3bcb7d3"
      },
      "source": [
        "reviews[0:10]"
      ],
      "execution_count": null,
      "outputs": [
        {
          "output_type": "execute_result",
          "data": {
            "text/plain": [
              "['discount offered by the seller is great discount offered by the seller is great',\n",
              " 'the best phone i have used  this is my first iphone and i never liked iphone  but after getting frustrated with battery life multiple androids  i decided to bit the dust and pay money to buy quality phone  and now that i own it  i dont regret it at all  two days battery with  to  hours on screen time  if used moderately',\n",
              " 'worst phone ever even nokia is better than this  very bad quality does not even start  dont buy',\n",
              " 'iphone  pro max is looking so beautiful',\n",
              " 'i love this phonemy dream phoneone day i buy this phonethis phone is fabulous outstanding phone i need this phone',\n",
              " 'good phone nice price and battery life is good nice quality device and nice ios quality good performance and good features',\n",
              " 'nice product but charger should be there',\n",
              " 'not recommended it is a waste of money be logical enough to make a call on this',\n",
              " 'cons running out of kidneys to sell to buy iphones in india',\n",
              " 'make sure to get a decent screen guard and clear case just to safeguard this beauty']"
            ]
          },
          "metadata": {
            "tags": []
          },
          "execution_count": 24
        }
      ]
    },
    {
      "cell_type": "code",
      "metadata": {
        "colab": {
          "base_uri": "https://localhost:8080/",
          "height": 171
        },
        "id": "_TipSI6x3gIW",
        "outputId": "d7ffbd7d-f768-42ca-af3c-4b5936449589"
      },
      "source": [
        "#Joining the list into one string\n",
        "allreviews = ' '.join(reviews)\n",
        "allreviews"
      ],
      "execution_count": null,
      "outputs": [
        {
          "output_type": "execute_result",
          "data": {
            "application/vnd.google.colaboratory.intrinsic+json": {
              "type": "string"
            },
            "text/plain": [
              "'discount offered by the seller is great discount offered by the seller is great the best phone i have used  this is my first iphone and i never liked iphone  but after getting frustrated with battery life multiple androids  i decided to bit the dust and pay money to buy quality phone  and now that i own it  i dont regret it at all  two days battery with  to  hours on screen time  if used moderately worst phone ever even nokia is better than this  very bad quality does not even start  dont buy iphone  pro max is looking so beautiful i love this phonemy dream phoneone day i buy this phonethis phone is fabulous outstanding phone i need this phone good phone nice price and battery life is good nice quality device and nice ios quality good performance and good features nice product but charger should be there not recommended it is a waste of money be logical enough to make a call on this cons running out of kidneys to sell to buy iphones in india make sure to get a decent screen guard and clear case just to safeguard this beauty had pre booked this iphone  pro max amazon delivered it promptly within four days of launch kudos to thisclightening fast delivery build quality is significantly improved this design which apple brought back from iphone  series is absolutely lovely these two factors give it a classy and stylish look combined with solid and durable finish the phone does feels premium when one holds it all the more reasons to go gaga about this pretty beast i fell like the phone is bit expensive then it really should be but its an apple what can you say thay always one step ahead from ther competitors in terms of pricingthay also took the charger this time to making more profit out of itless carbon footprint my assbut honestly saying accept the price the phone look nice and also fill good in hand not so heavy as i thought display is nice but not as nice as oneplus flagship models in terms of performance and camera quality iphone still batter then any other phone that available in the market the phone crashed within  days of purchase and is lying dead ever since highly recommended business phone security and privacy feature enough has been said already about this phone there are several reviews out there to help you decide whether or not to get this phone that  of people who are going to buy this phone will get their moneys worth over a considerable amount of time recommend if youve the pocket to afford it best iphone ive ever had it reminds me of my old iphone amazing machine beautiful new design if you can afford then go for it as it gives you a feel of super phone missing lots of feature if you come from android otherwise good the simplest review i have upgraded from iphone x theres nothing much you can ask for this phone does it all and its a beast the screen size slightly felt big for a day or two but i got used to it camera on this phone is something which really stands out and also the battery is very good easily i get  hrs of screen on time if budget is not a problem it is better to get the pro max than pro variant overall its a great upgrade great product the best phone i have used  this is my first iphone and i never liked iphone  but after getting frustrated with battery life multiple androids  i decided to bit the dust and pay money to buy quality phone  and now that i own it  i dont regret it at all  two days battery with  to  hours on screen time  if used moderately the best iphone till date battery life is good screen is awesome cameras are best in the class what a grt phone superfast speed camera quality is grt its just mind blowing the feel of real old iphone with modren features i phone is the best phone best battery life dont think about battery life suprb price is to high but this phone know as bapp of all phones great phone got the pacific blue during pre order its a little big to hold with one hand and heavy extremely ultimate product from apple  feeling outstanding you wont regret buying this phone really beast really value for money battery the charm of iphone to its fullest camera is great and this build quality feels so premium good phone delivery on time a biggie which cant be forgotten wonderful phone but very expensive and an absolutely brilliant camera great product and very timely delivery iphone  pro max is looking so beautiful'"
            ]
          },
          "metadata": {
            "tags": []
          },
          "execution_count": 25
        }
      ]
    },
    {
      "cell_type": "markdown",
      "metadata": {
        "id": "5rv0EwfG2hGJ"
      },
      "source": [
        "###Part of Speech Tagging"
      ]
    },
    {
      "cell_type": "code",
      "metadata": {
        "colab": {
          "base_uri": "https://localhost:8080/",
          "height": 1000
        },
        "id": "FlpEg4v32ZOj",
        "outputId": "a32a78bb-8dc3-48f0-d7cb-b4aa981a79b5"
      },
      "source": [
        "nlp = spacy.load('en_core_web_sm')\n",
        "\n",
        "allreviews1 = nlp(allreviews)\n",
        "spacy.displacy.render(allreviews1,style='ent',jupyter=True)"
      ],
      "execution_count": null,
      "outputs": [
        {
          "output_type": "display_data",
          "data": {
            "text/html": [
              "<span class=\"tex2jax_ignore\"><div class=\"entities\" style=\"line-height: 2.5; direction: ltr\">discount offered by the seller is great discount offered by the seller is great the best phone i have used  this is my \n",
              "<mark class=\"entity\" style=\"background: #e4e7d2; padding: 0.45em 0.6em; margin: 0 0.25em; line-height: 1; border-radius: 0.35em;\">\n",
              "    first\n",
              "    <span style=\"font-size: 0.8em; font-weight: bold; line-height: 1; border-radius: 0.35em; text-transform: uppercase; vertical-align: middle; margin-left: 0.5rem\">ORDINAL</span>\n",
              "</mark>\n",
              " iphone and i never liked iphone  but after getting frustrated with battery life multiple androids  i decided to bit the dust and pay money to buy quality phone  and now that i own it  i dont regret it at all  \n",
              "<mark class=\"entity\" style=\"background: #bfe1d9; padding: 0.45em 0.6em; margin: 0 0.25em; line-height: 1; border-radius: 0.35em;\">\n",
              "    two days\n",
              "    <span style=\"font-size: 0.8em; font-weight: bold; line-height: 1; border-radius: 0.35em; text-transform: uppercase; vertical-align: middle; margin-left: 0.5rem\">DATE</span>\n",
              "</mark>\n",
              " battery with  to  hours on screen time  if used moderately worst phone ever even nokia is better than this  very bad quality does not even start  dont buy iphone  pro max is looking so beautiful i love this phonemy dream phoneone day i buy this phonethis phone is fabulous outstanding phone i need this phone good phone nice price and battery life is good nice quality device and nice \n",
              "<mark class=\"entity\" style=\"background: #7aecec; padding: 0.45em 0.6em; margin: 0 0.25em; line-height: 1; border-radius: 0.35em;\">\n",
              "    ios\n",
              "    <span style=\"font-size: 0.8em; font-weight: bold; line-height: 1; border-radius: 0.35em; text-transform: uppercase; vertical-align: middle; margin-left: 0.5rem\">ORG</span>\n",
              "</mark>\n",
              " quality good performance and good features nice product but charger should be there not recommended it is a waste of money be logical enough to make a call on this cons running out of kidneys to sell to buy iphones in \n",
              "<mark class=\"entity\" style=\"background: #feca74; padding: 0.45em 0.6em; margin: 0 0.25em; line-height: 1; border-radius: 0.35em;\">\n",
              "    india\n",
              "    <span style=\"font-size: 0.8em; font-weight: bold; line-height: 1; border-radius: 0.35em; text-transform: uppercase; vertical-align: middle; margin-left: 0.5rem\">GPE</span>\n",
              "</mark>\n",
              " make sure to get a decent screen guard and clear case just to safeguard this beauty had pre booked this iphone  \n",
              "<mark class=\"entity\" style=\"background: #aa9cfc; padding: 0.45em 0.6em; margin: 0 0.25em; line-height: 1; border-radius: 0.35em;\">\n",
              "    pro max amazon\n",
              "    <span style=\"font-size: 0.8em; font-weight: bold; line-height: 1; border-radius: 0.35em; text-transform: uppercase; vertical-align: middle; margin-left: 0.5rem\">PERSON</span>\n",
              "</mark>\n",
              " delivered it promptly within \n",
              "<mark class=\"entity\" style=\"background: #bfe1d9; padding: 0.45em 0.6em; margin: 0 0.25em; line-height: 1; border-radius: 0.35em;\">\n",
              "    four days\n",
              "    <span style=\"font-size: 0.8em; font-weight: bold; line-height: 1; border-radius: 0.35em; text-transform: uppercase; vertical-align: middle; margin-left: 0.5rem\">DATE</span>\n",
              "</mark>\n",
              " of launch kudos to thisclightening fast delivery build quality is significantly improved this design which \n",
              "<mark class=\"entity\" style=\"background: #7aecec; padding: 0.45em 0.6em; margin: 0 0.25em; line-height: 1; border-radius: 0.35em;\">\n",
              "    apple\n",
              "    <span style=\"font-size: 0.8em; font-weight: bold; line-height: 1; border-radius: 0.35em; text-transform: uppercase; vertical-align: middle; margin-left: 0.5rem\">ORG</span>\n",
              "</mark>\n",
              " brought back from iphone  series is absolutely lovely these \n",
              "<mark class=\"entity\" style=\"background: #e4e7d2; padding: 0.45em 0.6em; margin: 0 0.25em; line-height: 1; border-radius: 0.35em;\">\n",
              "    two\n",
              "    <span style=\"font-size: 0.8em; font-weight: bold; line-height: 1; border-radius: 0.35em; text-transform: uppercase; vertical-align: middle; margin-left: 0.5rem\">CARDINAL</span>\n",
              "</mark>\n",
              " factors give it a classy and stylish look combined with solid and durable finish the phone does feels premium when one holds it all the more reasons to go gaga about this pretty beast i fell like the phone is bit expensive then it really should be but its an apple what can you say thay always \n",
              "<mark class=\"entity\" style=\"background: #e4e7d2; padding: 0.45em 0.6em; margin: 0 0.25em; line-height: 1; border-radius: 0.35em;\">\n",
              "    one\n",
              "    <span style=\"font-size: 0.8em; font-weight: bold; line-height: 1; border-radius: 0.35em; text-transform: uppercase; vertical-align: middle; margin-left: 0.5rem\">CARDINAL</span>\n",
              "</mark>\n",
              " step ahead from ther competitors in terms of pricingthay also took the charger this time to making more profit out of itless carbon footprint my assbut honestly saying accept the price the phone look nice and also fill good in hand not so heavy as i thought display is nice but not as nice as oneplus flagship models in terms of performance and camera quality iphone still batter then any other phone that available in the market the phone crashed within  days of purchase and is lying dead ever since highly recommended business phone security and privacy feature enough has been said already about this phone there are several reviews out there to help you decide whether or not to get this phone that  of people who are going to buy this phone will get their moneys worth over a considerable amount of time recommend if youve the pocket to afford it best iphone ive ever had it reminds me of my old iphone amazing machine beautiful new design if you can afford then go for it as it gives you a feel of super phone missing lots of feature if you come from android otherwise good the simplest review i have upgraded from iphone x theres nothing much you can ask for this phone does it all and its a beast the screen size slightly felt big for a \n",
              "<mark class=\"entity\" style=\"background: #bfe1d9; padding: 0.45em 0.6em; margin: 0 0.25em; line-height: 1; border-radius: 0.35em;\">\n",
              "    day\n",
              "    <span style=\"font-size: 0.8em; font-weight: bold; line-height: 1; border-radius: 0.35em; text-transform: uppercase; vertical-align: middle; margin-left: 0.5rem\">DATE</span>\n",
              "</mark>\n",
              " or \n",
              "<mark class=\"entity\" style=\"background: #e4e7d2; padding: 0.45em 0.6em; margin: 0 0.25em; line-height: 1; border-radius: 0.35em;\">\n",
              "    two\n",
              "    <span style=\"font-size: 0.8em; font-weight: bold; line-height: 1; border-radius: 0.35em; text-transform: uppercase; vertical-align: middle; margin-left: 0.5rem\">CARDINAL</span>\n",
              "</mark>\n",
              " but i got used to it camera on this phone is something which really stands out and also the battery is very good easily i get  hrs of screen on time if budget is not a problem it is better to get the pro max than pro variant overall its a great upgrade great product the best phone i have used  this is my \n",
              "<mark class=\"entity\" style=\"background: #e4e7d2; padding: 0.45em 0.6em; margin: 0 0.25em; line-height: 1; border-radius: 0.35em;\">\n",
              "    first\n",
              "    <span style=\"font-size: 0.8em; font-weight: bold; line-height: 1; border-radius: 0.35em; text-transform: uppercase; vertical-align: middle; margin-left: 0.5rem\">ORDINAL</span>\n",
              "</mark>\n",
              " iphone and i never liked iphone  but after getting frustrated with battery life multiple androids  i decided to bit the dust and pay money to buy quality phone  and now that i own it  i dont regret it at all  \n",
              "<mark class=\"entity\" style=\"background: #bfe1d9; padding: 0.45em 0.6em; margin: 0 0.25em; line-height: 1; border-radius: 0.35em;\">\n",
              "    two days\n",
              "    <span style=\"font-size: 0.8em; font-weight: bold; line-height: 1; border-radius: 0.35em; text-transform: uppercase; vertical-align: middle; margin-left: 0.5rem\">DATE</span>\n",
              "</mark>\n",
              " battery with  to  hours on screen time  if used moderately the best iphone till date battery life is good screen is awesome cameras are best in the class what a grt phone superfast speed camera quality is grt its just mind blowing the feel of real old iphone with modren features i phone is the best phone best battery life dont think about battery life suprb price is to high but this phone know as bapp of all phones great phone got the pacific blue during pre order its a little big to hold with \n",
              "<mark class=\"entity\" style=\"background: #e4e7d2; padding: 0.45em 0.6em; margin: 0 0.25em; line-height: 1; border-radius: 0.35em;\">\n",
              "    one\n",
              "    <span style=\"font-size: 0.8em; font-weight: bold; line-height: 1; border-radius: 0.35em; text-transform: uppercase; vertical-align: middle; margin-left: 0.5rem\">CARDINAL</span>\n",
              "</mark>\n",
              " hand and heavy extremely ultimate product from apple  feeling outstanding you wont regret buying this phone really beast really value for money battery the charm of iphone to its fullest camera is great and this build quality feels so premium good phone delivery on time a biggie which cant be forgotten wonderful phone but very expensive and an absolutely brilliant camera great product and very timely delivery iphone  \n",
              "<mark class=\"entity\" style=\"background: #aa9cfc; padding: 0.45em 0.6em; margin: 0 0.25em; line-height: 1; border-radius: 0.35em;\">\n",
              "    pro max\n",
              "    <span style=\"font-size: 0.8em; font-weight: bold; line-height: 1; border-radius: 0.35em; text-transform: uppercase; vertical-align: middle; margin-left: 0.5rem\">PERSON</span>\n",
              "</mark>\n",
              " is looking so beautiful</div></span>"
            ],
            "text/plain": [
              "<IPython.core.display.HTML object>"
            ]
          },
          "metadata": {
            "tags": []
          }
        }
      ]
    },
    {
      "cell_type": "code",
      "metadata": {
        "colab": {
          "base_uri": "https://localhost:8080/"
        },
        "id": "xbIA6apI3_3S",
        "outputId": "09da8106-1319-41a1-9de6-cb24d8bd481c"
      },
      "source": [
        "#tokenization\n",
        "for token in allreviews1[0:50]:\n",
        "  print(token,token.pos_)"
      ],
      "execution_count": null,
      "outputs": [
        {
          "output_type": "stream",
          "text": [
            "discount NOUN\n",
            "offered VERB\n",
            "by ADP\n",
            "the DET\n",
            "seller NOUN\n",
            "is AUX\n",
            "great ADJ\n",
            "discount NOUN\n",
            "offered VERB\n",
            "by ADP\n",
            "the DET\n",
            "seller NOUN\n",
            "is AUX\n",
            "great ADJ\n",
            "the DET\n",
            "best ADJ\n",
            "phone NOUN\n",
            "i PRON\n",
            "have AUX\n",
            "used VERB\n",
            "  SPACE\n",
            "this DET\n",
            "is AUX\n",
            "my DET\n",
            "first ADJ\n",
            "iphone NOUN\n",
            "and CCONJ\n",
            "i PRON\n",
            "never ADV\n",
            "liked VERB\n",
            "iphone PROPN\n",
            "  SPACE\n",
            "but CCONJ\n",
            "after ADP\n",
            "getting VERB\n",
            "frustrated VERB\n",
            "with ADP\n",
            "battery NOUN\n",
            "life NOUN\n",
            "multiple ADJ\n",
            "androids VERB\n",
            "  SPACE\n",
            "i PRON\n",
            "decided VERB\n",
            "to PART\n",
            "bit VERB\n",
            "the DET\n",
            "dust NOUN\n",
            "and CCONJ\n",
            "pay VERB\n"
          ],
          "name": "stdout"
        }
      ]
    },
    {
      "cell_type": "code",
      "metadata": {
        "colab": {
          "base_uri": "https://localhost:8080/"
        },
        "id": "gkSSnMMq4bva",
        "outputId": "64563315-93be-4d3f-f17f-b35e85af80f0"
      },
      "source": [
        "#Filtering for nouns and verbs only\n",
        "noun_vrbs = [token.text for token in allreviews1 if token.pos_ in ('NOUN','VERB')]\n",
        "print(noun_vrbs[0:20])"
      ],
      "execution_count": null,
      "outputs": [
        {
          "output_type": "stream",
          "text": [
            "['discount', 'offered', 'seller', 'discount', 'offered', 'seller', 'phone', 'used', 'iphone', 'liked', 'getting', 'frustrated', 'battery', 'life', 'androids', 'decided', 'bit', 'dust', 'pay', 'money']\n"
          ],
          "name": "stdout"
        }
      ]
    },
    {
      "cell_type": "markdown",
      "metadata": {
        "id": "YM4YAu5W5eTe"
      },
      "source": [
        "###Counting Tokens"
      ]
    },
    {
      "cell_type": "code",
      "metadata": {
        "id": "CH4aqoFh5MkH"
      },
      "source": [
        "from sklearn.feature_extraction.text import CountVectorizer\n",
        "cv = CountVectorizer()"
      ],
      "execution_count": null,
      "outputs": []
    },
    {
      "cell_type": "code",
      "metadata": {
        "colab": {
          "base_uri": "https://localhost:8080/",
          "height": 359
        },
        "id": "RkC6YSdR5mRc",
        "outputId": "81aa8a83-0636-42ed-e710-26f2099b6ca2"
      },
      "source": [
        "X = cv.fit_transform(noun_vrbs)\n",
        "sum_words = X.sum(axis=0)\n",
        "words_freq = [(word, sum_words[0, idx]) for word, idx in cv.vocabulary_.items()]\n",
        "words_freq =sorted(words_freq, key = lambda x: x[1], reverse=True)\n",
        "wf_df = pd.DataFrame(words_freq)\n",
        "wf_df.columns = ['word', 'count']\n",
        "\n",
        "wf_df[0:10]"
      ],
      "execution_count": null,
      "outputs": [
        {
          "output_type": "execute_result",
          "data": {
            "text/html": [
              "<div>\n",
              "<style scoped>\n",
              "    .dataframe tbody tr th:only-of-type {\n",
              "        vertical-align: middle;\n",
              "    }\n",
              "\n",
              "    .dataframe tbody tr th {\n",
              "        vertical-align: top;\n",
              "    }\n",
              "\n",
              "    .dataframe thead th {\n",
              "        text-align: right;\n",
              "    }\n",
              "</style>\n",
              "<table border=\"1\" class=\"dataframe\">\n",
              "  <thead>\n",
              "    <tr style=\"text-align: right;\">\n",
              "      <th></th>\n",
              "      <th>word</th>\n",
              "      <th>count</th>\n",
              "    </tr>\n",
              "  </thead>\n",
              "  <tbody>\n",
              "    <tr>\n",
              "      <th>0</th>\n",
              "      <td>phone</td>\n",
              "      <td>29</td>\n",
              "    </tr>\n",
              "    <tr>\n",
              "      <th>1</th>\n",
              "      <td>battery</td>\n",
              "      <td>10</td>\n",
              "    </tr>\n",
              "    <tr>\n",
              "      <th>2</th>\n",
              "      <td>quality</td>\n",
              "      <td>9</td>\n",
              "    </tr>\n",
              "    <tr>\n",
              "      <th>3</th>\n",
              "      <td>iphone</td>\n",
              "      <td>8</td>\n",
              "    </tr>\n",
              "    <tr>\n",
              "      <th>4</th>\n",
              "      <td>life</td>\n",
              "      <td>6</td>\n",
              "    </tr>\n",
              "    <tr>\n",
              "      <th>5</th>\n",
              "      <td>buy</td>\n",
              "      <td>6</td>\n",
              "    </tr>\n",
              "    <tr>\n",
              "      <th>6</th>\n",
              "      <td>screen</td>\n",
              "      <td>6</td>\n",
              "    </tr>\n",
              "    <tr>\n",
              "      <th>7</th>\n",
              "      <td>time</td>\n",
              "      <td>6</td>\n",
              "    </tr>\n",
              "    <tr>\n",
              "      <th>8</th>\n",
              "      <td>used</td>\n",
              "      <td>5</td>\n",
              "    </tr>\n",
              "    <tr>\n",
              "      <th>9</th>\n",
              "      <td>camera</td>\n",
              "      <td>5</td>\n",
              "    </tr>\n",
              "  </tbody>\n",
              "</table>\n",
              "</div>"
            ],
            "text/plain": [
              "      word  count\n",
              "0    phone     29\n",
              "1  battery     10\n",
              "2  quality      9\n",
              "3   iphone      8\n",
              "4     life      6\n",
              "5      buy      6\n",
              "6   screen      6\n",
              "7     time      6\n",
              "8     used      5\n",
              "9   camera      5"
            ]
          },
          "metadata": {
            "tags": []
          },
          "execution_count": 35
        }
      ]
    },
    {
      "cell_type": "code",
      "metadata": {
        "colab": {
          "base_uri": "https://localhost:8080/",
          "height": 552
        },
        "id": "4og8NbHY5nui",
        "outputId": "eb3a5d9a-dd5c-442e-e421-ae7934c752bc"
      },
      "source": [
        "#Barchart for top 10 nouns + verbs\n",
        "wf_df[0:10].plot.bar(x='word', figsize=(20,10), title='Top Nouns and Verbs')"
      ],
      "execution_count": null,
      "outputs": [
        {
          "output_type": "execute_result",
          "data": {
            "text/plain": [
              "<matplotlib.axes._subplots.AxesSubplot at 0x7f0df4770f10>"
            ]
          },
          "metadata": {
            "tags": []
          },
          "execution_count": 37
        },
        {
          "output_type": "display_data",
          "data": {
            "image/png": "[encoded data removed]",
            "text/plain": [
              "<Figure size 1440x720 with 1 Axes>"
            ]
          },
          "metadata": {
            "tags": [],
            "needs_background": "light"
          }
        }
      ]
    },
    {
      "cell_type": "markdown",
      "metadata": {
        "id": "WA9mgMXK6D51"
      },
      "source": [
        "#Emotion Mining"
      ]
    },
    {
      "cell_type": "code",
      "metadata": {
        "id": "MklcF6hA59cs"
      },
      "source": [
        "afinn = pd.read_csv('Afinn.csv',sep=',',encoding='cp1252')"
      ],
      "execution_count": null,
      "outputs": []
    },
    {
      "cell_type": "code",
      "metadata": {
        "colab": {
          "base_uri": "https://localhost:8080/",
          "height": 419
        },
        "id": "ADC5tl7FGHiE",
        "outputId": "899bd2fe-9f3b-471b-969e-616847a820d3"
      },
      "source": [
        "afinn"
      ],
      "execution_count": null,
      "outputs": [
        {
          "output_type": "execute_result",
          "data": {
            "text/html": [
              "<div>\n",
              "<style scoped>\n",
              "    .dataframe tbody tr th:only-of-type {\n",
              "        vertical-align: middle;\n",
              "    }\n",
              "\n",
              "    .dataframe tbody tr th {\n",
              "        vertical-align: top;\n",
              "    }\n",
              "\n",
              "    .dataframe thead th {\n",
              "        text-align: right;\n",
              "    }\n",
              "</style>\n",
              "<table border=\"1\" class=\"dataframe\">\n",
              "  <thead>\n",
              "    <tr style=\"text-align: right;\">\n",
              "      <th></th>\n",
              "      <th>word</th>\n",
              "      <th>value</th>\n",
              "    </tr>\n",
              "  </thead>\n",
              "  <tbody>\n",
              "    <tr>\n",
              "      <th>0</th>\n",
              "      <td>abandon</td>\n",
              "      <td>-2</td>\n",
              "    </tr>\n",
              "    <tr>\n",
              "      <th>1</th>\n",
              "      <td>abandoned</td>\n",
              "      <td>-2</td>\n",
              "    </tr>\n",
              "    <tr>\n",
              "      <th>2</th>\n",
              "      <td>abandons</td>\n",
              "      <td>-2</td>\n",
              "    </tr>\n",
              "    <tr>\n",
              "      <th>3</th>\n",
              "      <td>abducted</td>\n",
              "      <td>-2</td>\n",
              "    </tr>\n",
              "    <tr>\n",
              "      <th>4</th>\n",
              "      <td>abduction</td>\n",
              "      <td>-2</td>\n",
              "    </tr>\n",
              "    <tr>\n",
              "      <th>...</th>\n",
              "      <td>...</td>\n",
              "      <td>...</td>\n",
              "    </tr>\n",
              "    <tr>\n",
              "      <th>2472</th>\n",
              "      <td>yucky</td>\n",
              "      <td>-2</td>\n",
              "    </tr>\n",
              "    <tr>\n",
              "      <th>2473</th>\n",
              "      <td>yummy</td>\n",
              "      <td>3</td>\n",
              "    </tr>\n",
              "    <tr>\n",
              "      <th>2474</th>\n",
              "      <td>zealot</td>\n",
              "      <td>-2</td>\n",
              "    </tr>\n",
              "    <tr>\n",
              "      <th>2475</th>\n",
              "      <td>zealots</td>\n",
              "      <td>-2</td>\n",
              "    </tr>\n",
              "    <tr>\n",
              "      <th>2476</th>\n",
              "      <td>zealous</td>\n",
              "      <td>2</td>\n",
              "    </tr>\n",
              "  </tbody>\n",
              "</table>\n",
              "<p>2477 rows × 2 columns</p>\n",
              "</div>"
            ],
            "text/plain": [
              "           word  value\n",
              "0       abandon     -2\n",
              "1     abandoned     -2\n",
              "2      abandons     -2\n",
              "3      abducted     -2\n",
              "4     abduction     -2\n",
              "...         ...    ...\n",
              "2472      yucky     -2\n",
              "2473      yummy      3\n",
              "2474     zealot     -2\n",
              "2475    zealots     -2\n",
              "2476    zealous      2\n",
              "\n",
              "[2477 rows x 2 columns]"
            ]
          },
          "metadata": {
            "tags": []
          },
          "execution_count": 42
        }
      ]
    },
    {
      "cell_type": "code",
      "metadata": {
        "colab": {
          "base_uri": "https://localhost:8080/"
        },
        "id": "z6zgKDrdGWZF",
        "outputId": "36325521-42e8-445d-fb8d-00c099acdeae"
      },
      "source": [
        "import nltk\n",
        "nltk.download('punkt')"
      ],
      "execution_count": null,
      "outputs": [
        {
          "output_type": "stream",
          "text": [
            "[nltk_data] Downloading package punkt to /root/nltk_data...\n",
            "[nltk_data]   Unzipping tokenizers/punkt.zip.\n"
          ],
          "name": "stdout"
        },
        {
          "output_type": "execute_result",
          "data": {
            "text/plain": [
              "True"
            ]
          },
          "metadata": {
            "tags": []
          },
          "execution_count": 43
        }
      ]
    },
    {
      "cell_type": "code",
      "metadata": {
        "id": "EcnH32WDGt9j"
      },
      "source": [
        "from nltk import tokenize\n",
        "sentence = tokenize.sent_tokenize(\" \".join(reviews))"
      ],
      "execution_count": null,
      "outputs": []
    },
    {
      "cell_type": "code",
      "metadata": {
        "colab": {
          "base_uri": "https://localhost:8080/"
        },
        "id": "A5QAXc7KHTqI",
        "outputId": "175a9646-baaf-4d72-8251-87a6831d2fdc"
      },
      "source": [
        "sentence[0:10]"
      ],
      "execution_count": null,
      "outputs": [
        {
          "output_type": "execute_result",
          "data": {
            "text/plain": [
              "['discount offered by the seller is great discount offered by the seller is great the best phone i have used  this is my first iphone and i never liked iphone  but after getting frustrated with battery life multiple androids  i decided to bit the dust and pay money to buy quality phone  and now that i own it  i dont regret it at all  two days battery with  to  hours on screen time  if used moderately worst phone ever even nokia is better than this  very bad quality does not even start  dont buy iphone  pro max is looking so beautiful i love this phonemy dream phoneone day i buy this phonethis phone is fabulous outstanding phone i need this phone good phone nice price and battery life is good nice quality device and nice ios quality good performance and good features nice product but charger should be there not recommended it is a waste of money be logical enough to make a call on this cons running out of kidneys to sell to buy iphones in india make sure to get a decent screen guard and clear case just to safeguard this beauty had pre booked this iphone  pro max amazon delivered it promptly within four days of launch kudos to thisclightening fast delivery build quality is significantly improved this design which apple brought back from iphone  series is absolutely lovely these two factors give it a classy and stylish look combined with solid and durable finish the phone does feels premium when one holds it all the more reasons to go gaga about this pretty beast i fell like the phone is bit expensive then it really should be but its an apple what can you say thay always one step ahead from ther competitors in terms of pricingthay also took the charger this time to making more profit out of itless carbon footprint my assbut honestly saying accept the price the phone look nice and also fill good in hand not so heavy as i thought display is nice but not as nice as oneplus flagship models in terms of performance and camera quality iphone still batter then any other phone that available in the market the phone crashed within  days of purchase and is lying dead ever since highly recommended business phone security and privacy feature enough has been said already about this phone there are several reviews out there to help you decide whether or not to get this phone that  of people who are going to buy this phone will get their moneys worth over a considerable amount of time recommend if youve the pocket to afford it best iphone ive ever had it reminds me of my old iphone amazing machine beautiful new design if you can afford then go for it as it gives you a feel of super phone missing lots of feature if you come from android otherwise good the simplest review i have upgraded from iphone x theres nothing much you can ask for this phone does it all and its a beast the screen size slightly felt big for a day or two but i got used to it camera on this phone is something which really stands out and also the battery is very good easily i get  hrs of screen on time if budget is not a problem it is better to get the pro max than pro variant overall its a great upgrade great product the best phone i have used  this is my first iphone and i never liked iphone  but after getting frustrated with battery life multiple androids  i decided to bit the dust and pay money to buy quality phone  and now that i own it  i dont regret it at all  two days battery with  to  hours on screen time  if used moderately the best iphone till date battery life is good screen is awesome cameras are best in the class what a grt phone superfast speed camera quality is grt its just mind blowing the feel of real old iphone with modren features i phone is the best phone best battery life dont think about battery life suprb price is to high but this phone know as bapp of all phones great phone got the pacific blue during pre order its a little big to hold with one hand and heavy extremely ultimate product from apple  feeling outstanding you wont regret buying this phone really beast really value for money battery the charm of iphone to its fullest camera is great and this build quality feels so premium good phone delivery on time a biggie which cant be forgotten wonderful phone but very expensive and an absolutely brilliant camera great product and very timely delivery iphone  pro max is looking so beautiful']"
            ]
          },
          "metadata": {
            "tags": []
          },
          "execution_count": 45
        }
      ]
    },
    {
      "cell_type": "code",
      "metadata": {
        "colab": {
          "base_uri": "https://localhost:8080/",
          "height": 1000
        },
        "id": "9PfL0S0DHWA_",
        "outputId": "6b087ceb-a33f-4663-cd45-3e9758d439cd"
      },
      "source": [
        "reviews1"
      ],
      "execution_count": null,
      "outputs": [
        {
          "output_type": "execute_result",
          "data": {
            "text/html": [
              "<div>\n",
              "<style scoped>\n",
              "    .dataframe tbody tr th:only-of-type {\n",
              "        vertical-align: middle;\n",
              "    }\n",
              "\n",
              "    .dataframe tbody tr th {\n",
              "        vertical-align: top;\n",
              "    }\n",
              "\n",
              "    .dataframe thead th {\n",
              "        text-align: right;\n",
              "    }\n",
              "</style>\n",
              "<table border=\"1\" class=\"dataframe\">\n",
              "  <thead>\n",
              "    <tr style=\"text-align: right;\">\n",
              "      <th></th>\n",
              "      <th>x</th>\n",
              "    </tr>\n",
              "  </thead>\n",
              "  <tbody>\n",
              "    <tr>\n",
              "      <th>0</th>\n",
              "      <td>discount offered by the seller is great discou...</td>\n",
              "    </tr>\n",
              "    <tr>\n",
              "      <th>1</th>\n",
              "      <td>the best phone i have used  this is my first i...</td>\n",
              "    </tr>\n",
              "    <tr>\n",
              "      <th>2</th>\n",
              "      <td>worst phone ever even nokia is better than thi...</td>\n",
              "    </tr>\n",
              "    <tr>\n",
              "      <th>3</th>\n",
              "      <td>iphone  pro max is looking so beautiful</td>\n",
              "    </tr>\n",
              "    <tr>\n",
              "      <th>4</th>\n",
              "      <td>i love this phonemy dream phoneone day i buy t...</td>\n",
              "    </tr>\n",
              "    <tr>\n",
              "      <th>5</th>\n",
              "      <td>good phone nice price and battery life is good...</td>\n",
              "    </tr>\n",
              "    <tr>\n",
              "      <th>6</th>\n",
              "      <td>nice product but charger should be there</td>\n",
              "    </tr>\n",
              "    <tr>\n",
              "      <th>7</th>\n",
              "      <td>not recommended it is a waste of money be logi...</td>\n",
              "    </tr>\n",
              "    <tr>\n",
              "      <th>8</th>\n",
              "      <td>cons running out of kidneys to sell to buy iph...</td>\n",
              "    </tr>\n",
              "    <tr>\n",
              "      <th>9</th>\n",
              "      <td>make sure to get a decent screen guard and cle...</td>\n",
              "    </tr>\n",
              "    <tr>\n",
              "      <th>10</th>\n",
              "      <td>had pre booked this iphone  pro max amazon del...</td>\n",
              "    </tr>\n",
              "    <tr>\n",
              "      <th>11</th>\n",
              "      <td>build quality is significantly improved this d...</td>\n",
              "    </tr>\n",
              "    <tr>\n",
              "      <th>12</th>\n",
              "      <td>the phone does feels premium when one holds it...</td>\n",
              "    </tr>\n",
              "    <tr>\n",
              "      <th>13</th>\n",
              "      <td>i fell like the phone is bit expensive then it...</td>\n",
              "    </tr>\n",
              "    <tr>\n",
              "      <th>14</th>\n",
              "      <td>the phone crashed within  days of purchase and...</td>\n",
              "    </tr>\n",
              "    <tr>\n",
              "      <th>15</th>\n",
              "      <td>highly recommended business phone security and...</td>\n",
              "    </tr>\n",
              "    <tr>\n",
              "      <th>16</th>\n",
              "      <td>enough has been said already about this phone ...</td>\n",
              "    </tr>\n",
              "    <tr>\n",
              "      <th>17</th>\n",
              "      <td>that  of people who are going to buy this phon...</td>\n",
              "    </tr>\n",
              "    <tr>\n",
              "      <th>18</th>\n",
              "      <td>recommend if youve the pocket to afford it</td>\n",
              "    </tr>\n",
              "    <tr>\n",
              "      <th>19</th>\n",
              "      <td>best iphone ive ever had</td>\n",
              "    </tr>\n",
              "    <tr>\n",
              "      <th>20</th>\n",
              "      <td>it reminds me of my old iphone</td>\n",
              "    </tr>\n",
              "    <tr>\n",
              "      <th>21</th>\n",
              "      <td>amazing machine beautiful new design if you ca...</td>\n",
              "    </tr>\n",
              "    <tr>\n",
              "      <th>22</th>\n",
              "      <td>missing lots of feature if you come from andro...</td>\n",
              "    </tr>\n",
              "    <tr>\n",
              "      <th>23</th>\n",
              "      <td>the simplest review</td>\n",
              "    </tr>\n",
              "    <tr>\n",
              "      <th>24</th>\n",
              "      <td>i have upgraded from iphone x theres nothing m...</td>\n",
              "    </tr>\n",
              "    <tr>\n",
              "      <th>25</th>\n",
              "      <td>great product</td>\n",
              "    </tr>\n",
              "    <tr>\n",
              "      <th>26</th>\n",
              "      <td>the best phone i have used  this is my first i...</td>\n",
              "    </tr>\n",
              "    <tr>\n",
              "      <th>27</th>\n",
              "      <td>the best iphone till date</td>\n",
              "    </tr>\n",
              "    <tr>\n",
              "      <th>28</th>\n",
              "      <td>battery life is good</td>\n",
              "    </tr>\n",
              "    <tr>\n",
              "      <th>29</th>\n",
              "      <td>screen is awesome</td>\n",
              "    </tr>\n",
              "    <tr>\n",
              "      <th>30</th>\n",
              "      <td>cameras are best in the class</td>\n",
              "    </tr>\n",
              "    <tr>\n",
              "      <th>31</th>\n",
              "      <td>what a grt phone superfast speed camera qualit...</td>\n",
              "    </tr>\n",
              "    <tr>\n",
              "      <th>32</th>\n",
              "      <td>its just mind blowing</td>\n",
              "    </tr>\n",
              "    <tr>\n",
              "      <th>33</th>\n",
              "      <td>the feel of real old iphone with modren features</td>\n",
              "    </tr>\n",
              "    <tr>\n",
              "      <th>34</th>\n",
              "      <td>i phone is the best phone</td>\n",
              "    </tr>\n",
              "    <tr>\n",
              "      <th>35</th>\n",
              "      <td>best battery life dont think about battery lif...</td>\n",
              "    </tr>\n",
              "    <tr>\n",
              "      <th>36</th>\n",
              "      <td>great phone got the pacific blue during pre or...</td>\n",
              "    </tr>\n",
              "    <tr>\n",
              "      <th>37</th>\n",
              "      <td>extremely ultimate product from apple  feeling...</td>\n",
              "    </tr>\n",
              "    <tr>\n",
              "      <th>38</th>\n",
              "      <td>you wont regret buying this phone</td>\n",
              "    </tr>\n",
              "    <tr>\n",
              "      <th>39</th>\n",
              "      <td>really beast really value for money battery</td>\n",
              "    </tr>\n",
              "    <tr>\n",
              "      <th>40</th>\n",
              "      <td>the charm of iphone to its fullest camera is g...</td>\n",
              "    </tr>\n",
              "    <tr>\n",
              "      <th>41</th>\n",
              "      <td>good phone delivery on time</td>\n",
              "    </tr>\n",
              "    <tr>\n",
              "      <th>42</th>\n",
              "      <td>a biggie which cant be forgotten</td>\n",
              "    </tr>\n",
              "    <tr>\n",
              "      <th>43</th>\n",
              "      <td>wonderful phone but very expensive and an abso...</td>\n",
              "    </tr>\n",
              "    <tr>\n",
              "      <th>44</th>\n",
              "      <td>great product and very timely delivery</td>\n",
              "    </tr>\n",
              "    <tr>\n",
              "      <th>45</th>\n",
              "      <td>iphone  pro max is looking so beautiful</td>\n",
              "    </tr>\n",
              "  </tbody>\n",
              "</table>\n",
              "</div>"
            ],
            "text/plain": [
              "                                                    x\n",
              "0   discount offered by the seller is great discou...\n",
              "1   the best phone i have used  this is my first i...\n",
              "2   worst phone ever even nokia is better than thi...\n",
              "3             iphone  pro max is looking so beautiful\n",
              "4   i love this phonemy dream phoneone day i buy t...\n",
              "5   good phone nice price and battery life is good...\n",
              "6            nice product but charger should be there\n",
              "7   not recommended it is a waste of money be logi...\n",
              "8   cons running out of kidneys to sell to buy iph...\n",
              "9   make sure to get a decent screen guard and cle...\n",
              "10  had pre booked this iphone  pro max amazon del...\n",
              "11  build quality is significantly improved this d...\n",
              "12  the phone does feels premium when one holds it...\n",
              "13  i fell like the phone is bit expensive then it...\n",
              "14  the phone crashed within  days of purchase and...\n",
              "15  highly recommended business phone security and...\n",
              "16  enough has been said already about this phone ...\n",
              "17  that  of people who are going to buy this phon...\n",
              "18         recommend if youve the pocket to afford it\n",
              "19                          best iphone ive ever had \n",
              "20                    it reminds me of my old iphone \n",
              "21  amazing machine beautiful new design if you ca...\n",
              "22  missing lots of feature if you come from andro...\n",
              "23                                the simplest review\n",
              "24  i have upgraded from iphone x theres nothing m...\n",
              "25                                      great product\n",
              "26  the best phone i have used  this is my first i...\n",
              "27                         the best iphone till date \n",
              "28                               battery life is good\n",
              "29                                  screen is awesome\n",
              "30                      cameras are best in the class\n",
              "31  what a grt phone superfast speed camera qualit...\n",
              "32                              its just mind blowing\n",
              "33   the feel of real old iphone with modren features\n",
              "34                          i phone is the best phone\n",
              "35  best battery life dont think about battery lif...\n",
              "36  great phone got the pacific blue during pre or...\n",
              "37  extremely ultimate product from apple  feeling...\n",
              "38                  you wont regret buying this phone\n",
              "39       really beast really value for money battery \n",
              "40  the charm of iphone to its fullest camera is g...\n",
              "41                        good phone delivery on time\n",
              "42                   a biggie which cant be forgotten\n",
              "43  wonderful phone but very expensive and an abso...\n",
              "44             great product and very timely delivery\n",
              "45            iphone  pro max is looking so beautiful"
            ]
          },
          "metadata": {
            "tags": []
          },
          "execution_count": 46
        }
      ]
    },
    {
      "cell_type": "code",
      "metadata": {
        "id": "XVFqWuBdHe6B"
      },
      "source": [
        "affinity_scores = afinn.set_index('word')['value'].to_dict()"
      ],
      "execution_count": null,
      "outputs": []
    },
    {
      "cell_type": "code",
      "metadata": {
        "id": "3Y5PaKzjIBQg"
      },
      "source": [
        "#Custom function :score each word in a sentence in lemmatised form, \n",
        "#but calculate the score for the whole original sentence.\n",
        "nlp = spacy.load('en_core_web_sm')\n",
        "sentiment_lexicon = affinity_scores\n",
        "\n",
        "def calculate_sentiment(text: str = None):\n",
        "    sent_score = 0\n",
        "    if text:\n",
        "        sentence = nlp(text)\n",
        "        for word in sentence:\n",
        "            sent_score += sentiment_lexicon.get(word.lemma_, 0)\n",
        "    return sent_score"
      ],
      "execution_count": null,
      "outputs": []
    },
    {
      "cell_type": "code",
      "metadata": {
        "id": "7fwGV6FzIZmZ"
      },
      "source": [
        "reviews1['Sentiment_score'] = reviews1['x'].apply(calculate_sentiment)"
      ],
      "execution_count": null,
      "outputs": []
    },
    {
      "cell_type": "code",
      "metadata": {
        "colab": {
          "base_uri": "https://localhost:8080/",
          "height": 1000
        },
        "id": "aD3PbvMrI0Aj",
        "outputId": "c409cf8a-c885-486f-a99d-499aab647294"
      },
      "source": [
        "reviews1"
      ],
      "execution_count": null,
      "outputs": [
        {
          "output_type": "execute_result",
          "data": {
            "text/html": [
              "<div>\n",
              "<style scoped>\n",
              "    .dataframe tbody tr th:only-of-type {\n",
              "        vertical-align: middle;\n",
              "    }\n",
              "\n",
              "    .dataframe tbody tr th {\n",
              "        vertical-align: top;\n",
              "    }\n",
              "\n",
              "    .dataframe thead th {\n",
              "        text-align: right;\n",
              "    }\n",
              "</style>\n",
              "<table border=\"1\" class=\"dataframe\">\n",
              "  <thead>\n",
              "    <tr style=\"text-align: right;\">\n",
              "      <th></th>\n",
              "      <th>x</th>\n",
              "      <th>Sentiment_score</th>\n",
              "    </tr>\n",
              "  </thead>\n",
              "  <tbody>\n",
              "    <tr>\n",
              "      <th>0</th>\n",
              "      <td>discount offered by the seller is great discou...</td>\n",
              "      <td>6</td>\n",
              "    </tr>\n",
              "    <tr>\n",
              "      <th>1</th>\n",
              "      <td>the best phone i have used  this is my first i...</td>\n",
              "      <td>0</td>\n",
              "    </tr>\n",
              "    <tr>\n",
              "      <th>2</th>\n",
              "      <td>worst phone ever even nokia is better than thi...</td>\n",
              "      <td>-6</td>\n",
              "    </tr>\n",
              "    <tr>\n",
              "      <th>3</th>\n",
              "      <td>iphone  pro max is looking so beautiful</td>\n",
              "      <td>3</td>\n",
              "    </tr>\n",
              "    <tr>\n",
              "      <th>4</th>\n",
              "      <td>i love this phonemy dream phoneone day i buy t...</td>\n",
              "      <td>13</td>\n",
              "    </tr>\n",
              "    <tr>\n",
              "      <th>5</th>\n",
              "      <td>good phone nice price and battery life is good...</td>\n",
              "      <td>21</td>\n",
              "    </tr>\n",
              "    <tr>\n",
              "      <th>6</th>\n",
              "      <td>nice product but charger should be there</td>\n",
              "      <td>3</td>\n",
              "    </tr>\n",
              "    <tr>\n",
              "      <th>7</th>\n",
              "      <td>not recommended it is a waste of money be logi...</td>\n",
              "      <td>1</td>\n",
              "    </tr>\n",
              "    <tr>\n",
              "      <th>8</th>\n",
              "      <td>cons running out of kidneys to sell to buy iph...</td>\n",
              "      <td>0</td>\n",
              "    </tr>\n",
              "    <tr>\n",
              "      <th>9</th>\n",
              "      <td>make sure to get a decent screen guard and cle...</td>\n",
              "      <td>1</td>\n",
              "    </tr>\n",
              "    <tr>\n",
              "      <th>10</th>\n",
              "      <td>had pre booked this iphone  pro max amazon del...</td>\n",
              "      <td>0</td>\n",
              "    </tr>\n",
              "    <tr>\n",
              "      <th>11</th>\n",
              "      <td>build quality is significantly improved this d...</td>\n",
              "      <td>10</td>\n",
              "    </tr>\n",
              "    <tr>\n",
              "      <th>12</th>\n",
              "      <td>the phone does feels premium when one holds it...</td>\n",
              "      <td>1</td>\n",
              "    </tr>\n",
              "    <tr>\n",
              "      <th>13</th>\n",
              "      <td>i fell like the phone is bit expensive then it...</td>\n",
              "      <td>17</td>\n",
              "    </tr>\n",
              "    <tr>\n",
              "      <th>14</th>\n",
              "      <td>the phone crashed within  days of purchase and...</td>\n",
              "      <td>-5</td>\n",
              "    </tr>\n",
              "    <tr>\n",
              "      <th>15</th>\n",
              "      <td>highly recommended business phone security and...</td>\n",
              "      <td>2</td>\n",
              "    </tr>\n",
              "    <tr>\n",
              "      <th>16</th>\n",
              "      <td>enough has been said already about this phone ...</td>\n",
              "      <td>2</td>\n",
              "    </tr>\n",
              "    <tr>\n",
              "      <th>17</th>\n",
              "      <td>that  of people who are going to buy this phon...</td>\n",
              "      <td>2</td>\n",
              "    </tr>\n",
              "    <tr>\n",
              "      <th>18</th>\n",
              "      <td>recommend if youve the pocket to afford it</td>\n",
              "      <td>2</td>\n",
              "    </tr>\n",
              "    <tr>\n",
              "      <th>19</th>\n",
              "      <td>best iphone ive ever had</td>\n",
              "      <td>3</td>\n",
              "    </tr>\n",
              "    <tr>\n",
              "      <th>20</th>\n",
              "      <td>it reminds me of my old iphone</td>\n",
              "      <td>0</td>\n",
              "    </tr>\n",
              "    <tr>\n",
              "      <th>21</th>\n",
              "      <td>amazing machine beautiful new design if you ca...</td>\n",
              "      <td>10</td>\n",
              "    </tr>\n",
              "    <tr>\n",
              "      <th>22</th>\n",
              "      <td>missing lots of feature if you come from andro...</td>\n",
              "      <td>1</td>\n",
              "    </tr>\n",
              "    <tr>\n",
              "      <th>23</th>\n",
              "      <td>the simplest review</td>\n",
              "      <td>0</td>\n",
              "    </tr>\n",
              "    <tr>\n",
              "      <th>24</th>\n",
              "      <td>i have upgraded from iphone x theres nothing m...</td>\n",
              "      <td>5</td>\n",
              "    </tr>\n",
              "    <tr>\n",
              "      <th>25</th>\n",
              "      <td>great product</td>\n",
              "      <td>3</td>\n",
              "    </tr>\n",
              "    <tr>\n",
              "      <th>26</th>\n",
              "      <td>the best phone i have used  this is my first i...</td>\n",
              "      <td>0</td>\n",
              "    </tr>\n",
              "    <tr>\n",
              "      <th>27</th>\n",
              "      <td>the best iphone till date</td>\n",
              "      <td>3</td>\n",
              "    </tr>\n",
              "    <tr>\n",
              "      <th>28</th>\n",
              "      <td>battery life is good</td>\n",
              "      <td>3</td>\n",
              "    </tr>\n",
              "    <tr>\n",
              "      <th>29</th>\n",
              "      <td>screen is awesome</td>\n",
              "      <td>4</td>\n",
              "    </tr>\n",
              "    <tr>\n",
              "      <th>30</th>\n",
              "      <td>cameras are best in the class</td>\n",
              "      <td>3</td>\n",
              "    </tr>\n",
              "    <tr>\n",
              "      <th>31</th>\n",
              "      <td>what a grt phone superfast speed camera qualit...</td>\n",
              "      <td>0</td>\n",
              "    </tr>\n",
              "    <tr>\n",
              "      <th>32</th>\n",
              "      <td>its just mind blowing</td>\n",
              "      <td>0</td>\n",
              "    </tr>\n",
              "    <tr>\n",
              "      <th>33</th>\n",
              "      <td>the feel of real old iphone with modren features</td>\n",
              "      <td>0</td>\n",
              "    </tr>\n",
              "    <tr>\n",
              "      <th>34</th>\n",
              "      <td>i phone is the best phone</td>\n",
              "      <td>3</td>\n",
              "    </tr>\n",
              "    <tr>\n",
              "      <th>35</th>\n",
              "      <td>best battery life dont think about battery lif...</td>\n",
              "      <td>3</td>\n",
              "    </tr>\n",
              "    <tr>\n",
              "      <th>36</th>\n",
              "      <td>great phone got the pacific blue during pre or...</td>\n",
              "      <td>4</td>\n",
              "    </tr>\n",
              "    <tr>\n",
              "      <th>37</th>\n",
              "      <td>extremely ultimate product from apple  feeling...</td>\n",
              "      <td>6</td>\n",
              "    </tr>\n",
              "    <tr>\n",
              "      <th>38</th>\n",
              "      <td>you wont regret buying this phone</td>\n",
              "      <td>-2</td>\n",
              "    </tr>\n",
              "    <tr>\n",
              "      <th>39</th>\n",
              "      <td>really beast really value for money battery</td>\n",
              "      <td>0</td>\n",
              "    </tr>\n",
              "    <tr>\n",
              "      <th>40</th>\n",
              "      <td>the charm of iphone to its fullest camera is g...</td>\n",
              "      <td>6</td>\n",
              "    </tr>\n",
              "    <tr>\n",
              "      <th>41</th>\n",
              "      <td>good phone delivery on time</td>\n",
              "      <td>3</td>\n",
              "    </tr>\n",
              "    <tr>\n",
              "      <th>42</th>\n",
              "      <td>a biggie which cant be forgotten</td>\n",
              "      <td>-1</td>\n",
              "    </tr>\n",
              "    <tr>\n",
              "      <th>43</th>\n",
              "      <td>wonderful phone but very expensive and an abso...</td>\n",
              "      <td>8</td>\n",
              "    </tr>\n",
              "    <tr>\n",
              "      <th>44</th>\n",
              "      <td>great product and very timely delivery</td>\n",
              "      <td>3</td>\n",
              "    </tr>\n",
              "    <tr>\n",
              "      <th>45</th>\n",
              "      <td>iphone  pro max is looking so beautiful</td>\n",
              "      <td>3</td>\n",
              "    </tr>\n",
              "  </tbody>\n",
              "</table>\n",
              "</div>"
            ],
            "text/plain": [
              "                                                    x  Sentiment_score\n",
              "0   discount offered by the seller is great discou...                6\n",
              "1   the best phone i have used  this is my first i...                0\n",
              "2   worst phone ever even nokia is better than thi...               -6\n",
              "3             iphone  pro max is looking so beautiful                3\n",
              "4   i love this phonemy dream phoneone day i buy t...               13\n",
              "5   good phone nice price and battery life is good...               21\n",
              "6            nice product but charger should be there                3\n",
              "7   not recommended it is a waste of money be logi...                1\n",
              "8   cons running out of kidneys to sell to buy iph...                0\n",
              "9   make sure to get a decent screen guard and cle...                1\n",
              "10  had pre booked this iphone  pro max amazon del...                0\n",
              "11  build quality is significantly improved this d...               10\n",
              "12  the phone does feels premium when one holds it...                1\n",
              "13  i fell like the phone is bit expensive then it...               17\n",
              "14  the phone crashed within  days of purchase and...               -5\n",
              "15  highly recommended business phone security and...                2\n",
              "16  enough has been said already about this phone ...                2\n",
              "17  that  of people who are going to buy this phon...                2\n",
              "18         recommend if youve the pocket to afford it                2\n",
              "19                          best iphone ive ever had                 3\n",
              "20                    it reminds me of my old iphone                 0\n",
              "21  amazing machine beautiful new design if you ca...               10\n",
              "22  missing lots of feature if you come from andro...                1\n",
              "23                                the simplest review                0\n",
              "24  i have upgraded from iphone x theres nothing m...                5\n",
              "25                                      great product                3\n",
              "26  the best phone i have used  this is my first i...                0\n",
              "27                         the best iphone till date                 3\n",
              "28                               battery life is good                3\n",
              "29                                  screen is awesome                4\n",
              "30                      cameras are best in the class                3\n",
              "31  what a grt phone superfast speed camera qualit...                0\n",
              "32                              its just mind blowing                0\n",
              "33   the feel of real old iphone with modren features                0\n",
              "34                          i phone is the best phone                3\n",
              "35  best battery life dont think about battery lif...                3\n",
              "36  great phone got the pacific blue during pre or...                4\n",
              "37  extremely ultimate product from apple  feeling...                6\n",
              "38                  you wont regret buying this phone               -2\n",
              "39       really beast really value for money battery                 0\n",
              "40  the charm of iphone to its fullest camera is g...                6\n",
              "41                        good phone delivery on time                3\n",
              "42                   a biggie which cant be forgotten               -1\n",
              "43  wonderful phone but very expensive and an abso...                8\n",
              "44             great product and very timely delivery                3\n",
              "45            iphone  pro max is looking so beautiful                3"
            ]
          },
          "metadata": {
            "tags": []
          },
          "execution_count": 50
        }
      ]
    },
    {
      "cell_type": "markdown",
      "metadata": {
        "id": "QGAIW_n5I_fU"
      },
      "source": [
        "##Highly Rated Reviews"
      ]
    },
    {
      "cell_type": "code",
      "metadata": {
        "colab": {
          "base_uri": "https://localhost:8080/",
          "height": 359
        },
        "id": "SbyVnjE0I15K",
        "outputId": "1cd52085-facc-4987-9589-0be1233e83c0"
      },
      "source": [
        "reviews1.sort_values(by='Sentiment_score').tail(10)"
      ],
      "execution_count": null,
      "outputs": [
        {
          "output_type": "execute_result",
          "data": {
            "text/html": [
              "<div>\n",
              "<style scoped>\n",
              "    .dataframe tbody tr th:only-of-type {\n",
              "        vertical-align: middle;\n",
              "    }\n",
              "\n",
              "    .dataframe tbody tr th {\n",
              "        vertical-align: top;\n",
              "    }\n",
              "\n",
              "    .dataframe thead th {\n",
              "        text-align: right;\n",
              "    }\n",
              "</style>\n",
              "<table border=\"1\" class=\"dataframe\">\n",
              "  <thead>\n",
              "    <tr style=\"text-align: right;\">\n",
              "      <th></th>\n",
              "      <th>x</th>\n",
              "      <th>Sentiment_score</th>\n",
              "    </tr>\n",
              "  </thead>\n",
              "  <tbody>\n",
              "    <tr>\n",
              "      <th>24</th>\n",
              "      <td>i have upgraded from iphone x theres nothing m...</td>\n",
              "      <td>5</td>\n",
              "    </tr>\n",
              "    <tr>\n",
              "      <th>37</th>\n",
              "      <td>extremely ultimate product from apple  feeling...</td>\n",
              "      <td>6</td>\n",
              "    </tr>\n",
              "    <tr>\n",
              "      <th>40</th>\n",
              "      <td>the charm of iphone to its fullest camera is g...</td>\n",
              "      <td>6</td>\n",
              "    </tr>\n",
              "    <tr>\n",
              "      <th>0</th>\n",
              "      <td>discount offered by the seller is great discou...</td>\n",
              "      <td>6</td>\n",
              "    </tr>\n",
              "    <tr>\n",
              "      <th>43</th>\n",
              "      <td>wonderful phone but very expensive and an abso...</td>\n",
              "      <td>8</td>\n",
              "    </tr>\n",
              "    <tr>\n",
              "      <th>11</th>\n",
              "      <td>build quality is significantly improved this d...</td>\n",
              "      <td>10</td>\n",
              "    </tr>\n",
              "    <tr>\n",
              "      <th>21</th>\n",
              "      <td>amazing machine beautiful new design if you ca...</td>\n",
              "      <td>10</td>\n",
              "    </tr>\n",
              "    <tr>\n",
              "      <th>4</th>\n",
              "      <td>i love this phonemy dream phoneone day i buy t...</td>\n",
              "      <td>13</td>\n",
              "    </tr>\n",
              "    <tr>\n",
              "      <th>13</th>\n",
              "      <td>i fell like the phone is bit expensive then it...</td>\n",
              "      <td>17</td>\n",
              "    </tr>\n",
              "    <tr>\n",
              "      <th>5</th>\n",
              "      <td>good phone nice price and battery life is good...</td>\n",
              "      <td>21</td>\n",
              "    </tr>\n",
              "  </tbody>\n",
              "</table>\n",
              "</div>"
            ],
            "text/plain": [
              "                                                    x  Sentiment_score\n",
              "24  i have upgraded from iphone x theres nothing m...                5\n",
              "37  extremely ultimate product from apple  feeling...                6\n",
              "40  the charm of iphone to its fullest camera is g...                6\n",
              "0   discount offered by the seller is great discou...                6\n",
              "43  wonderful phone but very expensive and an abso...                8\n",
              "11  build quality is significantly improved this d...               10\n",
              "21  amazing machine beautiful new design if you ca...               10\n",
              "4   i love this phonemy dream phoneone day i buy t...               13\n",
              "13  i fell like the phone is bit expensive then it...               17\n",
              "5   good phone nice price and battery life is good...               21"
            ]
          },
          "metadata": {
            "tags": []
          },
          "execution_count": 53
        }
      ]
    },
    {
      "cell_type": "markdown",
      "metadata": {
        "id": "7HLNyvgxJx3Y"
      },
      "source": [
        "##Low Rated Reviews"
      ]
    },
    {
      "cell_type": "code",
      "metadata": {
        "colab": {
          "base_uri": "https://localhost:8080/",
          "height": 359
        },
        "id": "7dXNaggxJeM1",
        "outputId": "76d6af88-b46d-4380-a31f-1d9bb62bd4ae"
      },
      "source": [
        "reviews1.sort_values(by='Sentiment_score').head(10)"
      ],
      "execution_count": null,
      "outputs": [
        {
          "output_type": "execute_result",
          "data": {
            "text/html": [
              "<div>\n",
              "<style scoped>\n",
              "    .dataframe tbody tr th:only-of-type {\n",
              "        vertical-align: middle;\n",
              "    }\n",
              "\n",
              "    .dataframe tbody tr th {\n",
              "        vertical-align: top;\n",
              "    }\n",
              "\n",
              "    .dataframe thead th {\n",
              "        text-align: right;\n",
              "    }\n",
              "</style>\n",
              "<table border=\"1\" class=\"dataframe\">\n",
              "  <thead>\n",
              "    <tr style=\"text-align: right;\">\n",
              "      <th></th>\n",
              "      <th>x</th>\n",
              "      <th>Sentiment_score</th>\n",
              "    </tr>\n",
              "  </thead>\n",
              "  <tbody>\n",
              "    <tr>\n",
              "      <th>2</th>\n",
              "      <td>worst phone ever even nokia is better than thi...</td>\n",
              "      <td>-6</td>\n",
              "    </tr>\n",
              "    <tr>\n",
              "      <th>14</th>\n",
              "      <td>the phone crashed within  days of purchase and...</td>\n",
              "      <td>-5</td>\n",
              "    </tr>\n",
              "    <tr>\n",
              "      <th>38</th>\n",
              "      <td>you wont regret buying this phone</td>\n",
              "      <td>-2</td>\n",
              "    </tr>\n",
              "    <tr>\n",
              "      <th>42</th>\n",
              "      <td>a biggie which cant be forgotten</td>\n",
              "      <td>-1</td>\n",
              "    </tr>\n",
              "    <tr>\n",
              "      <th>26</th>\n",
              "      <td>the best phone i have used  this is my first i...</td>\n",
              "      <td>0</td>\n",
              "    </tr>\n",
              "    <tr>\n",
              "      <th>1</th>\n",
              "      <td>the best phone i have used  this is my first i...</td>\n",
              "      <td>0</td>\n",
              "    </tr>\n",
              "    <tr>\n",
              "      <th>23</th>\n",
              "      <td>the simplest review</td>\n",
              "      <td>0</td>\n",
              "    </tr>\n",
              "    <tr>\n",
              "      <th>39</th>\n",
              "      <td>really beast really value for money battery</td>\n",
              "      <td>0</td>\n",
              "    </tr>\n",
              "    <tr>\n",
              "      <th>31</th>\n",
              "      <td>what a grt phone superfast speed camera qualit...</td>\n",
              "      <td>0</td>\n",
              "    </tr>\n",
              "    <tr>\n",
              "      <th>8</th>\n",
              "      <td>cons running out of kidneys to sell to buy iph...</td>\n",
              "      <td>0</td>\n",
              "    </tr>\n",
              "  </tbody>\n",
              "</table>\n",
              "</div>"
            ],
            "text/plain": [
              "                                                    x  Sentiment_score\n",
              "2   worst phone ever even nokia is better than thi...               -6\n",
              "14  the phone crashed within  days of purchase and...               -5\n",
              "38                  you wont regret buying this phone               -2\n",
              "42                   a biggie which cant be forgotten               -1\n",
              "26  the best phone i have used  this is my first i...                0\n",
              "1   the best phone i have used  this is my first i...                0\n",
              "23                                the simplest review                0\n",
              "39       really beast really value for money battery                 0\n",
              "31  what a grt phone superfast speed camera qualit...                0\n",
              "8   cons running out of kidneys to sell to buy iph...                0"
            ]
          },
          "metadata": {
            "tags": []
          },
          "execution_count": 54
        }
      ]
    },
    {
      "cell_type": "markdown",
      "metadata": {
        "id": "jzfoRldUKA4S"
      },
      "source": [
        "##Sentiment Scores Description of All Scores"
      ]
    },
    {
      "cell_type": "code",
      "metadata": {
        "colab": {
          "base_uri": "https://localhost:8080/"
        },
        "id": "nNqbMolAJ8ax",
        "outputId": "f8d88c32-fc27-49c3-876a-362007103f59"
      },
      "source": [
        "reviews1['Sentiment_score'].describe()"
      ],
      "execution_count": null,
      "outputs": [
        {
          "output_type": "execute_result",
          "data": {
            "text/plain": [
              "count    46.000000\n",
              "mean      3.130435\n",
              "std       4.879019\n",
              "min      -6.000000\n",
              "25%       0.000000\n",
              "50%       3.000000\n",
              "75%       3.750000\n",
              "max      21.000000\n",
              "Name: Sentiment_score, dtype: float64"
            ]
          },
          "metadata": {
            "tags": []
          },
          "execution_count": 55
        }
      ]
    },
    {
      "cell_type": "markdown",
      "metadata": {
        "id": "tmGJlisjKZRU"
      },
      "source": [
        "#Best Rated Reviews"
      ]
    },
    {
      "cell_type": "code",
      "metadata": {
        "colab": {
          "base_uri": "https://localhost:8080/",
          "height": 204
        },
        "id": "i5Lf0kHoKXg5",
        "outputId": "4ea0ec54-3199-48a9-9181-499127d3cc0e"
      },
      "source": [
        "reviews1[reviews1['Sentiment_score'] >=10]"
      ],
      "execution_count": null,
      "outputs": [
        {
          "output_type": "execute_result",
          "data": {
            "text/html": [
              "<div>\n",
              "<style scoped>\n",
              "    .dataframe tbody tr th:only-of-type {\n",
              "        vertical-align: middle;\n",
              "    }\n",
              "\n",
              "    .dataframe tbody tr th {\n",
              "        vertical-align: top;\n",
              "    }\n",
              "\n",
              "    .dataframe thead th {\n",
              "        text-align: right;\n",
              "    }\n",
              "</style>\n",
              "<table border=\"1\" class=\"dataframe\">\n",
              "  <thead>\n",
              "    <tr style=\"text-align: right;\">\n",
              "      <th></th>\n",
              "      <th>x</th>\n",
              "      <th>Sentiment_score</th>\n",
              "    </tr>\n",
              "  </thead>\n",
              "  <tbody>\n",
              "    <tr>\n",
              "      <th>4</th>\n",
              "      <td>i love this phonemy dream phoneone day i buy t...</td>\n",
              "      <td>13</td>\n",
              "    </tr>\n",
              "    <tr>\n",
              "      <th>5</th>\n",
              "      <td>good phone nice price and battery life is good...</td>\n",
              "      <td>21</td>\n",
              "    </tr>\n",
              "    <tr>\n",
              "      <th>11</th>\n",
              "      <td>build quality is significantly improved this d...</td>\n",
              "      <td>10</td>\n",
              "    </tr>\n",
              "    <tr>\n",
              "      <th>13</th>\n",
              "      <td>i fell like the phone is bit expensive then it...</td>\n",
              "      <td>17</td>\n",
              "    </tr>\n",
              "    <tr>\n",
              "      <th>21</th>\n",
              "      <td>amazing machine beautiful new design if you ca...</td>\n",
              "      <td>10</td>\n",
              "    </tr>\n",
              "  </tbody>\n",
              "</table>\n",
              "</div>"
            ],
            "text/plain": [
              "                                                    x  Sentiment_score\n",
              "4   i love this phonemy dream phoneone day i buy t...               13\n",
              "5   good phone nice price and battery life is good...               21\n",
              "11  build quality is significantly improved this d...               10\n",
              "13  i fell like the phone is bit expensive then it...               17\n",
              "21  amazing machine beautiful new design if you ca...               10"
            ]
          },
          "metadata": {
            "tags": []
          },
          "execution_count": 56
        }
      ]
    },
    {
      "cell_type": "markdown",
      "metadata": {
        "id": "aq7MovuqKpbq"
      },
      "source": [
        "##Worst Rated Reviews"
      ]
    },
    {
      "cell_type": "code",
      "metadata": {
        "colab": {
          "base_uri": "https://localhost:8080/",
          "height": 173
        },
        "id": "xXBfcD1nKofd",
        "outputId": "f519188e-c11a-4331-abb3-62b1416fb5b3"
      },
      "source": [
        "reviews1[reviews1['Sentiment_score']<0]"
      ],
      "execution_count": null,
      "outputs": [
        {
          "output_type": "execute_result",
          "data": {
            "text/html": [
              "<div>\n",
              "<style scoped>\n",
              "    .dataframe tbody tr th:only-of-type {\n",
              "        vertical-align: middle;\n",
              "    }\n",
              "\n",
              "    .dataframe tbody tr th {\n",
              "        vertical-align: top;\n",
              "    }\n",
              "\n",
              "    .dataframe thead th {\n",
              "        text-align: right;\n",
              "    }\n",
              "</style>\n",
              "<table border=\"1\" class=\"dataframe\">\n",
              "  <thead>\n",
              "    <tr style=\"text-align: right;\">\n",
              "      <th></th>\n",
              "      <th>x</th>\n",
              "      <th>Sentiment_score</th>\n",
              "    </tr>\n",
              "  </thead>\n",
              "  <tbody>\n",
              "    <tr>\n",
              "      <th>2</th>\n",
              "      <td>worst phone ever even nokia is better than thi...</td>\n",
              "      <td>-6</td>\n",
              "    </tr>\n",
              "    <tr>\n",
              "      <th>14</th>\n",
              "      <td>the phone crashed within  days of purchase and...</td>\n",
              "      <td>-5</td>\n",
              "    </tr>\n",
              "    <tr>\n",
              "      <th>38</th>\n",
              "      <td>you wont regret buying this phone</td>\n",
              "      <td>-2</td>\n",
              "    </tr>\n",
              "    <tr>\n",
              "      <th>42</th>\n",
              "      <td>a biggie which cant be forgotten</td>\n",
              "      <td>-1</td>\n",
              "    </tr>\n",
              "  </tbody>\n",
              "</table>\n",
              "</div>"
            ],
            "text/plain": [
              "                                                    x  Sentiment_score\n",
              "2   worst phone ever even nokia is better than thi...               -6\n",
              "14  the phone crashed within  days of purchase and...               -5\n",
              "38                  you wont regret buying this phone               -2\n",
              "42                   a biggie which cant be forgotten               -1"
            ]
          },
          "metadata": {
            "tags": []
          },
          "execution_count": 60
        }
      ]
    },
    {
      "cell_type": "markdown",
      "metadata": {
        "id": "2Y-P1FkZLJlJ"
      },
      "source": [
        "##Visualization on Sentiment value"
      ]
    },
    {
      "cell_type": "code",
      "metadata": {
        "colab": {
          "base_uri": "https://localhost:8080/",
          "height": 351
        },
        "id": "LHBeBXxiK48F",
        "outputId": "e3e3a498-00cc-41ae-f122-4397609dce29"
      },
      "source": [
        "sns.distplot(reviews1['Sentiment_score'])"
      ],
      "execution_count": null,
      "outputs": [
        {
          "output_type": "stream",
          "text": [
            "/usr/local/lib/python3.7/dist-packages/seaborn/distributions.py:2557: FutureWarning: `distplot` is a deprecated function and will be removed in a future version. Please adapt your code to use either `displot` (a figure-level function with similar flexibility) or `histplot` (an axes-level function for histograms).\n",
            "  warnings.warn(msg, FutureWarning)\n"
          ],
          "name": "stderr"
        },
        {
          "output_type": "execute_result",
          "data": {
            "text/plain": [
              "<matplotlib.axes._subplots.AxesSubplot at 0x7f0dea2369d0>"
            ]
          },
          "metadata": {
            "tags": []
          },
          "execution_count": 61
        },
        {
          "output_type": "display_data",
          "data": {
            "image/png": "[encoded data removed]",
            "text/plain": [
              "<Figure size 432x288 with 1 Axes>"
            ]
          },
          "metadata": {
            "tags": [],
            "needs_background": "light"
          }
        }
      ]
    },
    {
      "cell_type": "markdown",
      "metadata": {
        "id": "tUxUfUo-LSI7"
      },
      "source": [
        "##We can see from Visualizations that most of reviews are rated good"
      ]
    },
    {
      "cell_type": "code",
      "metadata": {
        "id": "bCyQQjnQLPpi"
      },
      "source": [
        "reviews1['index'] = range(0,len(reviews1))"
      ],
      "execution_count": null,
      "outputs": []
    },
    {
      "cell_type": "code",
      "metadata": {
        "colab": {
          "base_uri": "https://localhost:8080/",
          "height": 405
        },
        "id": "6Rjx77q4LpY3",
        "outputId": "dcf6f75e-ef5f-48ae-984d-65d1c9091186"
      },
      "source": [
        "plt.figure(figsize=(10,6))\n",
        "sns.lineplot(y='Sentiment_score',x='index',data=reviews1)"
      ],
      "execution_count": null,
      "outputs": [
        {
          "output_type": "execute_result",
          "data": {
            "text/plain": [
              "<matplotlib.axes._subplots.AxesSubplot at 0x7f0de6c724d0>"
            ]
          },
          "metadata": {
            "tags": []
          },
          "execution_count": 70
        },
        {
          "output_type": "display_data",
          "data": {
            "image/png": "[encoded data removed]",
            "text/plain": [
              "<Figure size 720x432 with 1 Axes>"
            ]
          },
          "metadata": {
            "tags": [],
            "needs_background": "light"
          }
        }
      ]
    },
    {
      "cell_type": "markdown",
      "metadata": {
        "id": "yjWOy587M1RO"
      },
      "source": [
        "####We can see from visualization that most of reviews are Positively rated hence product is good Product"
      ]
    },
    {
      "cell_type": "markdown",
      "metadata": {
        "id": "6TNa3UUKNLnE"
      },
      "source": [
        "##Sentiment Value to Word Count"
      ]
    },
    {
      "cell_type": "code",
      "metadata": {
        "id": "Giwd6uwwMIN-"
      },
      "source": [
        "reviews1['word_count'] = reviews1['x'].str.split().apply(len)"
      ],
      "execution_count": null,
      "outputs": []
    },
    {
      "cell_type": "code",
      "metadata": {
        "colab": {
          "base_uri": "https://localhost:8080/"
        },
        "id": "D3HbVA2sNYR2",
        "outputId": "51e48828-08b2-4867-e8cf-44ff27265672"
      },
      "source": [
        "reviews1['word_count'].head()"
      ],
      "execution_count": null,
      "outputs": [
        {
          "output_type": "execute_result",
          "data": {
            "text/plain": [
              "0    14\n",
              "1    62\n",
              "2    18\n",
              "3     7\n",
              "4    20\n",
              "Name: word_count, dtype: int64"
            ]
          },
          "metadata": {
            "tags": []
          },
          "execution_count": 72
        }
      ]
    },
    {
      "cell_type": "code",
      "metadata": {
        "colab": {
          "base_uri": "https://localhost:8080/",
          "height": 368
        },
        "id": "7ovLl0A6Ndjl",
        "outputId": "90596493-db24-4f44-ab25-f42876f07007"
      },
      "source": [
        "reviews1.plot.scatter(x='word_count',y='Sentiment_score',figsize=(10,5),title='Sentiment Value to Word Count')"
      ],
      "execution_count": null,
      "outputs": [
        {
          "output_type": "execute_result",
          "data": {
            "text/plain": [
              "<matplotlib.axes._subplots.AxesSubplot at 0x7f0de6c72750>"
            ]
          },
          "metadata": {
            "tags": []
          },
          "execution_count": 74
        },
        {
          "output_type": "display_data",
          "data": {
            "image/png": "[encoded data removed]",
            "text/plain": [
              "<Figure size 720x360 with 1 Axes>"
            ]
          },
          "metadata": {
            "tags": [],
            "needs_background": "light"
          }
        }
      ]
    },
    {
      "cell_type": "markdown",
      "metadata": {
        "id": "xs2yoas4OEDP"
      },
      "source": [
        "###We can see that there is no specific relation between words in reviews and sentiment score of review"
      ]
    },
    {
      "cell_type": "markdown",
      "metadata": {
        "id": "Y64RsamEOwUU"
      },
      "source": [
        "##WordCloud"
      ]
    },
    {
      "cell_type": "code",
      "metadata": {
        "id": "RkFEauSFPZzR"
      },
      "source": [
        "string_total= \" \".join(reviews)"
      ],
      "execution_count": null,
      "outputs": []
    },
    {
      "cell_type": "code",
      "metadata": {
        "colab": {
          "base_uri": "https://localhost:8080/",
          "height": 286
        },
        "id": "zWvDJWRfN8mV",
        "outputId": "f9e6a760-46b5-4dab-abbb-f3906e831e64"
      },
      "source": [
        "#wordcloud for entire corpus\n",
        "from wordcloud import WordCloud\n",
        "wordcloud_stw = WordCloud(\n",
        "                background_color= 'black',\n",
        "                width = 1800,\n",
        "                height = 1500\n",
        "                ).generate(string_total)\n",
        "plt.imshow(wordcloud_stw)"
      ],
      "execution_count": null,
      "outputs": [
        {
          "output_type": "execute_result",
          "data": {
            "text/plain": [
              "<matplotlib.image.AxesImage at 0x7f0de6ae3210>"
            ]
          },
          "metadata": {
            "tags": []
          },
          "execution_count": 78
        },
        {
          "output_type": "display_data",
          "data": {
            "image/png": "[encoded data removed]",
            "text/plain": [
              "<Figure size 432x288 with 1 Axes>"
            ]
          },
          "metadata": {
            "tags": [],
            "needs_background": "light"
          }
        }
      ]
    }
  ]
}
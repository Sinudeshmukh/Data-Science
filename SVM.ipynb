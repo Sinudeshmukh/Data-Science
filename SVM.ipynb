{
  "nbformat": 4,
  "nbformat_minor": 0,
  "metadata": {
    "kernelspec": {
      "display_name": "Python 3",
      "language": "python",
      "name": "python3"
    },
    "language_info": {
      "codemirror_mode": {
        "name": "ipython",
        "version": 3
      },
      "file_extension": ".py",
      "mimetype": "text/x-python",
      "name": "python",
      "nbconvert_exporter": "python",
      "pygments_lexer": "ipython3",
      "version": "3.7.4"
    },
    "colab": {
      "name": "SVM.ipynb",
      "provenance": [],
      "collapsed_sections": [],
      "include_colab_link": true
    }
  },
  "cells": [
    {
      "cell_type": "markdown",
      "metadata": {
        "id": "view-in-github",
        "colab_type": "text"
      },
      "source": [
        "<a href=\"https://colab.research.google.com/github/Sinudeshmukh/Data-Science/blob/main/SVM.ipynb\" target=\"_parent\"><img src=\"https://colab.research.google.com/assets/colab-badge.svg\" alt=\"Open In Colab\"/></a>"
      ]
    },
    {
      "cell_type": "code",
      "metadata": {
        "id": "0w_a_nQhXejR"
      },
      "source": [
        "#SVM Classification\r\n",
        "import pandas as pd\r\n",
        "import numpy as np\r\n",
        "\r\n",
        "from sklearn.model_selection import train_test_split, cross_val_score\r\n",
        "from sklearn.model_selection import GridSearchCV\r\n",
        "\r\n",
        "from sklearn.metrics import classification_report\r\n",
        "from sklearn.metrics import accuracy_score,confusion_matrix\r\n",
        "\r\n",
        "from sklearn import svm\r\n",
        "from sklearn.svm import SVC"
      ],
      "execution_count": 1,
      "outputs": []
    },
    {
      "cell_type": "code",
      "metadata": {
        "id": "XyXTlVgwY5Fv"
      },
      "source": [
        "filename = 'pima-indians-diabetes.data.csv'\r\n",
        "names = ['preg', 'plas', 'pres', 'skin', 'test', 'mass', 'pedi', 'age', 'class']\r\n",
        "dataframe = pd.read_csv(filename,names=names)"
      ],
      "execution_count": 3,
      "outputs": []
    },
    {
      "cell_type": "code",
      "metadata": {
        "id": "jhlze6qeZdNP"
      },
      "source": [
        "array = dataframe.values\r\n",
        "X = array[:,0:8]\r\n",
        "Y = array[:,8]"
      ],
      "execution_count": 4,
      "outputs": []
    },
    {
      "cell_type": "code",
      "metadata": {
        "id": "34C7QMF2Zxw0"
      },
      "source": [
        "X_train,X_test,Y_train,Y_test = train_test_split(X,Y,test_size=0.3)"
      ],
      "execution_count": 7,
      "outputs": []
    },
    {
      "cell_type": "code",
      "metadata": {
        "id": "dz9LOndlB9D5",
        "colab": {
          "base_uri": "https://localhost:8080/"
        },
        "outputId": "7ed648b0-57c4-417b-8381-dd09780ce67b"
      },
      "source": [
        "X_train.shape, Y_train.shape, X_test.shape, Y_test.shape"
      ],
      "execution_count": 9,
      "outputs": [
        {
          "output_type": "execute_result",
          "data": {
            "text/plain": [
              "((537, 8), (537,), (231, 8), (231,))"
            ]
          },
          "metadata": {
            "tags": []
          },
          "execution_count": 9
        }
      ]
    },
    {
      "cell_type": "markdown",
      "metadata": {
        "id": "rxVqE3h0B9D6"
      },
      "source": [
        "### Grid Search CV"
      ]
    },
    {
      "cell_type": "code",
      "metadata": {
        "colab": {
          "base_uri": "https://localhost:8080/"
        },
        "id": "r5hV6yr9aRpO",
        "outputId": "0f9ebc58-2306-421f-d380-0998cf9891b4"
      },
      "source": [
        "clf = SVC()\r\n",
        "param_grid = [{'kernel':['rbf'],'gamma':[50,10,5,0.5],'C':[15,14,13,12,11,10,1,0.1,0.001]}]\r\n",
        "gsv = GridSearchCV(clf,param_grid,cv=10)\r\n",
        "gsv.fit(X_train,Y_train)"
      ],
      "execution_count": 10,
      "outputs": [
        {
          "output_type": "execute_result",
          "data": {
            "text/plain": [
              "GridSearchCV(cv=10, error_score=nan,\n",
              "             estimator=SVC(C=1.0, break_ties=False, cache_size=200,\n",
              "                           class_weight=None, coef0=0.0,\n",
              "                           decision_function_shape='ovr', degree=3,\n",
              "                           gamma='scale', kernel='rbf', max_iter=-1,\n",
              "                           probability=False, random_state=None, shrinking=True,\n",
              "                           tol=0.001, verbose=False),\n",
              "             iid='deprecated', n_jobs=None,\n",
              "             param_grid=[{'C': [15, 14, 13, 12, 11, 10, 1, 0.1, 0.001],\n",
              "                          'gamma': [50, 10, 5, 0.5], 'kernel': ['rbf']}],\n",
              "             pre_dispatch='2*n_jobs', refit=True, return_train_score=False,\n",
              "             scoring=None, verbose=0)"
            ]
          },
          "metadata": {
            "tags": []
          },
          "execution_count": 10
        }
      ]
    },
    {
      "cell_type": "code",
      "metadata": {
        "id": "cdW4ScdCB9D7",
        "colab": {
          "base_uri": "https://localhost:8080/"
        },
        "outputId": "d50ba926-138b-4d6a-a713-b65fd9490097"
      },
      "source": [
        "gsv.best_score_,gsv.best_params_"
      ],
      "execution_count": 11,
      "outputs": [
        {
          "output_type": "execute_result",
          "data": {
            "text/plain": [
              "(0.6518169112508734, {'C': 15, 'gamma': 50, 'kernel': 'rbf'})"
            ]
          },
          "metadata": {
            "tags": []
          },
          "execution_count": 11
        }
      ]
    },
    {
      "cell_type": "code",
      "metadata": {
        "colab": {
          "base_uri": "https://localhost:8080/"
        },
        "id": "My0VJkwqbfhS",
        "outputId": "3e984704-8b3c-4280-c3c7-d47c2f29c483"
      },
      "source": [
        "clf = SVC(C=15,gamma=50)\r\n",
        "clf.fit(X_train,Y_train)\r\n",
        "\r\n",
        "y_pred = clf.predict(X_test)\r\n",
        "acc = accuracy_score(Y_test,y_pred)\r\n",
        "print('Accuracy=',acc*100)"
      ],
      "execution_count": 14,
      "outputs": [
        {
          "output_type": "stream",
          "text": [
            "Accuracy= 64.93506493506493\n"
          ],
          "name": "stdout"
        }
      ]
    }
  ]
}
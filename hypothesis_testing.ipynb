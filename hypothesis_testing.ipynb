{
  "nbformat": 4,
  "nbformat_minor": 0,
  "metadata": {
    "colab": {
      "name": "hypothesis_testing.ipynb",
      "provenance": [],
      "authorship_tag": "ABX9TyPrGDC9RGQ61zYZ7++OKxs2",
      "include_colab_link": true
    },
    "kernelspec": {
      "name": "python3",
      "display_name": "Python 3"
    }
  },
  "cells": [
    {
      "cell_type": "markdown",
      "metadata": {
        "id": "view-in-github",
        "colab_type": "text"
      },
      "source": [
        "<a href=\"https://colab.research.google.com/github/Sinudeshmukh/PYTHON-CODES/blob/main/hypothesis_testing.ipynb\" target=\"_parent\"><img src=\"https://colab.research.google.com/assets/colab-badge.svg\" alt=\"Open In Colab\"/></a>"
      ]
    },
    {
      "cell_type": "code",
      "metadata": {
        "id": "FbxnQCWvvN8P"
      },
      "source": [
        "import numpy as np\r\n",
        "from scipy import stats\r\n",
        "import pandas as pd"
      ],
      "execution_count": null,
      "outputs": []
    },
    {
      "cell_type": "code",
      "metadata": {
        "colab": {
          "base_uri": "https://localhost:8080/"
        },
        "id": "JEAYa05tvlSM",
        "outputId": "062e6469-7f18-4736-e081-7f616229272e"
      },
      "source": [
        "T_statistics=(4-6.5)/(3/np.sqrt(50))\r\n",
        "T_statistics"
      ],
      "execution_count": null,
      "outputs": [
        {
          "output_type": "execute_result",
          "data": {
            "text/plain": [
              "-5.892556509887896"
            ]
          },
          "metadata": {
            "tags": []
          },
          "execution_count": 4
        }
      ]
    },
    {
      "cell_type": "code",
      "metadata": {
        "colab": {
          "base_uri": "https://localhost:8080/"
        },
        "id": "1NA2t4twvn7Z",
        "outputId": "e38b200a-9d59-4ab0-9b7b-edd7a777b82b"
      },
      "source": [
        "2*stats.t.cdf(-5.89,df=49)"
      ],
      "execution_count": null,
      "outputs": [
        {
          "output_type": "execute_result",
          "data": {
            "text/plain": [
              "3.455969509076068e-07"
            ]
          },
          "metadata": {
            "tags": []
          },
          "execution_count": 10
        }
      ]
    },
    {
      "cell_type": "code",
      "metadata": {
        "id": "WeTnZDw8E4Bs"
      },
      "source": [
        "data = pd.Series([0.593,0.142,0.329,0.691,0.231,0.793,0.519,0.392,0.418])  "
      ],
      "execution_count": null,
      "outputs": []
    },
    {
      "cell_type": "code",
      "metadata": {
        "colab": {
          "base_uri": "https://localhost:8080/"
        },
        "id": "pCzlAJMCGIdA",
        "outputId": "8a3b0135-5a96-4b97-d3b0-69c457d309a7"
      },
      "source": [
        "p=stats.ttest_1samp(data,0.3)\r\n",
        "p"
      ],
      "execution_count": null,
      "outputs": [
        {
          "output_type": "execute_result",
          "data": {
            "text/plain": [
              "Ttest_1sampResult(statistic=2.2050588385131595, pvalue=0.05853032968489765)"
            ]
          },
          "metadata": {
            "tags": []
          },
          "execution_count": 16
        }
      ]
    },
    {
      "cell_type": "code",
      "metadata": {
        "id": "r5ww45-fX3Pf"
      },
      "source": [
        "control = pd.Series([91,87,99,77,88,91])\r\n",
        "treat = pd.Series([101,110,103,93,99,104])"
      ],
      "execution_count": null,
      "outputs": []
    },
    {
      "cell_type": "code",
      "metadata": {
        "colab": {
          "base_uri": "https://localhost:8080/"
        },
        "id": "n8kBE8Z4YUfl",
        "outputId": "4969a00f-2e47-42a1-9cd7-e546f0d05656"
      },
      "source": [
        "stats.ttest_ind(control,treat)"
      ],
      "execution_count": null,
      "outputs": [
        {
          "output_type": "execute_result",
          "data": {
            "text/plain": [
              "Ttest_indResult(statistic=-3.445612673536487, pvalue=0.006272124350809803)"
            ]
          },
          "metadata": {
            "tags": []
          },
          "execution_count": 18
        }
      ]
    },
    {
      "cell_type": "code",
      "metadata": {
        "id": "CGjafTHYYerY"
      },
      "source": [
        "n1=247\r\n",
        "p1= .37\r\n",
        "n2=308\r\n",
        "p2=.39"
      ],
      "execution_count": null,
      "outputs": []
    },
    {
      "cell_type": "code",
      "metadata": {
        "id": "Mf7FEgkicgmT"
      },
      "source": [
        "population1= np.random.binomial(1,p1,n1)\r\n",
        "population2= np.random.binomial(1,p2,n2)"
      ],
      "execution_count": null,
      "outputs": []
    },
    {
      "cell_type": "code",
      "metadata": {
        "colab": {
          "base_uri": "https://localhost:8080/"
        },
        "id": "UA0f_Yx5d1UD",
        "outputId": "f84f3c31-1555-436b-9b66-ab1dd3f5e491"
      },
      "source": [
        "population1.mean()\r\n",
        "  "
      ],
      "execution_count": null,
      "outputs": [
        {
          "output_type": "execute_result",
          "data": {
            "text/plain": [
              "0.3684210526315789"
            ]
          },
          "metadata": {
            "tags": []
          },
          "execution_count": 23
        }
      ]
    },
    {
      "cell_type": "code",
      "metadata": {
        "colab": {
          "base_uri": "https://localhost:8080/"
        },
        "id": "kt81U4aXgfwh",
        "outputId": "f96a383a-f8cd-4a7f-e5fc-ce04b9ac5dbd"
      },
      "source": [
        "import statsmodels.api as sm\r\n",
        "sm.stats.ttest_ind(population1,population2)"
      ],
      "execution_count": null,
      "outputs": [
        {
          "output_type": "stream",
          "text": [
            "/usr/local/lib/python3.6/dist-packages/statsmodels/tools/_testing.py:19: FutureWarning: pandas.util.testing is deprecated. Use the functions in the public API at pandas.testing instead.\n",
            "  import pandas.util.testing as tm\n"
          ],
          "name": "stderr"
        },
        {
          "output_type": "execute_result",
          "data": {
            "text/plain": [
              "(-0.5102529572298882, 0.6100778544601533, 553.0)"
            ]
          },
          "metadata": {
            "tags": []
          },
          "execution_count": 24
        }
      ]
    }
  ]
}